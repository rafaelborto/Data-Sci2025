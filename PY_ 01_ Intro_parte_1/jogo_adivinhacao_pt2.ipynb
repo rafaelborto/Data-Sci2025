{
 "cells": [
  {
   "cell_type": "code",
   "execution_count": 6,
   "id": "1a9ee2e2",
   "metadata": {},
   "outputs": [
    {
     "name": "stdout",
     "output_type": "stream",
     "text": [
      "****************************************\n",
      "Bem vindo ao jogo da adivinhação\n",
      "****************************************\n",
      "Digite o seu número: 45\n",
      "Você digitou 45\n",
      "Seu chute foi maior do que o número. Você errou! :(\n",
      "Fim de Jogo\n"
     ]
    }
   ],
   "source": [
    "print(40* \"*\")\n",
    "print(\"Bem vindo ao jogo da adivinhação\")\n",
    "print(40* \"*\")\n",
    "num_secreto  = 42\n",
    "chute = int(input(\"Digite o seu número: \"))\n",
    "print(\"Você digitou\", chute)\n",
    "\n",
    "acertou = chute == num_secreto\n",
    "maior = chute > num_secreto\n",
    "menor = chute < num_secreto\n",
    "\n",
    "if acertou:\n",
    "    print(\"Você acertou! :)\")\n",
    "else:\n",
    "    if maior:\n",
    "        print(\"Seu chute foi maior do que o número. Você errou! :(\")\n",
    "    elif menor:\n",
    "        print(\"Seu chute foi menor do que o número. Você errou! :(\")\n",
    "print(\"Fim de Jogo\")"
   ]
  },
  {
   "cell_type": "markdown",
   "id": "de05cff1",
   "metadata": {},
   "source": [
    "### Exercícios\n",
    "   "
   ]
  },
  {
   "cell_type": "markdown",
   "id": "6357b94e",
   "metadata": {},
   "source": [
    "Quando o usuário digitar 12, o que será mostrado no console?"
   ]
  },
  {
   "cell_type": "code",
   "execution_count": 7,
   "id": "0558b7ae",
   "metadata": {},
   "outputs": [
    {
     "name": "stdout",
     "output_type": "stream",
     "text": [
      "Digite sua idade: 12\n"
     ]
    }
   ],
   "source": [
    "idade_str = input(\"Digite sua idade: \")\n",
    "idade = int(idade_str)\n",
    "\n",
    "if (idade > 18):\n",
    "    print(\"Você é maior de idade.\")\n",
    "else:\n",
    "    if (idade < 12):\n",
    "        print(\"Você é uma criança.\")\n",
    "    elif (idade > 12):\n",
    "        print(\"Você é um adolescente.\")"
   ]
  },
  {
   "cell_type": "markdown",
   "id": "78be98e9",
   "metadata": {},
   "source": [
    "Nada!"
   ]
  },
  {
   "cell_type": "code",
   "execution_count": 9,
   "id": "7855583a",
   "metadata": {},
   "outputs": [
    {
     "name": "stdout",
     "output_type": "stream",
     "text": [
      "Informe o usuário do sistema!Jhonata\n",
      "Usuário não identificado!\n"
     ]
    }
   ],
   "source": [
    "usuario = input(\"Informe o usuário do sistema!\")\n",
    "\n",
    "if(usuario == \"Flávio\"):\n",
    "    print(\"Seja bem-vindo Flávio!\")\n",
    "elif(usuario == \"Douglas\"):\n",
    "    print(\"Seja bem-vindo Douglas!\")\n",
    "elif(usuario == \"Nico\"):\n",
    "    print(\"Seja bem-vindo Nico\")\n",
    "else:\n",
    "    print(\"Usuário não identificado!\")"
   ]
  },
  {
   "cell_type": "code",
   "execution_count": null,
   "id": "9ef9f866",
   "metadata": {},
   "outputs": [],
   "source": []
  }
 ],
 "metadata": {
  "kernelspec": {
   "display_name": "Python 3 (ipykernel)",
   "language": "python",
   "name": "python3"
  },
  "language_info": {
   "codemirror_mode": {
    "name": "ipython",
    "version": 3
   },
   "file_extension": ".py",
   "mimetype": "text/x-python",
   "name": "python",
   "nbconvert_exporter": "python",
   "pygments_lexer": "ipython3",
   "version": "3.9.7"
  }
 },
 "nbformat": 4,
 "nbformat_minor": 5
}
