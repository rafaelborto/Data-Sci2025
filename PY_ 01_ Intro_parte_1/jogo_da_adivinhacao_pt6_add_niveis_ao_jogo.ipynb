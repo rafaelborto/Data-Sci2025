{
 "cells": [
  {
   "cell_type": "code",
   "execution_count": 1,
   "id": "857e65ed",
   "metadata": {},
   "outputs": [],
   "source": [
    "import random"
   ]
  },
  {
   "cell_type": "code",
   "execution_count": 2,
   "id": "bd39d0ee",
   "metadata": {},
   "outputs": [
    {
     "data": {
      "text/plain": [
       "0.3608624105082382"
      ]
     },
     "execution_count": 2,
     "metadata": {},
     "output_type": "execute_result"
    }
   ],
   "source": [
    "random.random()"
   ]
  },
  {
   "cell_type": "code",
   "execution_count": 3,
   "id": "36b6b739",
   "metadata": {},
   "outputs": [
    {
     "data": {
      "text/plain": [
       "70.62663588888927"
      ]
     },
     "execution_count": 3,
     "metadata": {},
     "output_type": "execute_result"
    }
   ],
   "source": [
    "num = random.random() * 100\n",
    "num"
   ]
  },
  {
   "cell_type": "code",
   "execution_count": 4,
   "id": "b1ebc1de",
   "metadata": {},
   "outputs": [
    {
     "data": {
      "text/plain": [
       "71"
      ]
     },
     "execution_count": 4,
     "metadata": {},
     "output_type": "execute_result"
    }
   ],
   "source": [
    "round(num)"
   ]
  },
  {
   "cell_type": "code",
   "execution_count": 5,
   "id": "53368fe1",
   "metadata": {},
   "outputs": [
    {
     "data": {
      "text/plain": [
       "70"
      ]
     },
     "execution_count": 5,
     "metadata": {},
     "output_type": "execute_result"
    }
   ],
   "source": [
    "int(num)"
   ]
  },
  {
   "cell_type": "code",
   "execution_count": 6,
   "id": "4bc72869",
   "metadata": {},
   "outputs": [
    {
     "name": "stdout",
     "output_type": "stream",
     "text": [
      "****************************************\n",
      "Bem vindo ao jogo da adivinhação\n",
      "****************************************\n"
     ]
    }
   ],
   "source": [
    "print(40* \"*\")\n",
    "print(\"Bem vindo ao jogo da adivinhação\")\n",
    "print(40* \"*\")\n",
    "\n",
    "num_secreto  = round(random.random() * 100)\n",
    "chances = 4\n",
    "rodada = 1"
   ]
  },
  {
   "cell_type": "code",
   "execution_count": 7,
   "id": "910e288a",
   "metadata": {},
   "outputs": [
    {
     "name": "stdout",
     "output_type": "stream",
     "text": [
      "Você tem 4 chances para acertar!\n",
      "Tentativa 1 de 4\n",
      "Digite o seu número entre 1 e 100: 12\n",
      "Você digitou 12.\n",
      "Seu chute foi menor do que o número. Você errou! :(\n",
      "Tentativa 2 de 4\n",
      "Digite o seu número entre 1 e 100: 32\n",
      "Você digitou 32.\n",
      "Seu chute foi maior do que o número. Você errou! :(\n",
      "Tentativa 3 de 4\n",
      "Digite o seu número entre 1 e 100: 42\n",
      "Você digitou 42.\n",
      "Seu chute foi maior do que o número. Você errou! :(\n",
      "Tentativa 4 de 4\n",
      "Digite o seu número entre 1 e 100: 3\n",
      "Você digitou 3.\n",
      "Seu chute foi menor do que o número. Você errou! :(\n",
      "O número secreto era 23\n",
      "Fim de Jogo\n"
     ]
    }
   ],
   "source": [
    "print(\"Você tem\", chances, \"chances para acertar!\")\n",
    "\n",
    "for rodada in range(1, chances + 1):\n",
    "    \n",
    "    print(\"Tentativa {} de {}\".format(rodada, chances))\n",
    "    chute = int(input(\"Digite o seu número entre 1 e 100: \"))\n",
    "    print(\"Você digitou\", chute, end='.')\n",
    "    \n",
    "    if chute < 1 or chute > 100:\n",
    "        print(\"\\nEsse número não é válido\")\n",
    "        continue\n",
    "\n",
    "    acertou = chute == num_secreto\n",
    "    maior = chute > num_secreto\n",
    "    menor = chute < num_secreto\n",
    "\n",
    "    if acertou:\n",
    "        print(\"\\nVocê acertou! :)\")\n",
    "        break\n",
    "    else:\n",
    "        if maior:\n",
    "            print(\"\\nSeu chute foi maior do que o número. Você errou! :(\")\n",
    "        elif menor:\n",
    "            print(\"\\nSeu chute foi menor do que o número. Você errou! :(\")\n",
    "print(f'O número secreto era {num_secreto}')\n",
    "print(\"Fim de Jogo\")"
   ]
  },
  {
   "cell_type": "markdown",
   "id": "f81c41f9",
   "metadata": {},
   "source": [
    "### função random.randrange()"
   ]
  },
  {
   "cell_type": "code",
   "execution_count": null,
   "id": "24a89bba",
   "metadata": {},
   "outputs": [],
   "source": [
    "## random.randrange(0,101,2) Vai do 0 ao 100 (último valor -1), de 2 em 2."
   ]
  },
  {
   "cell_type": "code",
   "execution_count": null,
   "id": "352c1a2e",
   "metadata": {},
   "outputs": [],
   "source": [
    "print(40* \"*\")\n",
    "print(\"Bem vindo ao jogo da adivinhação\")\n",
    "print(40* \"*\")\n",
    "\n",
    "num_secreto  = round(random.randrange(1,101))\n",
    "chances = 0\n",
    "rodada = 1\n",
    "\n",
    "print('Qual nível de dificuldade você quer?'\n",
    "        '\\n(1) Fácil'\n",
    "        '\\n(2) Médio'\n",
    "        '\\n(3) Difícil')\n",
    "nivel = int(input(\"Defina o nível: \")\n",
    "\n",
    "if nivel == 1:\n",
    "            chances = 10\n",
    "elif nivel == 2:\n",
    "            chances = 7\n",
    "else:\n",
    "            chances = 5\n",
    "            \n",
    "print(\"Você tem\", chances, \"chances para acertar!\")\n",
    "\n",
    "for rodada in range(1, chances + 1):\n",
    "    \n",
    "    print(\"Tentativa {} de {}\".format(rodada, chances))\n",
    "    chute = int(input(\"Digite o seu número entre 1 e 100: \"))\n",
    "    print(\"Você digitou\", chute, end='.')\n",
    "    \n",
    "    if chute < 1 or chute > 100:\n",
    "        print(\"\\nEsse número não é válido\")\n",
    "        continue\n",
    "\n",
    "    acertou = chute == num_secreto\n",
    "    maior = chute > num_secreto\n",
    "    menor = chute < num_secreto\n",
    "\n",
    "    if acertou:\n",
    "        print(\"\\nVocê acertou! :)\")\n",
    "        break\n",
    "    else:\n",
    "        if maior:\n",
    "            print(\"\\nSeu chute foi maior do que o número. Você errou! :(\")\n",
    "        elif menor:\n",
    "            print(\"\\nSeu chute foi menor do que o número. Você errou! :(\")\n",
    "print(f'O número secreto era {num_secreto}!')\n",
    "print(\"Fim de Jogo\")\n",
    "\n"
   ]
  },
  {
   "cell_type": "code",
   "execution_count": 9,
   "id": "17a61921",
   "metadata": {},
   "outputs": [],
   "source": []
  },
  {
   "cell_type": "code",
   "execution_count": null,
   "id": "38495a8c",
   "metadata": {},
   "outputs": [],
   "source": []
  }
 ],
 "metadata": {
  "kernelspec": {
   "display_name": "Python 3 (ipykernel)",
   "language": "python",
   "name": "python3"
  },
  "language_info": {
   "codemirror_mode": {
    "name": "ipython",
    "version": 3
   },
   "file_extension": ".py",
   "mimetype": "text/x-python",
   "name": "python",
   "nbconvert_exporter": "python",
   "pygments_lexer": "ipython3",
   "version": "3.9.7"
  }
 },
 "nbformat": 4,
 "nbformat_minor": 5
}
