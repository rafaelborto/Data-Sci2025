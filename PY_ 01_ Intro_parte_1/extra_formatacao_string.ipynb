{
 "cells": [
  {
   "cell_type": "code",
   "execution_count": 2,
   "id": "bb7bf7c0",
   "metadata": {},
   "outputs": [
    {
     "name": "stdout",
     "output_type": "stream",
     "text": [
      "Ola Sr.Leonardo Cordeiro\n"
     ]
    }
   ],
   "source": [
    "print(\"Ola Sr.{1} {0}\".format(\"Cordeiro\",\"Leonardo\")) #se quiser imprimir o segundo parâmentro primeiro"
   ]
  },
  {
   "cell_type": "markdown",
   "id": "c6c3e8ae",
   "metadata": {},
   "source": [
    "### imprimir um float"
   ]
  },
  {
   "cell_type": "code",
   "execution_count": 5,
   "id": "3a495c05",
   "metadata": {},
   "outputs": [
    {
     "name": "stdout",
     "output_type": "stream",
     "text": [
      "R$ 1.590000\n"
     ]
    }
   ],
   "source": [
    "print(\"R$ {:f}\".format(1.59))"
   ]
  },
  {
   "cell_type": "code",
   "execution_count": 6,
   "id": "72aa5544",
   "metadata": {},
   "outputs": [
    {
     "name": "stdout",
     "output_type": "stream",
     "text": [
      "R$ 1.59\n"
     ]
    }
   ],
   "source": [
    "print(\"R$ {:.2f}\".format(1.59))"
   ]
  },
  {
   "cell_type": "code",
   "execution_count": 8,
   "id": "63b83ad6",
   "metadata": {},
   "outputs": [
    {
     "name": "stdout",
     "output_type": "stream",
     "text": [
      "R$ 1234.50\n"
     ]
    }
   ],
   "source": [
    "print(\"R$ {:7.2f}\".format(1234.50))"
   ]
  },
  {
   "cell_type": "code",
   "execution_count": 11,
   "id": "942b2e6e",
   "metadata": {},
   "outputs": [
    {
     "name": "stdout",
     "output_type": "stream",
     "text": [
      "R$    1.50\n",
      "R$ 1.59\n",
      "R$ 0001.50\n"
     ]
    }
   ],
   "source": [
    "print(\"R$ {:7.2f}\".format(1.5))\n",
    "print(\"R$ {:.2f}\".format(1.59))\n",
    "print(\"R$ {:07.2f}\".format(1.5))\n"
   ]
  },
  {
   "cell_type": "code",
   "execution_count": null,
   "id": "f40e9a93",
   "metadata": {},
   "outputs": [],
   "source": []
  }
 ],
 "metadata": {
  "kernelspec": {
   "display_name": "Python 3 (ipykernel)",
   "language": "python",
   "name": "python3"
  },
  "language_info": {
   "codemirror_mode": {
    "name": "ipython",
    "version": 3
   },
   "file_extension": ".py",
   "mimetype": "text/x-python",
   "name": "python",
   "nbconvert_exporter": "python",
   "pygments_lexer": "ipython3",
   "version": "3.9.7"
  }
 },
 "nbformat": 4,
 "nbformat_minor": 5
}
