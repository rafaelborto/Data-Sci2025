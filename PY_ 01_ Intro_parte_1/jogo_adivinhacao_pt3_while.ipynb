{
 "cells": [
  {
   "cell_type": "code",
   "execution_count": null,
   "id": "03ee7969",
   "metadata": {},
   "outputs": [],
   "source": [
    "print(40* \"*\")\n",
    "print(\"Bem vindo ao jogo da adivinhação\")\n",
    "print(40* \"*\")\n",
    "\n",
    "num_secreto  = 42\n",
    "chances = 3\n",
    "rodada = 1\n",
    "tentativas = chances\n",
    "\n",
    "print(\"Você tem 3\", chances, \"para acertar!\")\n",
    "\n",
    "while (tentativas > 0):\n",
    "    print(\"Tentativa\", rodada, \"de\", chances)\n",
    "    chute = int(input(\"Digite o seu número: \"))\n",
    "    print(\"Você digitou\", chute, end='.')\n",
    "\n",
    "    acertou = chute == num_secreto\n",
    "    maior = chute > num_secreto\n",
    "    menor = chute < num_secreto\n",
    "\n",
    "    if acertou:\n",
    "        print(\"\\n Você acertou! :)\")\n",
    "    else:\n",
    "        if maior:\n",
    "            print(\"\\nSeu chute foi maior do que o número. Você errou! :(\")\n",
    "        elif menor:\n",
    "            print(\"\\nSeu chute foi menor do que o número. Você errou! :(\")\n",
    "    tentativas = tentativas - 1\n",
    "    rodada = rodada + 1\n",
    "print(\"Fim de Jogo\")"
   ]
  },
  {
   "cell_type": "code",
   "execution_count": null,
   "id": "35a327a0",
   "metadata": {},
   "outputs": [],
   "source": []
  }
 ],
 "metadata": {
  "kernelspec": {
   "display_name": "Python 3 (ipykernel)",
   "language": "python",
   "name": "python3"
  },
  "language_info": {
   "codemirror_mode": {
    "name": "ipython",
    "version": 3
   },
   "file_extension": ".py",
   "mimetype": "text/x-python",
   "name": "python",
   "nbconvert_exporter": "python",
   "pygments_lexer": "ipython3",
   "version": "3.9.7"
  }
 },
 "nbformat": 4,
 "nbformat_minor": 5
}
