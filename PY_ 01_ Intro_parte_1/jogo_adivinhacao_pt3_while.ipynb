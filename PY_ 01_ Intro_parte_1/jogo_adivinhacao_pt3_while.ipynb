{
 "cells": [
  {
   "cell_type": "code",
   "execution_count": 15,
   "id": "03ee7969",
   "metadata": {},
   "outputs": [
    {
     "name": "stdout",
     "output_type": "stream",
     "text": [
      "****************************************\n",
      "Bem vindo ao jogo da adivinhação\n",
      "****************************************\n"
     ]
    }
   ],
   "source": [
    "print(40* \"*\")\n",
    "print(\"Bem vindo ao jogo da adivinhação\")\n",
    "print(40* \"*\")\n",
    "\n",
    "num_secreto  = 42\n",
    "chances = 3\n",
    "rodada = 1\n",
    "tentativas = chances"
   ]
  },
  {
   "cell_type": "code",
   "execution_count": 16,
   "id": "35a327a0",
   "metadata": {},
   "outputs": [
    {
     "name": "stdout",
     "output_type": "stream",
     "text": [
      "Você tem 3 chances para acertar!\n",
      "Tentativa 1 de 3\n",
      "Digite o seu número: 23\n",
      "Você digitou 23.\n",
      "Seu chute foi menor do que o número. Você errou! :(\n",
      "Tentativa 2 de 3\n",
      "Digite o seu número: 43\n",
      "Você digitou 43.\n",
      "Seu chute foi maior do que o número. Você errou! :(\n",
      "Tentativa 3 de 3\n",
      "Digite o seu número: 54\n",
      "Você digitou 54.\n",
      "Seu chute foi maior do que o número. Você errou! :(\n",
      "Fim de Jogo\n"
     ]
    }
   ],
   "source": [
    "print(\"Você tem\", chances, \"chances para acertar!\")\n",
    "\n",
    "while (tentativas > 0):\n",
    "    #print(\"Tentativa\", rodada, \"de\", chances)\n",
    "    print(\"Tentativa {} de {}\".format(rodada, chances))\n",
    "    chute = int(input(\"Digite o seu número: \"))\n",
    "    print(\"Você digitou\", chute, end='.')\n",
    "\n",
    "    acertou = chute == num_secreto\n",
    "    maior = chute > num_secreto\n",
    "    menor = chute < num_secreto\n",
    "\n",
    "    if acertou:\n",
    "        print(\"\\n Você acertou! :)\")\n",
    "    else:\n",
    "        if maior:\n",
    "            print(\"\\nSeu chute foi maior do que o número. Você errou! :(\")\n",
    "        elif menor:\n",
    "            print(\"\\nSeu chute foi menor do que o número. Você errou! :(\")\n",
    "    tentativas = tentativas - 1\n",
    "    rodada = rodada + 1\n",
    "print(\"Fim de Jogo\")"
   ]
  },
  {
   "cell_type": "markdown",
   "id": "fafd5bb8",
   "metadata": {},
   "source": [
    "## outra forma seria"
   ]
  },
  {
   "cell_type": "code",
   "execution_count": 9,
   "id": "1941788d",
   "metadata": {},
   "outputs": [],
   "source": [
    "num_secreto  = 42\n",
    "chances = 3\n",
    "rodada = 1"
   ]
  },
  {
   "cell_type": "code",
   "execution_count": 10,
   "id": "b4cdb746",
   "metadata": {},
   "outputs": [
    {
     "name": "stdout",
     "output_type": "stream",
     "text": [
      "Você tem 3 chances para acertar!\n",
      "Tentativa 1 de 3\n",
      "Digite o seu número: 32\n",
      "Você digitou 32.\n",
      "Seu chute foi menor do que o número. Você errou! :(\n",
      "Tentativa 2 de 3\n",
      "Digite o seu número: 45\n",
      "Você digitou 45.\n",
      "Seu chute foi maior do que o número. Você errou! :(\n",
      "Tentativa 3 de 3\n",
      "Digite o seu número: 65\n",
      "Você digitou 65.\n",
      "Seu chute foi maior do que o número. Você errou! :(\n",
      "Fim de Jogo\n"
     ]
    }
   ],
   "source": [
    "print(\"Você tem\", chances, \"chances para acertar!\")\n",
    "\n",
    "while (rodada <= chances):\n",
    "    print(\"Tentativa {} de {}\".format(rodada, chances))\n",
    "    chute = int(input(\"Digite o seu número: \"))\n",
    "    print(\"Você digitou\", chute, end='.')\n",
    "\n",
    "    acertou = chute == num_secreto\n",
    "    maior = chute > num_secreto\n",
    "    menor = chute < num_secreto\n",
    "\n",
    "    if acertou:\n",
    "        print(\"\\n Você acertou! :)\")\n",
    "    else:\n",
    "        if maior:\n",
    "            print(\"\\nSeu chute foi maior do que o número. Você errou! :(\")\n",
    "        elif menor:\n",
    "            print(\"\\nSeu chute foi menor do que o número. Você errou! :(\")\n",
    "    rodada = rodada + 1\n",
    "print(\"Fim de Jogo\")"
   ]
  },
  {
   "cell_type": "code",
   "execution_count": null,
   "id": "5576fec8",
   "metadata": {},
   "outputs": [],
   "source": []
  }
 ],
 "metadata": {
  "kernelspec": {
   "display_name": "Python 3 (ipykernel)",
   "language": "python",
   "name": "python3"
  },
  "language_info": {
   "codemirror_mode": {
    "name": "ipython",
    "version": 3
   },
   "file_extension": ".py",
   "mimetype": "text/x-python",
   "name": "python",
   "nbconvert_exporter": "python",
   "pygments_lexer": "ipython3",
   "version": "3.9.7"
  }
 },
 "nbformat": 4,
 "nbformat_minor": 5
}
