{
 "cells": [
  {
   "cell_type": "markdown",
   "metadata": {
    "id": "c7dqTdulhz_z"
   },
   "source": [
    "# Formação Cientista de Dados\n",
    "Prof. Fernando Amaral"
   ]
  },
  {
   "cell_type": "markdown",
   "metadata": {},
   "source": [
    "## Dicionários"
   ]
  },
  {
   "cell_type": "code",
   "execution_count": 226,
   "metadata": {
    "colab": {
     "base_uri": "https://localhost:8080/"
    },
    "id": "QXI-bzfvcko9",
    "outputId": "34a6c4b5-9595-4350-8608-c59c3b564d48"
   },
   "outputs": [
    {
     "name": "stdout",
     "output_type": "stream",
     "text": [
      "{'João': 6.0, 'Maria': 8.0, 'Pedro': 6.5}\n"
     ]
    }
   ],
   "source": [
    "#dicionários: estrutura chave/valor\n",
    "# VÊM ENTRE CHAVES {} E SÃO SEPARADOS AS KEYS SÃO SEPARADOS POR DOIS PONTOS (:) DO VALUE\n",
    "Notas = {'João': 6.0, 'Maria': 8.0, 'Pedro': 6.5}\n",
    "print(Notas) #PRINTA O DICIONÁRIO"
   ]
  },
  {
   "cell_type": "code",
   "execution_count": null,
   "metadata": {},
   "outputs": [],
   "source": []
  },
  {
   "cell_type": "code",
   "execution_count": 209,
   "metadata": {
    "colab": {
     "base_uri": "https://localhost:8080/"
    },
    "id": "4nAIdxOcc8ya",
    "outputId": "f02d5c92-9ac8-4265-94e6-952be4b154f1"
   },
   "outputs": [
    {
     "name": "stdout",
     "output_type": "stream",
     "text": [
      "6.0\n"
     ]
    },
    {
     "data": {
      "text/plain": [
       "{'João': 6.0, 'Maria': 8.0, 'Pedro': 6.5}"
      ]
     },
     "execution_count": 209,
     "metadata": {},
     "output_type": "execute_result"
    }
   ],
   "source": [
    "print(Notas['João']) #POSSO IMPRIMIR UMA CHAVE\n",
    "#QUAL A NOTA DE JOÃO?"
   ]
  },
  {
   "cell_type": "code",
   "execution_count": 141,
   "metadata": {
    "colab": {
     "base_uri": "https://localhost:8080/"
    },
    "id": "jUhrWDmFdH9R",
    "outputId": "8395c0f4-b4e0-4cbe-db13-04b34cc70275"
   },
   "outputs": [
    {
     "data": {
      "text/plain": [
       "dict_keys(['João', 'Maria', 'Pedro'])"
      ]
     },
     "execution_count": 141,
     "metadata": {},
     "output_type": "execute_result"
    }
   ],
   "source": [
    "#Todas as CHAVES DO DICIONÁRIO\n",
    "Notas.keys()"
   ]
  },
  {
   "cell_type": "code",
   "execution_count": 143,
   "metadata": {
    "colab": {
     "base_uri": "https://localhost:8080/"
    },
    "id": "fYGMVl6MdS6z",
    "outputId": "be52421c-5331-4c95-c30f-81b8853a96bf"
   },
   "outputs": [
    {
     "data": {
      "text/plain": [
       "dict_values([6.0, 8.0, 6.5])"
      ]
     },
     "execution_count": 143,
     "metadata": {},
     "output_type": "execute_result"
    }
   ],
   "source": [
    "#todos os VALORES DO DICIONÁRIO\n",
    "Notas.values()"
   ]
  },
  {
   "cell_type": "code",
   "execution_count": 145,
   "metadata": {
    "colab": {
     "base_uri": "https://localhost:8080/"
    },
    "id": "DjBy4ZvsdX2a",
    "outputId": "4c230066-ea9f-4153-a358-1dba04ded5d7"
   },
   "outputs": [
    {
     "name": "stdout",
     "output_type": "stream",
     "text": [
      "True\n",
      "False\n"
     ]
    }
   ],
   "source": [
    "#Testa logicamente a existência\n",
    "print('João' in Notas) #ME RESPONDE SE AQUELA CHAVE ESTÁ NO DICIONÁRIO\n",
    "print('Fernando' in Notas)"
   ]
  },
  {
   "cell_type": "code",
   "execution_count": 147,
   "metadata": {},
   "outputs": [
    {
     "name": "stdout",
     "output_type": "stream",
     "text": [
      "False\n"
     ]
    }
   ],
   "source": [
    "#SERVE PARA DIZER SE O VALOR TAMBÉM ESTÁ?\n",
    "print(6.0 in Notas)\n",
    "#PARECE QUE NÃO"
   ]
  },
  {
   "cell_type": "markdown",
   "metadata": {},
   "source": [
    "### APAGA UM ELEMENTO\n"
   ]
  },
  {
   "cell_type": "code",
   "execution_count": 150,
   "metadata": {
    "colab": {
     "base_uri": "https://localhost:8080/"
    },
    "id": "hmx--lsNdgkj",
    "outputId": "7d5373fd-d145-47b3-ffd0-38c4d3ca11dc"
   },
   "outputs": [
    {
     "name": "stdout",
     "output_type": "stream",
     "text": [
      "{'Maria': 8.0, 'Pedro': 6.5}\n"
     ]
    }
   ],
   "source": [
    "del Notas['João']\n",
    "print(Notas)"
   ]
  },
  {
   "cell_type": "code",
   "execution_count": 152,
   "metadata": {},
   "outputs": [
    {
     "name": "stdout",
     "output_type": "stream",
     "text": [
      "{'Maria': 8.0}\n"
     ]
    }
   ],
   "source": [
    "del Notas['Pedro']\n",
    "print(Notas)"
   ]
  },
  {
   "cell_type": "markdown",
   "metadata": {},
   "source": [
    "### INCLUIR ELEMENTO NO DICIONÁRIO"
   ]
  },
  {
   "cell_type": "code",
   "execution_count": 156,
   "metadata": {
    "colab": {
     "base_uri": "https://localhost:8080/"
    },
    "id": "suEjj2tWdqfB",
    "outputId": "5dfa4d44-c2e7-4554-b11f-77e17213a0d9"
   },
   "outputs": [
    {
     "name": "stdout",
     "output_type": "stream",
     "text": [
      "{'Maria': 8.0, 'Ana': 9}\n"
     ]
    }
   ],
   "source": [
    "#inclui um elemento\n",
    "Notas['Ana'] = 9\n",
    "print(Notas)"
   ]
  },
  {
   "cell_type": "code",
   "execution_count": 166,
   "metadata": {},
   "outputs": [],
   "source": [
    "#SE EU QUISER SABER QUEM TEM O VALOR 8?\n",
    "# print(Notas[8.0]) DÁ ERRO"
   ]
  },
  {
   "cell_type": "code",
   "execution_count": 172,
   "metadata": {},
   "outputs": [
    {
     "name": "stdout",
     "output_type": "stream",
     "text": [
      "{'Maria': 8.0, 'Ana': 9, 'Rafael': 10.0}\n"
     ]
    },
    {
     "data": {
      "text/plain": [
       "float"
      ]
     },
     "execution_count": 172,
     "metadata": {},
     "output_type": "execute_result"
    }
   ],
   "source": [
    "Notas['Rafael'] = float(10)\n",
    "print(Notas)\n",
    "type(Notas['Rafael'])"
   ]
  },
  {
   "cell_type": "code",
   "execution_count": 176,
   "metadata": {
    "colab": {
     "base_uri": "https://localhost:8080/",
     "height": 36
    },
    "id": "yu483JMyd5yz",
    "outputId": "f68a25a0-0e7e-48fa-9814-a31143f0034d"
   },
   "outputs": [
    {
     "data": {
      "text/plain": [
       "'Não encontrado!'"
      ]
     },
     "execution_count": 176,
     "metadata": {},
     "output_type": "execute_result"
    }
   ],
   "source": [
    "#busca um valor, se não encontrar mostra segundo parametro\n",
    "Notas.get('Geraldo',\"Não encontrado!\")"
   ]
  },
  {
   "cell_type": "code",
   "execution_count": 188,
   "metadata": {},
   "outputs": [
    {
     "data": {
      "text/plain": [
       "'Foi excluído!!!'"
      ]
     },
     "execution_count": 188,
     "metadata": {},
     "output_type": "execute_result"
    }
   ],
   "source": [
    "Notas.get('Pedro', 'Foi excluído!!!')"
   ]
  },
  {
   "cell_type": "markdown",
   "metadata": {},
   "source": [
    "## SETS"
   ]
  },
  {
   "cell_type": "code",
   "execution_count": 79,
   "metadata": {
    "colab": {
     "base_uri": "https://localhost:8080/"
    },
    "id": "GafhrtB2eJd7",
    "outputId": "5e98bb10-1834-4b35-9081-a6665f69e689"
   },
   "outputs": [
    {
     "name": "stdout",
     "output_type": "stream",
     "text": [
      "{'Hive', 'Spark', 'Sqoop'}\n"
     ]
    }
   ],
   "source": [
    "#sets são conjuntos NÃO ORDENADOS de elementos NÃO REPETIDOS\n",
    "\n",
    "bigdata = {'Spark', 'Hive', \"Sqoop\"}\n",
    "print(bigdata)"
   ]
  },
  {
   "cell_type": "code",
   "execution_count": 81,
   "metadata": {
    "colab": {
     "base_uri": "https://localhost:8080/"
    },
    "id": "WcW3f5nzeaCC",
    "outputId": "c88b2620-5a2f-475e-8fb0-a01e65c6244b"
   },
   "outputs": [
    {
     "name": "stdout",
     "output_type": "stream",
     "text": [
      "True\n"
     ]
    }
   ],
   "source": [
    "#verifica existência\n",
    "print('Spark' in bigdata)"
   ]
  },
  {
   "cell_type": "code",
   "execution_count": 192,
   "metadata": {
    "colab": {
     "base_uri": "https://localhost:8080/"
    },
    "id": "qJw0n8SOfCEL",
    "outputId": "25583f22-cdf9-4cd1-e4c4-e4385311e6fb"
   },
   "outputs": [
    {
     "data": {
      "text/plain": [
       "{'Hadoop', 'Hive', 'Spark', 'Sqoop'}"
      ]
     },
     "execution_count": 192,
     "metadata": {},
     "output_type": "execute_result"
    }
   ],
   "source": [
    "#adiciona elemento\n",
    "\n",
    "bigdata.add('Hadoop')\n",
    "bigdata\n",
    "\n",
    "# DIFERENTE DE ADICONAR NO DICIONÁRIO \n",
    "# NO DICIONÁRIOS NomeDoDicionário['KEY'] = VALUE\n",
    "# NO SET EU USO O MÉTODO NomeDoSet.ADD('VALUE')"
   ]
  },
  {
   "cell_type": "code",
   "execution_count": 194,
   "metadata": {
    "colab": {
     "base_uri": "https://localhost:8080/"
    },
    "id": "Bh2WHDCbfKHa",
    "outputId": "344940cb-0b7e-4480-e9b8-bfc668489f94"
   },
   "outputs": [
    {
     "name": "stdout",
     "output_type": "stream",
     "text": [
      "4\n"
     ]
    }
   ],
   "source": [
    "#número de elementos\n",
    "\n",
    "print(len(bigdata)) #RETORNA A QUANTIDADE DE ELEMENTOS, CONTAGEM COMEÇA COM 1"
   ]
  },
  {
   "cell_type": "code",
   "execution_count": 198,
   "metadata": {
    "colab": {
     "base_uri": "https://localhost:8080/"
    },
    "id": "t3OHK_jVfPPK",
    "outputId": "a213b821-ef7a-4f0f-8220-4a606467f6bb"
   },
   "outputs": [
    {
     "data": {
      "text/plain": [
       "{'Hadoop', 'Hive', 'Spark', 'Sqoop'}"
      ]
     },
     "execution_count": 198,
     "metadata": {},
     "output_type": "execute_result"
    }
   ],
   "source": [
    "bigdata.add(\"Spark\")\n",
    "bigdata\n",
    "# NÃO ADICIONOU ELEMENTO REPETIDO!! - NO SET NÃO PODE HAVER VALORES REPETIDOS\n",
    "# NOTE QUE MUDOU A ORDEM DOS ELEMENTOS PARA ALFABÉTICA CRESCENTE\n",
    "# SÃO ELEMENTOS NÃO ORDENADOS, POR ISSO MUDAM A ORDEM MESMO QUE EU NÃO PEÇA\n"
   ]
  },
  {
   "cell_type": "markdown",
   "metadata": {},
   "source": [
    "## TUPLAS"
   ]
  },
  {
   "cell_type": "code",
   "execution_count": 201,
   "metadata": {
    "colab": {
     "base_uri": "https://localhost:8080/"
    },
    "id": "78RiSwRNflhb",
    "outputId": "48c93e57-6529-44ab-9cf0-33220ad46d90"
   },
   "outputs": [
    {
     "data": {
      "text/plain": [
       "(1, 2, 3, 4, 5, 6, 7)"
      ]
     },
     "execution_count": 201,
     "metadata": {},
     "output_type": "execute_result"
    }
   ],
   "source": [
    "# tuplas são LISTAS que NÃO PODEM SER ALTERADAS\n",
    "# listas usam [], tuplas usam ()\n",
    "tupla = (1,2,3,4,5,6,7)\n",
    "tupla"
   ]
  },
  {
   "cell_type": "code",
   "execution_count": 203,
   "metadata": {
    "colab": {
     "base_uri": "https://localhost:8080/"
    },
    "id": "CPcpjOVEf1GK",
    "outputId": "ca26155b-948c-4d85-9008-f90b4b5f74ca"
   },
   "outputs": [
    {
     "data": {
      "text/plain": [
       "5"
      ]
     },
     "execution_count": 203,
     "metadata": {},
     "output_type": "execute_result"
    }
   ],
   "source": [
    "tupla[4] # INDEXADA EM ZERO, A CONTAGEM COMEÇA COMO ELEMENTO ZERO, 1, 2, 3, 4, 5 e 6, NESTE CASO."
   ]
  },
  {
   "cell_type": "code",
   "execution_count": 93,
   "metadata": {
    "colab": {
     "base_uri": "https://localhost:8080/"
    },
    "id": "p4IQaJDof3fS",
    "outputId": "b7c5adc7-c18e-4588-f12d-85a1a28c3a5b"
   },
   "outputs": [
    {
     "data": {
      "text/plain": [
       "{(0, 1): 0,\n",
       " (1, 2): 1,\n",
       " (2, 3): 2,\n",
       " (3, 4): 3,\n",
       " (4, 5): 4,\n",
       " (5, 6): 5,\n",
       " (6, 7): 6,\n",
       " (7, 8): 7,\n",
       " (8, 9): 8,\n",
       " (9, 10): 9}"
      ]
     },
     "execution_count": 93,
     "metadata": {},
     "output_type": "execute_result"
    }
   ],
   "source": [
    "#dicionários em que cada posição recebe uma tupla\n",
    "dic2 = {(0, 1): 0, (1, 2): 1, (2, 3): 2, (3, 4): 3, (4, 5): 4,(5, 6): 5, (6, 7): 6, (7, 8): 7, (8, 9): 8, (9, 10): 9}\n",
    "dic2"
   ]
  },
  {
   "cell_type": "code",
   "execution_count": 95,
   "metadata": {
    "colab": {
     "base_uri": "https://localhost:8080/"
    },
    "id": "8fWW_G06hUUc",
    "outputId": "a744e6b7-ede0-403c-f759-8325d9d8c621"
   },
   "outputs": [
    {
     "name": "stdout",
     "output_type": "stream",
     "text": [
      "<class 'dict'>\n",
      "<class 'set'>\n",
      "<class 'tuple'>\n"
     ]
    }
   ],
   "source": [
    "print(type(Notas))\n",
    "print(type(bigdata))\n",
    "print(type(tupla))"
   ]
  },
  {
   "cell_type": "code",
   "execution_count": 215,
   "metadata": {},
   "outputs": [
    {
     "data": {
      "text/plain": [
       "{(0, 'oi'): 2, (1, 'tchau'): 3, (4, 5): 4, (5, 6): 5, (6, 7): 6}"
      ]
     },
     "execution_count": 215,
     "metadata": {},
     "output_type": "execute_result"
    }
   ],
   "source": [
    "dic3 = {(0, 'oi'): 2, (1, 'tchau'): 3, (4, 5): 4,(5, 6): 5, (6, 7): 6}\n",
    "dic3"
   ]
  },
  {
   "cell_type": "code",
   "execution_count": 217,
   "metadata": {},
   "outputs": [],
   "source": [
    "# TUPLAS ACEITAM, COMO AS LISTAS, VALORES DE TIPOS DIFERENTES\n",
    "# NO EXEMPLO DE CIMA TEMOS STR E INT"
   ]
  },
  {
   "cell_type": "markdown",
   "metadata": {},
   "source": [
    "### LISTAS = LIST = [ ] \n",
    "ORDENADA, PODE TER VALORES REPETIDOS, PODE SER MODIFICADA\n",
    "### DICIONÁRIOS = DICT = {'KEY': VALUE}\n",
    "NÃO RETORNA VALOR SE PROCURAR POR INDEX, PODE TER VALORES REPETIDOS, PODE SER MODIFICADA\n",
    "### SETS = SET = {VALUE}\n",
    "NÃO TEM ORDEM, NÃO PODE CONTER VALORES REPETIDOS, PODE SER MODIFICADO\n",
    "### TUPLAS = TUPLE = ( )\n",
    "SÃO LISTAS QUE NÃO PODEM SER MODIFICADAS"
   ]
  }
 ],
 "metadata": {
  "colab": {
   "name": "dicsettuplas.ipynb",
   "provenance": []
  },
  "kernelspec": {
   "display_name": "Python 3 (ipykernel)",
   "language": "python",
   "name": "python3"
  },
  "language_info": {
   "codemirror_mode": {
    "name": "ipython",
    "version": 3
   },
   "file_extension": ".py",
   "mimetype": "text/x-python",
   "name": "python",
   "nbconvert_exporter": "python",
   "pygments_lexer": "ipython3",
   "version": "3.12.7"
  }
 },
 "nbformat": 4,
 "nbformat_minor": 4
}
