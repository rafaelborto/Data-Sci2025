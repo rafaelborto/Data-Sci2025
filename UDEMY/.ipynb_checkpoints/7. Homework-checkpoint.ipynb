{
 "cells": [
  {
   "cell_type": "markdown",
   "metadata": {
    "id": "3g-qEi2D1oUP"
   },
   "source": [
    "# Homework | module 3 > week 10 > day 24 <hr style=\"border:4.5px solid #108999\"> </hr>"
   ]
  },
  {
   "cell_type": "markdown",
   "metadata": {
    "id": "ZQOAbk_x1oUU"
   },
   "source": [
    "## Strings"
   ]
  },
  {
   "cell_type": "markdown",
   "metadata": {
    "id": "aOlnyVNJ1oUU"
   },
   "source": [
    "1. Assign the value of 80 to the variable `d`."
   ]
  },
  {
   "cell_type": "code",
   "execution_count": 2,
   "metadata": {
    "id": "8SCKqgnw1oUU"
   },
   "outputs": [],
   "source": [
    "d = 80"
   ]
  },
  {
   "cell_type": "markdown",
   "metadata": {
    "id": "x0VTUh0W1oUU"
   },
   "source": [
    "2. Using the variable `d`, write one line of code where the output after execution is \"Around the World in 80 Days\" (hint: there are several ways to achieve this result)."
   ]
  },
  {
   "cell_type": "code",
   "execution_count": 8,
   "metadata": {
    "id": "73zm94NUL_CB"
   },
   "outputs": [
    {
     "name": "stdout",
     "output_type": "stream",
     "text": [
      "Around the World in 80 days\n"
     ]
    }
   ],
   "source": [
    "print(f'Around the World in {d} days')"
   ]
  },
  {
   "cell_type": "markdown",
   "metadata": {
    "id": "bjWIr0CR1oUU"
   },
   "source": [
    "3. Write a string that says \"It's hot, don't you think?\""
   ]
  },
  {
   "cell_type": "code",
   "execution_count": 18,
   "metadata": {
    "id": "RqpJQbL51oUV"
   },
   "outputs": [
    {
     "data": {
      "text/plain": [
       "\"It's hot, don't you think?\""
      ]
     },
     "execution_count": 18,
     "metadata": {},
     "output_type": "execute_result"
    }
   ],
   "source": [
    "\"It's hot, don't you think?\""
   ]
  },
  {
   "cell_type": "markdown",
   "metadata": {
    "id": "QO1bF6jm1oUV"
   },
   "source": [
    "4. Fix the cell below so that it becomes a string."
   ]
  },
  {
   "cell_type": "code",
   "execution_count": 20,
   "metadata": {
    "id": "1Rx09HVG1oUV"
   },
   "outputs": [
    {
     "data": {
      "text/plain": [
       "\"Don't be shy\""
      ]
     },
     "execution_count": 20,
     "metadata": {},
     "output_type": "execute_result"
    }
   ],
   "source": [
    "\"Don't be shy\""
   ]
  },
  {
   "cell_type": "markdown",
   "metadata": {
    "id": "sBQmnXbL1oUV"
   },
   "source": [
    "5. Produce an output equal to *Click \"OK\"*."
   ]
  },
  {
   "cell_type": "code",
   "execution_count": 22,
   "metadata": {
    "id": "le16ebaB1oUV"
   },
   "outputs": [
    {
     "name": "stdout",
     "output_type": "stream",
     "text": [
      "Click \"OK\"\n"
     ]
    }
   ],
   "source": [
    "print('Click \"OK\"')"
   ]
  },
  {
   "cell_type": "markdown",
   "metadata": {
    "id": "TIR6vEng1oUV"
   },
   "source": [
    "<hr style=\"border:5px solid #108999\"> </hr>"
   ]
  },
  {
   "cell_type": "markdown",
   "metadata": {
    "id": "F40yMdDd1oUT"
   },
   "source": [
    "## Numbers and Boolean Operators"
   ]
  },
  {
   "cell_type": "markdown",
   "metadata": {
    "id": "5_ycMHjO1oUT"
   },
   "source": [
    "1. Create a variable equal to \"True\" and call it `b`. Then check its type."
   ]
  },
  {
   "cell_type": "code",
   "execution_count": 30,
   "metadata": {
    "id": "dxyU0p291oUT"
   },
   "outputs": [
    {
     "data": {
      "text/plain": [
       "bool"
      ]
     },
     "execution_count": 30,
     "metadata": {},
     "output_type": "execute_result"
    }
   ],
   "source": [
    "b = True\n",
    "type(b)"
   ]
  },
  {
   "cell_type": "markdown",
   "metadata": {
    "id": "4KM-Rpe61oUT"
   },
   "source": [
    "2. Create a variable equal to 42 and call it `x`. Then check its type"
   ]
  },
  {
   "cell_type": "code",
   "execution_count": 40,
   "metadata": {
    "id": "TdZfbt_H1oUT"
   },
   "outputs": [
    {
     "name": "stdout",
     "output_type": "stream",
     "text": [
      "42\n"
     ]
    }
   ],
   "source": [
    "x = 42 \n",
    "type(x)\n",
    "print(x)"
   ]
  },
  {
   "cell_type": "markdown",
   "metadata": {
    "id": "4HZ66caa1oUU"
   },
   "source": [
    "3. Check the type of the value 3.14. Then turn it into an integer and write the result as a comment."
   ]
  },
  {
   "cell_type": "code",
   "execution_count": null,
   "metadata": {
    "collapsed": true,
    "id": "Ly0p5ILz1oUU",
    "jupyter": {
     "outputs_hidden": true
    }
   },
   "outputs": [],
   "source": []
  },
  {
   "cell_type": "code",
   "execution_count": null,
   "metadata": {
    "collapsed": true,
    "id": "xz5v9cwu1oUU",
    "jupyter": {
     "outputs_hidden": true
    }
   },
   "outputs": [],
   "source": []
  },
  {
   "cell_type": "markdown",
   "metadata": {
    "id": "b8dKB6Rm1oUZ"
   },
   "source": [
    "4. Verify that 25 is smaller than 30. Then verify that 10 multiplied by 3 is less than or equal to 10 to the power of 3."
   ]
  },
  {
   "cell_type": "code",
   "execution_count": null,
   "metadata": {
    "collapsed": true,
    "id": "13jG0RX11oUZ",
    "jupyter": {
     "outputs_hidden": true
    }
   },
   "outputs": [],
   "source": []
  },
  {
   "cell_type": "code",
   "execution_count": null,
   "metadata": {
    "collapsed": true,
    "id": "Oo9IL0vq1oUZ",
    "jupyter": {
     "outputs_hidden": true
    }
   },
   "outputs": [],
   "source": []
  },
  {
   "cell_type": "markdown",
   "metadata": {
    "id": "KuvbaN0p1oUZ"
   },
   "source": [
    "5. Verify that 100 is equal to 10 square. Then verify that 42 is not equal to 314."
   ]
  },
  {
   "cell_type": "code",
   "execution_count": 42,
   "metadata": {
    "id": "BmJL0Ur91oUZ"
   },
   "outputs": [
    {
     "data": {
      "text/plain": [
       "False"
      ]
     },
     "execution_count": 42,
     "metadata": {},
     "output_type": "execute_result"
    }
   ],
   "source": [
    "42 == 314"
   ]
  },
  {
   "cell_type": "code",
   "execution_count": null,
   "metadata": {
    "collapsed": true,
    "id": "XTBZHkGr1oUZ",
    "jupyter": {
     "outputs_hidden": true
    }
   },
   "outputs": [],
   "source": []
  },
  {
   "cell_type": "markdown",
   "metadata": {
    "id": "iaw8vUqAY6Ap"
   },
   "source": [
    "6. Using the operators `True`, `False`, `not` and `is` exactly once, generate a `True` output."
   ]
  },
  {
   "cell_type": "code",
   "execution_count": null,
   "metadata": {
    "id": "p0WB_ygRZMD6"
   },
   "outputs": [],
   "source": []
  },
  {
   "cell_type": "markdown",
   "metadata": {
    "id": "bcpGl3rc1oUV"
   },
   "source": [
    "## Arithmetic operators"
   ]
  },
  {
   "cell_type": "markdown",
   "metadata": {
    "id": "YvNK3HaG1oUV"
   },
   "source": [
    "1. Add 34 and 26, from the result subtract 50. Then assign this operation to a variable and call it `y`."
   ]
  },
  {
   "cell_type": "code",
   "execution_count": null,
   "metadata": {
    "collapsed": true,
    "id": "qMftFWiu1oUW",
    "jupyter": {
     "outputs_hidden": true
    }
   },
   "outputs": [],
   "source": []
  },
  {
   "cell_type": "code",
   "execution_count": null,
   "metadata": {
    "id": "QwKyD9iNRZD2"
   },
   "outputs": [],
   "source": []
  },
  {
   "cell_type": "markdown",
   "metadata": {
    "id": "mDLpjAds1oUW"
   },
   "source": [
    "2. Divide 60 by the sum of `y` and 5."
   ]
  },
  {
   "cell_type": "code",
   "execution_count": null,
   "metadata": {
    "collapsed": true,
    "id": "rUiSVQ1w1oUW",
    "jupyter": {
     "outputs_hidden": true
    }
   },
   "outputs": [],
   "source": []
  },
  {
   "cell_type": "markdown",
   "metadata": {
    "id": "05Bfbgip1oUW"
   },
   "source": [
    "3. Divide `y` by 4. Then obtain the **remainder** of the division."
   ]
  },
  {
   "cell_type": "code",
   "execution_count": null,
   "metadata": {
    "collapsed": true,
    "id": "YTBLaOhs1oUW",
    "jupyter": {
     "outputs_hidden": true
    }
   },
   "outputs": [],
   "source": []
  },
  {
   "cell_type": "code",
   "execution_count": null,
   "metadata": {
    "collapsed": true,
    "id": "biwt2Ou71oUW",
    "jupyter": {
     "outputs_hidden": true
    }
   },
   "outputs": [],
   "source": []
  },
  {
   "cell_type": "markdown",
   "metadata": {
    "id": "9N91UJEg1oUW"
   },
   "source": [
    "4. Raise 35 to the power of 4."
   ]
  },
  {
   "cell_type": "code",
   "execution_count": null,
   "metadata": {
    "collapsed": true,
    "id": "XYF3IYB81oUW",
    "jupyter": {
     "outputs_hidden": true
    }
   },
   "outputs": [],
   "source": []
  },
  {
   "cell_type": "markdown",
   "metadata": {
    "id": "kQuLi4dYd9hY"
   },
   "source": [
    "5. Take the square root of 1764."
   ]
  },
  {
   "cell_type": "code",
   "execution_count": null,
   "metadata": {
    "id": "ViYOke1deA3n"
   },
   "outputs": [],
   "source": []
  },
  {
   "cell_type": "markdown",
   "metadata": {
    "id": "SN9ySeac1oUQ"
   },
   "source": [
    "## Variables & assignment"
   ]
  },
  {
   "cell_type": "markdown",
   "metadata": {
    "id": "mVi9u1sy1oUQ"
   },
   "source": [
    "1. Create a variable, call it `z` and assign it a value of 10. Then show the value of the variable on the screen."
   ]
  },
  {
   "cell_type": "code",
   "execution_count": null,
   "metadata": {
    "collapsed": true,
    "id": "FftPAp7c1oUQ",
    "jupyter": {
     "outputs_hidden": true
    }
   },
   "outputs": [],
   "source": []
  },
  {
   "cell_type": "code",
   "execution_count": null,
   "metadata": {
    "collapsed": true,
    "id": "CEnCDTDZ1oUR",
    "jupyter": {
     "outputs_hidden": true
    }
   },
   "outputs": [],
   "source": []
  },
  {
   "cell_type": "markdown",
   "metadata": {
    "id": "BQPcDcHq1oUS"
   },
   "source": [
    "2. Using one line of code, create three new variables: `one`, `two` and `three`, that are equal to 10, 20 and 30 respectively."
   ]
  },
  {
   "cell_type": "code",
   "execution_count": 48,
   "metadata": {
    "id": "WWqogbfk1oUS"
   },
   "outputs": [
    {
     "name": "stdout",
     "output_type": "stream",
     "text": [
      "10\n",
      "20\n",
      "30\n"
     ]
    }
   ],
   "source": [
    "one, two, three = 10, 20, 30\n",
    "print(one)\n",
    "print(two)\n",
    "print(three)"
   ]
  },
  {
   "cell_type": "markdown",
   "metadata": {
    "id": "F5OtOLvS1oUS"
   },
   "source": [
    "3. Tell Python to output the sum of the three variables."
   ]
  },
  {
   "cell_type": "code",
   "execution_count": null,
   "metadata": {
    "collapsed": true,
    "id": "y2lY53D71oUS",
    "jupyter": {
     "outputs_hidden": true
    }
   },
   "outputs": [],
   "source": []
  },
  {
   "cell_type": "markdown",
   "metadata": {
    "id": "2DuesoTl1oUS"
   },
   "source": [
    "4. Using the three variables from above, output the value \"102030\" as a string."
   ]
  },
  {
   "cell_type": "code",
   "execution_count": null,
   "metadata": {
    "collapsed": true,
    "id": "NxEOOtrJ1oUS",
    "jupyter": {
     "outputs_hidden": true
    }
   },
   "outputs": [],
   "source": []
  },
  {
   "cell_type": "markdown",
   "metadata": {
    "id": "cpYM5lmC1oUW"
   },
   "source": [
    "5. Assign the value of 10 to a variable `w` and, in the same cell, print `w` on the screen. Then multiply `w` by 10."
   ]
  },
  {
   "cell_type": "code",
   "execution_count": null,
   "metadata": {
    "collapsed": true,
    "id": "zmnAwzgm1oUW",
    "jupyter": {
     "outputs_hidden": true
    }
   },
   "outputs": [],
   "source": []
  },
  {
   "cell_type": "code",
   "execution_count": null,
   "metadata": {
    "id": "l97rMLoNWnd2"
   },
   "outputs": [],
   "source": []
  },
  {
   "cell_type": "markdown",
   "metadata": {
    "id": "xBKnevPq1oUW"
   },
   "source": [
    "6. Now, assign 30 to the variable `w`. Then calculate `w` + 10. Notice how the value of `w` changes and is always the last one you have assigned."
   ]
  },
  {
   "cell_type": "code",
   "execution_count": null,
   "metadata": {
    "collapsed": true,
    "id": "cGwgk-0i1oUX",
    "jupyter": {
     "outputs_hidden": true
    }
   },
   "outputs": [],
   "source": []
  },
  {
   "cell_type": "code",
   "execution_count": null,
   "metadata": {
    "collapsed": true,
    "id": "ZPv0xFkA1oUX",
    "jupyter": {
     "outputs_hidden": true
    }
   },
   "outputs": [],
   "source": []
  },
  {
   "cell_type": "markdown",
   "metadata": {
    "id": "1XkdlFNT1oUY"
   },
   "source": [
    "## Indexing elements"
   ]
  },
  {
   "cell_type": "markdown",
   "metadata": {
    "id": "ohIvpCFk1oUY"
   },
   "source": [
    "1. Using string indexing, extract the letter 'B' from \"Boolean\"."
   ]
  },
  {
   "cell_type": "code",
   "execution_count": null,
   "metadata": {
    "collapsed": true,
    "id": "UO4uIRYF1oUY",
    "jupyter": {
     "outputs_hidden": true
    }
   },
   "outputs": [],
   "source": []
  },
  {
   "cell_type": "markdown",
   "metadata": {
    "id": "TipNfpkcXWUK"
   },
   "source": [
    "2. Using string indexing, extract the substring \"lean\" from \"Boolean\"."
   ]
  },
  {
   "cell_type": "code",
   "execution_count": null,
   "metadata": {
    "collapsed": true,
    "id": "oLVdBpI61oUY",
    "jupyter": {
     "outputs_hidden": true
    }
   },
   "outputs": [],
   "source": []
  },
  {
   "cell_type": "markdown",
   "metadata": {
    "id": "OA9LxBgq1oUY"
   },
   "source": [
    "3. Using string indexing, extract the exclamation mark from \"Hello World!\"."
   ]
  },
  {
   "cell_type": "code",
   "execution_count": null,
   "metadata": {
    "collapsed": true,
    "id": "cBIkR1FC1oUY",
    "jupyter": {
     "outputs_hidden": true
    }
   },
   "outputs": [],
   "source": []
  },
  {
   "cell_type": "markdown",
   "metadata": {
    "id": "ekuFBqHkYRTo"
   },
   "source": [
    "4. Using string indexing, extract the substring \"UAE\" from the following text: \"Israel signs first Arab free trade agreement with UAE.\""
   ]
  },
  {
   "cell_type": "code",
   "execution_count": 50,
   "metadata": {
    "id": "GyNK0NYJ1oUY"
   },
   "outputs": [],
   "source": [
    "text = \"Israel signs first Arab free trade agreement with UAE.\""
   ]
  },
  {
   "cell_type": "code",
   "execution_count": 54,
   "metadata": {},
   "outputs": [
    {
     "data": {
      "text/plain": [
       "'UAE'"
      ]
     },
     "execution_count": 54,
     "metadata": {},
     "output_type": "execute_result"
    }
   ],
   "source": [
    "text[-4:-1]"
   ]
  },
  {
   "cell_type": "code",
   "execution_count": null,
   "metadata": {},
   "outputs": [],
   "source": []
  }
 ],
 "metadata": {
  "anaconda-cloud": {},
  "colab": {
   "provenance": [
    {
     "file_id": "1atBx8unu46RMajXPUp2Fpo1DbarLwesv",
     "timestamp": 1653995951268
    }
   ],
   "toc_visible": true
  },
  "kernelspec": {
   "display_name": "Python 3 (ipykernel)",
   "language": "python",
   "name": "python3"
  },
  "language_info": {
   "codemirror_mode": {
    "name": "ipython",
    "version": 3
   },
   "file_extension": ".py",
   "mimetype": "text/x-python",
   "name": "python",
   "nbconvert_exporter": "python",
   "pygments_lexer": "ipython3",
   "version": "3.12.7"
  }
 },
 "nbformat": 4,
 "nbformat_minor": 4
}
