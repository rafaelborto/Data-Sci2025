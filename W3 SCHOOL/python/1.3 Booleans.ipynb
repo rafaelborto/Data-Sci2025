{
 "cells": [
  {
   "cell_type": "markdown",
   "id": "197f8c27-7a52-4684-8257-db454071f9cd",
   "metadata": {},
   "source": [
    "# BOOLEANS"
   ]
  },
  {
   "cell_type": "markdown",
   "id": "0a430f09-8188-40a3-ba3b-f6a441f3dc2b",
   "metadata": {},
   "source": [
    "Booleans represent one of two values: <code>True</code> or <code>False.</code>\n",
    "\n",
    "Boolean Values\n",
    "In programming you often need to know if an expression is <code>True</code> or <code>False.</code>.\n",
    "\n",
    "You can evaluate any expression in Python, and get one of two answers, <code>True</code> or <code>False.</code>.\n",
    "\n",
    "When you compare two values, the expression is evaluated and Python returns the Boolean answer:\n",
    "\n",
    "EXAMPLES"
   ]
  },
  {
   "cell_type": "code",
   "execution_count": 10,
   "id": "09f344fe-2e4d-4f0a-85fc-8a68f0633b22",
   "metadata": {},
   "outputs": [
    {
     "name": "stdout",
     "output_type": "stream",
     "text": [
      "True\n",
      "False\n",
      "False\n"
     ]
    }
   ],
   "source": [
    "print(10 > 9)\n",
    "print(10 == 9)\n",
    "print(10 < 9)"
   ]
  },
  {
   "cell_type": "markdown",
   "id": "c8a8403a-ef5d-40dc-84d9-014b89f19444",
   "metadata": {},
   "source": [
    "#### When you run a condition in an if statement, Python returns <code>True</code> or <code>False.</code>:\n",
    "\n",
    "Example\n",
    "Print a message based on whether the condition is True or False:"
   ]
  },
  {
   "cell_type": "code",
   "execution_count": 16,
   "id": "c8270663-b55c-43ff-a16a-c2f6cea23c66",
   "metadata": {},
   "outputs": [
    {
     "name": "stdout",
     "output_type": "stream",
     "text": [
      "b is not greater than a\n"
     ]
    }
   ],
   "source": [
    "a = 200\n",
    "b = 33\n",
    "\n",
    "if b > a:\n",
    "  print(\"b is greater than a\") #TRUE\n",
    "else:\n",
    "  print(\"b is not greater than a\") #FALSE"
   ]
  },
  {
   "cell_type": "markdown",
   "id": "d044fbee-3e3b-4ae0-833c-b64c1a191069",
   "metadata": {},
   "source": [
    "#### Evaluate Values and Variables\n",
    "The bool() function allows you to evaluate any value, and give you True or <code>True</code> or <code>False.</code>,\n",
    "\n",
    "Example\n",
    "Evaluate a string and a number:"
   ]
  },
  {
   "cell_type": "code",
   "execution_count": 22,
   "id": "5b081419-5416-4812-8a7f-6be5d7cf24de",
   "metadata": {},
   "outputs": [
    {
     "name": "stdout",
     "output_type": "stream",
     "text": [
      "True\n",
      "True\n"
     ]
    }
   ],
   "source": [
    "print(bool(\"Hello\"))\n",
    "print(bool(15))"
   ]
  },
  {
   "cell_type": "markdown",
   "id": "6ad65676-b0e1-4562-bbf0-d9531b8026a2",
   "metadata": {},
   "source": [
    "Example\\\n",
    "Evaluate two variables:"
   ]
  },
  {
   "cell_type": "code",
   "execution_count": 32,
   "id": "cb58c4e8-7f7f-4114-9130-e0a44cc25f50",
   "metadata": {},
   "outputs": [
    {
     "name": "stdout",
     "output_type": "stream",
     "text": [
      "True\n",
      "False\n"
     ]
    }
   ],
   "source": [
    "x = \" \"\n",
    "y = \"\"\n",
    "\n",
    "print(bool(x))\n",
    "print(bool(y))"
   ]
  },
  {
   "cell_type": "markdown",
   "id": "cf59f90d-3b5b-4325-87f2-6333009ba7f4",
   "metadata": {},
   "source": [
    "## Most Values are True\n",
    "Almost any value is evaluated to True if it has some sort of content.\n",
    "\n",
    "Any string is True, except empty strings.\n",
    "\n",
    "Any number is True, except 0.\n",
    "\n",
    "Any list, tuple, set, and dictionary are True, except empty ones.\n",
    "\n",
    "Example\\\n",
    "The following will return True:"
   ]
  },
  {
   "cell_type": "code",
   "execution_count": 40,
   "id": "f3b4117a-e200-4b84-9d55-7a8f356e33f3",
   "metadata": {},
   "outputs": [
    {
     "name": "stdout",
     "output_type": "stream",
     "text": [
      "True\n",
      "True\n",
      "True\n"
     ]
    }
   ],
   "source": [
    "print(bool(\"abc\"))\n",
    "print(bool(123))\n",
    "print(bool([\"apple\", \"cherry\", \"banana\"]))"
   ]
  },
  {
   "cell_type": "markdown",
   "id": "5b1d21c5-4853-4418-869b-1cd24191f306",
   "metadata": {},
   "source": [
    "## Some Values are False\n",
    "In fact, there are not many values that evaluate to False, except empty values, such as (), [], {}, \"\", the number 0, and the value None. And of course the value False evaluates to False.\n",
    "\n",
    "Example\\\n",
    "The following will return False:"
   ]
  },
  {
   "cell_type": "code",
   "execution_count": 45,
   "id": "8d2a9a29-8bd7-4be6-9623-781c667acc4a",
   "metadata": {},
   "outputs": [
    {
     "name": "stdout",
     "output_type": "stream",
     "text": [
      "False\n",
      "False\n",
      "False\n",
      "False\n",
      "False\n",
      "False\n",
      "False\n"
     ]
    }
   ],
   "source": [
    "print(bool(False))\n",
    "print(bool(None))\n",
    "print(bool(0))\n",
    "print(bool(\"\"))\n",
    "print(bool(()))\n",
    "print(bool([]))\n",
    "print(bool({}))"
   ]
  },
  {
   "cell_type": "code",
   "execution_count": 50,
   "id": "36afba4b-9f38-42ac-8825-c48912ada936",
   "metadata": {},
   "outputs": [
    {
     "name": "stdout",
     "output_type": "stream",
     "text": [
      "False\n"
     ]
    }
   ],
   "source": [
    "class myclass():\n",
    "  def __len__(self):\n",
    "    return 0\n",
    "\n",
    "myobj = myclass()\n",
    "print(bool(myobj))"
   ]
  },
  {
   "cell_type": "markdown",
   "id": "2a778c09-0bf0-4356-abd2-bc782f4df15e",
   "metadata": {},
   "source": [
    "🔍 Análise do Código\n",
    "Definição da Classe MyClass:\n",
    "\n",
    "A classe MyClass possui um método especial chamado __len__, que é utilizado para determinar o comprimento do objeto. Neste caso, o método retorna 0, indicando que o objeto não possui elementos ou conteúdo.\n",
    "\n",
    "Criação do Objeto myobj:\n",
    "\n",
    "Um objeto da classe MyClass é instanciado e atribuído à variável myobj.\n",
    "\n",
    "Avaliação Booleano com bool(myobj):\n",
    "\n",
    "A função bool() é utilizada para avaliar o valor booleano do objeto myobj. Em Python, a avaliação booleana de um objeto segue uma ordem específica:\n",
    "\n",
    "Se o objeto possui o método __bool__ e este retorna False, o objeto é considerado False.\n",
    "\n",
    "Se o método __bool__ não está definido, o Python verifica a presença do método __len__. Se __len__ retornar 0, o objeto é considerado False; caso contrário, é considerado True.\n",
    "\n",
    "Se nenhum desses métodos estiver presente, o objeto é considerado True por padrão.\n",
    "\n",
    "No seu código, o método __len__ está definido e retorna 0, portanto, o objeto myobj é avaliado como False."
   ]
  },
  {
   "cell_type": "markdown",
   "id": "5349d465-1d19-4158-8fdd-a5fcbe1ddb76",
   "metadata": {},
   "source": [
    "### Functions can Return a Boolean\n",
    "You can create functions that returns a Boolean Value:\n",
    "\n",
    "Example\\\n",
    "Print the answer of a function:"
   ]
  },
  {
   "cell_type": "code",
   "execution_count": 58,
   "id": "96ded62a-5ad3-4309-8023-b2955751531b",
   "metadata": {},
   "outputs": [
    {
     "name": "stdout",
     "output_type": "stream",
     "text": [
      "True\n"
     ]
    }
   ],
   "source": [
    "def myFunction() :\n",
    "  return True\n",
    "\n",
    "print(myFunction())"
   ]
  },
  {
   "cell_type": "markdown",
   "id": "0ff809f9-5425-4b02-b480-abc2a6968e6e",
   "metadata": {},
   "source": [
    "### You can execute code based on the Boolean answer of a function:\n",
    "\n",
    "Example\\\n",
    "Print \"YES!\" if the function returns True, otherwise print \"NO!\":\n"
   ]
  },
  {
   "cell_type": "code",
   "execution_count": 63,
   "id": "72c1bc43-b8b1-4cce-ac18-3e0029dd8c70",
   "metadata": {},
   "outputs": [
    {
     "name": "stdout",
     "output_type": "stream",
     "text": [
      "YES!\n"
     ]
    }
   ],
   "source": [
    "def myFunction() :\n",
    "  return True\n",
    "\n",
    "if myFunction():\n",
    "  print(\"YES!\")\n",
    "else:\n",
    "  print(\"NO!\")"
   ]
  },
  {
   "cell_type": "markdown",
   "id": "c9dc3fc6-323c-449e-b0eb-e1dace3c88e1",
   "metadata": {},
   "source": [
    "Python also has many built-in functions that return a boolean value, like the <b><code>isinstance()</code></b> function, which can be used to determine if an object is of a certain data type:\n",
    "\n",
    "Example\\\n",
    "Check if an object is an integer or not:"
   ]
  },
  {
   "cell_type": "code",
   "execution_count": 70,
   "id": "93d5b43c-e0b6-41f3-a9d8-9e9e5ce24ee0",
   "metadata": {},
   "outputs": [
    {
     "name": "stdout",
     "output_type": "stream",
     "text": [
      "False\n"
     ]
    }
   ],
   "source": [
    "x = \"200\"\n",
    "print(isinstance(x, int))"
   ]
  },
  {
   "cell_type": "code",
   "execution_count": null,
   "id": "da7480d7-6af7-412c-afdc-89661d494cf1",
   "metadata": {},
   "outputs": [],
   "source": [
    "# <code>True</code> or <code>False.</code>"
   ]
  }
 ],
 "metadata": {
  "kernelspec": {
   "display_name": "Python 3 (ipykernel)",
   "language": "python",
   "name": "python3"
  },
  "language_info": {
   "codemirror_mode": {
    "name": "ipython",
    "version": 3
   },
   "file_extension": ".py",
   "mimetype": "text/x-python",
   "name": "python",
   "nbconvert_exporter": "python",
   "pygments_lexer": "ipython3",
   "version": "3.12.7"
  }
 },
 "nbformat": 4,
 "nbformat_minor": 5
}
