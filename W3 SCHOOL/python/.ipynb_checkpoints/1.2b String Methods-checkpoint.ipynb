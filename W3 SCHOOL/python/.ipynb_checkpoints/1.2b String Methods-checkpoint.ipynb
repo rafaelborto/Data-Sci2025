{
 "cells": [
  {
   "cell_type": "markdown",
   "id": "d5b1d047-97d3-49b5-b395-4b2b8cf4f488",
   "metadata": {},
   "source": [
    "# STRING METHODS"
   ]
  },
  {
   "cell_type": "markdown",
   "id": "f6799c82-eef2-4858-8b1e-56536b9032ab",
   "metadata": {},
   "source": [
    "## MENU"
   ]
  },
  {
   "cell_type": "code",
   "execution_count": null,
   "id": "24828eba-0c35-40d1-86c2-9a77c90e435f",
   "metadata": {},
   "outputs": [],
   "source": []
  },
  {
   "cell_type": "markdown",
   "id": "07ffc7f2-80fc-47bc-9cc2-0aa7ce8fa9df",
   "metadata": {},
   "source": [
    "## join()\tJoins the elements of an iterable to the end of the string\n",
    "ljust()\tReturns a left justified version of the string\\\n",
    "lower()\tConverts a string into lower case\\\n",
    "lstrip()\tReturns a left trim version of the string\\\n",
    "maketrans()\tReturns a translation table to be used in translations\\\n",
    "partition()\tReturns a tuple where the string is parted into three parts\\\n",
    "replace()\tReturns a string where a specified value is replaced with a specified value\\\n",
    "rfind()\tSearches the string for a specified value and returns the last position of where it was found\\\n",
    "rindex()\tSearches the string for a specified value and returns the last position of where it was found\\\n",
    "rjust()\tReturns a right justified version of the string\\\n",
    "rpartition()\tReturns a tuple where the string is parted into three parts\\\n",
    "rsplit()\tSplits the string at the specified separator, and returns a list\\\n",
    "rstrip()\tReturns a right trim version of the string\\\n",
    "split()\tSplits the string at the specified separator, and returns a list\\\n",
    "splitlines()\tSplits the string at line breaks and returns a list\\\n",
    "startswith()\tReturns true if the string starts with the specified value\\\n",
    "strip()\tReturns a trimmed version of the string\\\n",
    "swapcase()\tSwaps cases, lower case becomes upper case and vice versa\\\n",
    "title()\tConverts the first character of each word to upper case\\\n",
    "translate()\tReturns a translated string\\\n",
    "upper()\tConverts a string into upper case\\\n",
    "zfill()\tFills the string with a specified number of 0 values at the beginning"
   ]
  },
  {
   "cell_type": "code",
   "execution_count": null,
   "id": "a3b7a499-efe0-4107-9da0-b7ac60ec34cf",
   "metadata": {},
   "outputs": [],
   "source": []
  }
 ],
 "metadata": {
  "kernelspec": {
   "display_name": "Python 3 (ipykernel)",
   "language": "python",
   "name": "python3"
  },
  "language_info": {
   "codemirror_mode": {
    "name": "ipython",
    "version": 3
   },
   "file_extension": ".py",
   "mimetype": "text/x-python",
   "name": "python",
   "nbconvert_exporter": "python",
   "pygments_lexer": "ipython3",
   "version": "3.12.7"
  }
 },
 "nbformat": 4,
 "nbformat_minor": 5
}
