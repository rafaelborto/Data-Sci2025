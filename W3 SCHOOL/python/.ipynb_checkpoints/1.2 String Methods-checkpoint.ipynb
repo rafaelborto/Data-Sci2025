{
 "cells": [
  {
   "cell_type": "markdown",
   "id": "2dfc87ad-f532-4dda-bf4f-c07eace4426f",
   "metadata": {},
   "source": [
    "# STRING METHODS"
   ]
  },
  {
   "cell_type": "markdown",
   "id": "1886ecc1-bcbc-45b2-aa48-f299fd5fbdc9",
   "metadata": {},
   "source": [
    "<B>format_map()</B>\tFormats specified values in a string\\\n",
    "index()\tSearches the string for a specified value and returns the positin of where it was found\\\n",
    "isalnum()\tReturns True if all characters in the string are alphanumeric\\\n",
    "isalpha()\tReturns True if all characters in the string are in the alphabet\\\n",
    "isascii()\tReturns True if all characters in the string are ascii characters\\\n",
    "isdecimal()\tReturns True if all characters in the string are decimals\\\n",
    "isdigit()\tReturns True if all characters in the string are digits\\\n",
    "isidentifier()\tReturns True if the string is an identifier\\\n",
    "islower()\tReturns True if all characters in the string are lower case\\\n",
    "isnumeric()\tReturns True if all characters in the string are numeric\\\n",
    "isprintable()\tReturns True if all characters in the string are printable\\\n",
    "isspace()\tReturns True if all characters in the string are whitespaces\\\n",
    "istitle()\tReturns True if the string follows the rules of a title\\\n",
    "isupper()\tReturns True if all characters in the string are upper case\\"
   ]
  },
  {
   "cell_type": "code",
   "execution_count": null,
   "id": "6bc7c472-91dd-421f-81ce-4f3b3fa4a952",
   "metadata": {},
   "outputs": [],
   "source": []
  }
 ],
 "metadata": {
  "kernelspec": {
   "display_name": "Python [conda env:base] *",
   "language": "python",
   "name": "conda-base-py"
  },
  "language_info": {
   "codemirror_mode": {
    "name": "ipython",
    "version": 3
   },
   "file_extension": ".py",
   "mimetype": "text/x-python",
   "name": "python",
   "nbconvert_exporter": "python",
   "pygments_lexer": "ipython3",
   "version": "3.12.7"
  }
 },
 "nbformat": 4,
 "nbformat_minor": 5
}
