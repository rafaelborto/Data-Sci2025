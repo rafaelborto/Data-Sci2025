{
 "cells": [
  {
   "cell_type": "markdown",
   "id": "2dfc87ad-f532-4dda-bf4f-c07eace4426f",
   "metadata": {},
   "source": [
    "# STRING METHODS"
   ]
  },
  {
   "cell_type": "markdown",
   "id": "8c871e4b-7fd8-4b8c-a743-0f655cbb0c2c",
   "metadata": {},
   "source": [
    "## MENU"
   ]
  },
  {
   "cell_type": "markdown",
   "id": "5300a573-346e-4232-9810-7ad4949fc70c",
   "metadata": {},
   "source": [
    "format_map()\tFormats specified values in a string\\\n",
    "index()\tSearches the string for a specified value and returns the position of where it was found\\\n",
    "isalnum()\tReturns True if all characters in the string are alphanumeric\\\n",
    "isalpha()\tReturns True if all characters in the string are in the alphabet\\\n",
    "isascii()\tReturns True if all characters in the string are ascii characters\\\n",
    "isdecimal()\tReturns True if all characters in the string are decimals\\\n",
    "isdigit()\tReturns True if all characters in the string are digits\\\n",
    "isidentifier()\tReturns True if the string is an identifier\\\n",
    "islower()\tReturns True if all characters in the string are lower case\\\n",
    "isnumeric()\tReturns True if all characters in the string are numeric\\\n",
    "isprintable()\tReturns True if all characters in the string are printable\\\n",
    "isspace()\tReturns True if all characters in the string are whitespaces\\\n",
    "istitle()\tReturns True if the string follows the rules of a title\\\n",
    "isupper()\tReturns True if all characters in the string are upper case"
   ]
  },
  {
   "cell_type": "markdown",
   "id": "1886ecc1-bcbc-45b2-aa48-f299fd5fbdc9",
   "metadata": {},
   "source": [
    "## format_map()\tFormats specified values in a string\\"
   ]
  },
  {
   "cell_type": "code",
   "execution_count": null,
   "id": "817e24ce-0c02-4cd9-9d3d-144a8b24ae9e",
   "metadata": {},
   "outputs": [],
   "source": []
  },
  {
   "cell_type": "markdown",
   "id": "305efd92-3de7-4bac-98c7-03849b219b2f",
   "metadata": {},
   "source": [
    "## index()\tSearches the string for a specified value and returns the positin of where it was found"
   ]
  },
  {
   "cell_type": "code",
   "execution_count": 19,
   "id": "6bc7c472-91dd-421f-81ce-4f3b3fa4a952",
   "metadata": {},
   "outputs": [
    {
     "name": "stdout",
     "output_type": "stream",
     "text": [
      "-1\n"
     ]
    },
    {
     "ename": "ValueError",
     "evalue": "substring not found",
     "output_type": "error",
     "traceback": [
      "\u001b[1;31m---------------------------------------------------------------------------\u001b[0m",
      "\u001b[1;31mValueError\u001b[0m                                Traceback (most recent call last)",
      "Cell \u001b[1;32mIn[19], line 4\u001b[0m\n\u001b[0;32m      1\u001b[0m txt \u001b[38;5;241m=\u001b[39m \u001b[38;5;124m\"\u001b[39m\u001b[38;5;124mHello, welcome to my world.\u001b[39m\u001b[38;5;124m\"\u001b[39m\n\u001b[0;32m      3\u001b[0m \u001b[38;5;28mprint\u001b[39m(txt\u001b[38;5;241m.\u001b[39mfind(\u001b[38;5;124m\"\u001b[39m\u001b[38;5;124mq\u001b[39m\u001b[38;5;124m\"\u001b[39m))\n\u001b[1;32m----> 4\u001b[0m \u001b[38;5;28mprint\u001b[39m(txt\u001b[38;5;241m.\u001b[39mindex(\u001b[38;5;124m\"\u001b[39m\u001b[38;5;124mq\u001b[39m\u001b[38;5;124m\"\u001b[39m))\n",
      "\u001b[1;31mValueError\u001b[0m: substring not found"
     ]
    }
   ],
   "source": [
    "txt = \"Hello, welcome to my world.\"\n",
    "\n",
    "print(txt.find(\"q\"))\n",
    "print(txt.index(\"q\")) # Retorna ValueError, enquanto STR.FIND() retorna -1 (menos um).\n"
   ]
  },
  {
   "cell_type": "markdown",
   "id": "7b9d22a6-96ce-44d4-b785-126ece1964b6",
   "metadata": {},
   "source": [
    "## isalnum()\tReturns True if all characters in the string are alphanumeric"
   ]
  },
  {
   "cell_type": "code",
   "execution_count": 13,
   "id": "f632f18a-2e5f-463a-a275-282425aa8abb",
   "metadata": {},
   "outputs": [
    {
     "name": "stdout",
     "output_type": "stream",
     "text": [
      "True\n",
      "False\n"
     ]
    }
   ],
   "source": [
    "# Example\n",
    "# Check if ALL the characters in the text are alphanumeric:\n",
    "\n",
    "txt1 = \"Company12\"\n",
    "\n",
    "x = txt1.isalnum()\n",
    "\n",
    "print(x)\n",
    "\n",
    "txt2 = \"Company12`\" #This STRING contains the ` (grave sign)\n",
    "print(txt2.isalnum())"
   ]
  },
  {
   "cell_type": "markdown",
   "id": "95b076f9-e41a-4775-9efe-892fe3a43fc6",
   "metadata": {},
   "source": [
    "Definition and Usage\n",
    "\n",
    "The isalnum() method returns True if all the characters are alphanumeric, meaning alphabet letter (a-z) and numbers (0-9).\n",
    "\n",
    "Example of characters that are not alphanumeric: (space)!#%&? etc."
   ]
  },
  {
   "cell_type": "markdown",
   "id": "e2e1dda4-ba38-4e95-8e8e-50c356abe353",
   "metadata": {},
   "source": [
    "Example\n",
    "Check if all the characters in the text is alphanumeric:"
   ]
  },
  {
   "cell_type": "code",
   "execution_count": 23,
   "id": "f4d72bcb-f186-43b2-b4ac-7f23f993db12",
   "metadata": {},
   "outputs": [
    {
     "name": "stdout",
     "output_type": "stream",
     "text": [
      "False\n"
     ]
    }
   ],
   "source": [
    "txt3 = \"Company 12\"\n",
    "print(txt3.isalnum()) #it contains SPACE"
   ]
  },
  {
   "cell_type": "markdown",
   "id": "a0022878-cffe-42f5-8719-793d99066f0f",
   "metadata": {},
   "source": [
    "## isalpha()\tReturns True if all characters in the string are in the alphabet"
   ]
  },
  {
   "cell_type": "code",
   "execution_count": 29,
   "id": "89a7c874-beec-4ce4-abde-dbb5ef531fa1",
   "metadata": {},
   "outputs": [
    {
     "name": "stdout",
     "output_type": "stream",
     "text": [
      "True\n"
     ]
    }
   ],
   "source": [
    "\"\"\" Example\n",
    "Check if all the characters in the text are letters:\"\"\"\n",
    "\n",
    "txt = \"CompanyX\"\n",
    "\n",
    "x = txt.isalpha()\n",
    "\n",
    "print(x)"
   ]
  },
  {
   "cell_type": "markdown",
   "id": "0033a2b2-3134-46c2-9030-9bf1e6dc8b03",
   "metadata": {},
   "source": [
    "Definition and Usage\n",
    "\n",
    "The isalpha() method returns True if all the characters are alphabet letters (a-z).\n",
    "\n",
    "Example of characters that are not alphabet letters: (space)!#%&? etc.\n",
    "\n",
    "Check if all the characters in the text is alphabetic:\n",
    "\n",
    "txt = \"Company10\""
   ]
  },
  {
   "cell_type": "code",
   "execution_count": 33,
   "id": "d96194b0-d513-471a-aaa0-328bfc326e57",
   "metadata": {},
   "outputs": [
    {
     "name": "stdout",
     "output_type": "stream",
     "text": [
      "False\n"
     ]
    }
   ],
   "source": [
    "txt = \"Company10\"\n",
    "\n",
    "x = txt.isalpha()\n",
    "\n",
    "print(x)"
   ]
  },
  {
   "cell_type": "markdown",
   "id": "744ff154-b9e4-44e8-8b4b-623f5de760dd",
   "metadata": {},
   "source": [
    "## isascii()\tReturns True if all characters in the string are ascii characters"
   ]
  },
  {
   "cell_type": "markdown",
   "id": "47af569b-a512-407c-a757-c036bc3326aa",
   "metadata": {},
   "source": [
    "Example\\\n",
    "Check if all the characters in the text are ascii characters:\\\n",
    "<b>Definition and Usage</b>\n",
    "The isascii() method returns True if all the characters are ascii characters  (a-z).\n",
    "\n",
    "Check our ASCII Reference. (https://www.w3schools.com/charsets/ref_html_ascii.asp)"
   ]
  },
  {
   "cell_type": "code",
   "execution_count": 38,
   "id": "b31b1259-ecfb-428c-9efc-b8b1480f12b9",
   "metadata": {},
   "outputs": [
    {
     "name": "stdout",
     "output_type": "stream",
     "text": [
      "True\n"
     ]
    }
   ],
   "source": [
    "txt = \"Company123\"\n",
    "\n",
    "x = txt.isascii()\n",
    "\n",
    "print(x)"
   ]
  },
  {
   "cell_type": "markdown",
   "id": "27361d15-3f33-4a04-9318-95f0282b355d",
   "metadata": {},
   "source": [
    "### The ASCII Character Set\n",
    "ASCII stands for the \"American Standard Code for Information Interchange\".\n",
    "\n",
    "It was designed in the early 60's, as a standard character set for computers and electronic devices.\n",
    "\n",
    "ASCII is a 7-bit character set containing 128 characters.\n",
    "\n",
    "It contains the numbers from 0-9, the upper and lower case English letters from A to Z, and some special characters.\n",
    "\n",
    "The character sets used in modern computers, in HTML, and on the Internet, are all based on ASCII.\n",
    "\n",
    "### The following tables list the 128 ASCII characters and their equivalent number."
   ]
  },
  {
   "cell_type": "code",
   "execution_count": 62,
   "id": "7a131f26-c5cd-443e-bb37-9319831c1a4e",
   "metadata": {},
   "outputs": [
    {
     "name": "stderr",
     "output_type": "stream",
     "text": [
      "<>:1: SyntaxWarning: invalid escape sequence '\\\t'\n",
      "<>:1: SyntaxWarning: invalid escape sequence '\\\t'\n",
      "C:\\Users\\jrfbo\\AppData\\Local\\Temp\\ipykernel_8840\\447308257.py:1: SyntaxWarning: invalid escape sequence '\\\t'\n",
      "  \"\"\"\n"
     ]
    },
    {
     "data": {
      "text/plain": [
       "' \\n!   33\\texclamation mark\\n\"\\t34\\tquotation mark\\n#\\t35\\tnumber sign\\n$\\t36\\tdollar sign\\n%\\t37\\tpercent sign\\n&\\t38\\tampersand\\n\\'\\t39\\tapostrophe\\n(\\t40\\tleft parenthesis\\n)\\t41\\tright parenthesis\\n*\\t42\\tasterisk\\n+\\t43\\tplus sign\\n,\\t44\\tcomma\\n-\\t45\\thyphen\\n.\\t46\\tperiod\\n/\\t47\\tslash\\n:\\t58\\tcolon\\n;\\t59\\tsemicolon\\n<\\t60\\tless-than\\n=\\t61\\tequals-to\\n>\\t62\\tgreater-than\\n?\\t63\\tquestion mark\\n@\\t64\\tat sign\\n[\\t91\\tleft square bracket\\n\\\\\\t92\\tbackslash\\n]\\t93\\tright square bracket\\n^\\t94\\tcaret\\n_\\t95\\tunderscore\\n`\\t96\\tgrave accent\\n{\\t123\\tleft curly brace\\n|\\t124\\tvertical bar\\n}\\t125\\tright curly brace\\n~\\t126\\ttilde\\n'"
      ]
     },
     "execution_count": 62,
     "metadata": {},
     "output_type": "execute_result"
    }
   ],
   "source": [
    "\"\"\" \n",
    "!   33\texclamation mark\n",
    "\"\t34\tquotation mark\n",
    "#\t35\tnumber sign\n",
    "$\t36\tdollar sign\n",
    "%\t37\tpercent sign\n",
    "&\t38\tampersand\n",
    "'\t39\tapostrophe\n",
    "(\t40\tleft parenthesis\n",
    ")\t41\tright parenthesis\n",
    "*\t42\tasterisk\n",
    "+\t43\tplus sign\n",
    ",\t44\tcomma\n",
    "-\t45\thyphen\n",
    ".\t46\tperiod\n",
    "/\t47\tslash\n",
    ":\t58\tcolon\n",
    ";\t59\tsemicolon\n",
    "<\t60\tless-than\n",
    "=\t61\tequals-to\n",
    ">\t62\tgreater-than\n",
    "?\t63\tquestion mark\n",
    "@\t64\tat sign\n",
    "[\t91\tleft square bracket\n",
    "\\\t92\tbackslash\n",
    "]\t93\tright square bracket\n",
    "^\t94\tcaret\n",
    "_\t95\tunderscore\n",
    "`\t96\tgrave accent\n",
    "{\t123\tleft curly brace\n",
    "|\t124\tvertical bar\n",
    "}\t125\tright curly brace\n",
    "~\t126\ttilde\n",
    "\"\"\""
   ]
  },
  {
   "cell_type": "markdown",
   "id": "3ee1b48e-b3c0-4312-bf42-f927ea77744b",
   "metadata": {},
   "source": [
    "## isdecimal()\tReturns True if all characters in the string are decimals"
   ]
  },
  {
   "cell_type": "markdown",
   "id": "5a22e13e-6742-4400-a5ba-346335f1751b",
   "metadata": {},
   "source": [
    "Example\\\n",
    "Check if all the characters in a string are decimals (0-9):"
   ]
  },
  {
   "cell_type": "code",
   "execution_count": 90,
   "id": "4e34f78f-07d9-486a-a1a6-3a470e2b3755",
   "metadata": {},
   "outputs": [
    {
     "name": "stdout",
     "output_type": "stream",
     "text": [
      "True\n",
      "False\n"
     ]
    }
   ],
   "source": [
    "txt = \"1234\"\n",
    "\n",
    "x = txt.isdecimal()\n",
    "\n",
    "print(x)\n",
    "\n",
    "y = \"1.2\".isdecimal()\n",
    "print(y)"
   ]
  },
  {
   "cell_type": "markdown",
   "id": "daf89326-e896-4fdb-b6ce-de8bd54ff9bd",
   "metadata": {},
   "source": [
    "Definition and Usage\\\n",
    "The isdecimal() method returns True if all the characters are decimals (0-9).\n",
    "\n",
    "This method can also be used on <b>unicode objects</b>.\\\n",
    "See example below."
   ]
  },
  {
   "cell_type": "code",
   "execution_count": 73,
   "id": "4eac49df-81b6-4f99-afdd-09daedd3705a",
   "metadata": {},
   "outputs": [
    {
     "name": "stdout",
     "output_type": "stream",
     "text": [
      "True\n",
      "False\n"
     ]
    }
   ],
   "source": [
    "a = \"\\u0030\" #unicode for 0\n",
    "b = \"\\u0047\" #unicode for G\n",
    "\n",
    "print(a.isdecimal())\n",
    "print(b.isdecimal())"
   ]
  },
  {
   "cell_type": "markdown",
   "id": "94610c7a-67b9-4e6c-8c34-17f57737a7c9",
   "metadata": {},
   "source": [
    "## isdigit()\tReturns True if all characters in the string are digits"
   ]
  },
  {
   "cell_type": "markdown",
   "id": "48de9bd0-5c02-4d46-ad0b-c54bf030a4ae",
   "metadata": {},
   "source": [
    "Example\\\n",
    "Check if all the characters in the text are digits:"
   ]
  },
  {
   "cell_type": "code",
   "execution_count": 92,
   "id": "9a1e9d40-e5c9-41c5-83ca-b453606bb032",
   "metadata": {},
   "outputs": [
    {
     "name": "stdout",
     "output_type": "stream",
     "text": [
      "True\n",
      "False\n"
     ]
    }
   ],
   "source": [
    "txt = \"50800\"\n",
    "\n",
    "x = txt.isdigit()\n",
    "\n",
    "print(x)\n",
    "\n",
    "y = \"1.2\".isdigit()\n",
    "print(y)"
   ]
  },
  {
   "cell_type": "markdown",
   "id": "2ad9d114-7a8f-4e37-9bc3-3b3e81ce8708",
   "metadata": {},
   "source": [
    "Definition and Usage\\\n",
    "The isdigit() method returns True if all the characters are digits, otherwise False.\\\n",
    "<h3>Exponents, like ², are also considered to be a digit.</h3>\n",
    "Example\n",
    "\n",
    "Check if all the characters in the text are digits:"
   ]
  },
  {
   "cell_type": "code",
   "execution_count": 94,
   "id": "bd4e5c70-c9f8-4375-83d6-d39e6fc6deda",
   "metadata": {},
   "outputs": [
    {
     "name": "stdout",
     "output_type": "stream",
     "text": [
      "True\n",
      "True\n"
     ]
    }
   ],
   "source": [
    "a = \"\\u0030\" #unicode for 0\n",
    "b = \"\\u00B2\" #unicode for ²\n",
    "\n",
    "print(a.isdigit())\n",
    "print(b.isdigit())"
   ]
  },
  {
   "cell_type": "markdown",
   "id": "6709a572-3d19-490b-8517-7bf2bfb142d3",
   "metadata": {},
   "source": [
    "## isnumeric()\tReturns True if all characters in the string are numeric"
   ]
  },
  {
   "cell_type": "markdown",
   "id": "08707aab-9afa-41a3-af68-78a88b7cde72",
   "metadata": {},
   "source": [
    "Example\\\n",
    "Check if all the characters in the text are numeric:"
   ]
  },
  {
   "cell_type": "code",
   "execution_count": 99,
   "id": "a3e57adb-6fdc-486d-8665-f9b9f1131ded",
   "metadata": {},
   "outputs": [
    {
     "name": "stdout",
     "output_type": "stream",
     "text": [
      "True\n"
     ]
    }
   ],
   "source": [
    "txt = \"565543\"\n",
    "\n",
    "x = txt.isnumeric()\n",
    "\n",
    "print(x)"
   ]
  },
  {
   "cell_type": "markdown",
   "id": "e94bc27f-ae59-4445-8ab9-cc3f416553b3",
   "metadata": {},
   "source": [
    "Definition and Usage\n",
    "\n",
    "The isnumeric() method returns True if all the characters are numeric (0-9), otherwise False.\n",
    "\n",
    "<h3>Exponents, like ² and ¾ are also considered to be numeric values.</h3>\n",
    "\n",
    "<b>\"-1\" and \"1.5\" are NOT considered numeric values, because all the characters in the string must be numeric, and the - and the . are not.</b>\n",
    "\n",
    "MORE EXAMPLES"
   ]
  },
  {
   "cell_type": "code",
   "execution_count": 107,
   "id": "f0cf7c7a-6dbe-4d25-9e1c-5d8987a3b608",
   "metadata": {},
   "outputs": [
    {
     "name": "stdout",
     "output_type": "stream",
     "text": [
      "True\n",
      "True\n",
      "False\n",
      "False\n",
      "False\n"
     ]
    }
   ],
   "source": [
    "a = \"\\u0030\" #unicode for 0\n",
    "b = \"\\u00B2\" #unicode for ²;\n",
    "c = \"10km2\"\n",
    "d = \"-1\"\n",
    "e = \"1.5\"\n",
    "\n",
    "print(a.isnumeric())\n",
    "print(b.isnumeric())\n",
    "print(c.isnumeric())\n",
    "print(d.isnumeric())\n",
    "print(e.isnumeric())"
   ]
  },
  {
   "cell_type": "markdown",
   "id": "f387c2b9-9771-4e6f-aa83-630e3f994c94",
   "metadata": {},
   "source": [
    "Em Python, os métodos <CODE>str.isdecimal()</CODE> e <CODE>str.isnumeric()</CODE> são utilizados para verificar se todos os caracteres de uma string representam valores numéricos. Embora pareçam semelhantes, eles possuem diferenças importantes em relação aos tipos de caracteres que reconhecem.\n",
    "\n",
    "🔍 Diferenças principais\\\n",
    "<CODE>isdecimal()</CODE>: Retorna <code>True</code> apenas se todos os caracteres da string forem dígitos decimais (0 a 9), pertencentes à categoria Unicode \"Nd\" (Number, Decimal Digit). <B>É o método mais restritivo</B>. Por exemplo, '123' retorna True, mas '½' ou '²' retornam <code>False</code>\n",
    "\n",
    "<code>isdigit()</code>: Retorna <code>True</code> se todos os caracteres da string forem dígitos, incluindo dígitos decimais e outros caracteres que representam dígitos em diferentes sistemas numéricos, como expoentes (por exemplo, '²') e subscritos. Por exemplo, '123' e '²' retornam <code>True</code>, mas '½' retorna <code>False.</code>\n",
    "\n",
    "<CODE>isnumeric()</CODE>: Retorna <code>True</code> se todos os caracteres da string forem numéricos, incluindo dígitos decimais, frações (como '½'), expoentes (como '²') e numerais romanos (como 'Ⅻ'). <b>É o método mais abrangente.</b>"
   ]
  },
  {
   "cell_type": "code",
   "execution_count": null,
   "id": "2bfc843d-1cda-469f-9d7f-88d1820ed43e",
   "metadata": {},
   "outputs": [],
   "source": [
    "print('123'.isdecimal())   # True\n",
    "print('123'.isdigit())     # True\n",
    "print('123'.isnumeric())   # True\n",
    "\n",
    "print('²'.isdecimal())     # False\n",
    "print('²'.isdigit())       # True\n",
    "print('²'.isnumeric())     # True\n",
    "\n",
    "print('½'.isdecimal())     # False\n",
    "print('½'.isdigit())       # False\n",
    "print('½'.isnumeric())     # True\n",
    "\n",
    "print('Ⅻ'.isdecimal())     # False\n",
    "print('Ⅻ'.isdigit())       # False\n",
    "print('Ⅻ'.isnumeric())     # True"
   ]
  },
  {
   "cell_type": "markdown",
   "id": "78e25b39-b5b5-49d5-a4f4-3a1de089405b",
   "metadata": {},
   "source": [
    "✅ Quando usar cada um?\\\n",
    "Use <CODE>isdecimal()</CODE>: quando precisar garantir que a string contenha apenas dígitos decimais padrão, como em validações de entradas numéricas simples (por exemplo, números de identificação).\n",
    "\n",
    "\n",
    "Use <code>isdigit()</code>: Útil quando se deseja aceitar dígitos em diferentes formas, incluindo <b>expoentes e subscritos</b>, mas ainda assim restringir a outros tipos de caracteres numéricos.\n",
    "\n",
    "Use <CODE>isnumeric()</CODE> quando for necessário aceitar uma variedade mais ampla de representações numéricas, incluindo frações e numerais especiais."
   ]
  },
  {
   "cell_type": "markdown",
   "id": "705b28a1-172e-4c7c-9343-da39947e37c2",
   "metadata": {},
   "source": [
    "## isidentifier()\tReturns True if the string is an identifier"
   ]
  },
  {
   "cell_type": "markdown",
   "id": "d9f2e533-45c3-4fed-bacf-ca0f9312484c",
   "metadata": {},
   "source": [
    "Example\\\n",
    "Check if the string is a valid identifier:"
   ]
  },
  {
   "cell_type": "code",
   "execution_count": 128,
   "id": "4fd234cd-6172-4f5f-9c28-94265cbb92c6",
   "metadata": {},
   "outputs": [
    {
     "name": "stdout",
     "output_type": "stream",
     "text": [
      "True\n"
     ]
    }
   ],
   "source": [
    "txt = \"Demo\"\n",
    "\n",
    "x = txt.isidentifier()\n",
    "\n",
    "print(x)"
   ]
  },
  {
   "cell_type": "markdown",
   "id": "87faf5d4-3af2-4671-814d-7e07a9fdd30c",
   "metadata": {},
   "source": [
    "Definition and Usage\\\n",
    "The isidentifier() method returns <code>True</code> if the string is a valid identifier, otherwise <code>False</code>.\n",
    "\n",
    "A string is considered a valid identifier if it only contains alphanumeric letters (a-z) and (0-9), or underscores (_).\\\n",
    "<b>A valid identifier cannot start with a number, or contain any spaces.</b>\n",
    "\n",
    "Examples\\\n",
    "Check if the strings are valid identifiers:\n",
    "\n"
   ]
  },
  {
   "cell_type": "code",
   "execution_count": 136,
   "id": "2270e930-4077-4181-add2-5645ae662055",
   "metadata": {},
   "outputs": [
    {
     "name": "stdout",
     "output_type": "stream",
     "text": [
      "True\n",
      "True\n",
      "False\n",
      "False\n"
     ]
    }
   ],
   "source": [
    "a = \"MyFolder\"\n",
    "b = \"Demo002\"\n",
    "c = \"2bring\" #NÃO, POIS COMEÇA COM UM NÚMERO\n",
    "d = \"my demo\" #NÃO, POIS CONTÉM ESPAÇO\n",
    "\n",
    "print(a.isidentifier())\n",
    "print(b.isidentifier())\n",
    "print(c.isidentifier())\n",
    "print(d.isidentifier())"
   ]
  },
  {
   "cell_type": "markdown",
   "id": "0b558ef2-9fa6-42cd-b571-6e541180ff9a",
   "metadata": {},
   "source": [
    "\n",
    "\n",
    "islower()\tReturns True if all characters in the string are lower case\\\n",
    "\n",
    "isprintable()\tReturns True if all characters in the string are printable\\\n",
    "isspace()\tReturns True if all characters in the string are whitespaces\\\n",
    "istitle()\tReturns True if the string follows the rules of a title\\\n",
    "isupper()\tReturns True if all characters in the string are upper case"
   ]
  },
  {
   "cell_type": "code",
   "execution_count": null,
   "id": "66cee39d-59aa-4d12-b82e-aff94d8e4efe",
   "metadata": {},
   "outputs": [],
   "source": []
  }
 ],
 "metadata": {
  "kernelspec": {
   "display_name": "Python [conda env:base] *",
   "language": "python",
   "name": "conda-base-py"
  },
  "language_info": {
   "codemirror_mode": {
    "name": "ipython",
    "version": 3
   },
   "file_extension": ".py",
   "mimetype": "text/x-python",
   "name": "python",
   "nbconvert_exporter": "python",
   "pygments_lexer": "ipython3",
   "version": "3.12.7"
  }
 },
 "nbformat": 4,
 "nbformat_minor": 5
}
