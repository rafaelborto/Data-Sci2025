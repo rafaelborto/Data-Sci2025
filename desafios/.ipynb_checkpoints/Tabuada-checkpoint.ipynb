{
 "cells": [
  {
   "cell_type": "markdown",
   "id": "f9b0a271-64a5-423d-8198-1262f4ea6838",
   "metadata": {},
   "source": [
    "# Tabuada do 1 ao 10"
   ]
  },
  {
   "cell_type": "code",
   "execution_count": null,
   "id": "6a65c1c4-6275-4fa9-9b90-84759c30bdc0",
   "metadata": {},
   "outputs": [],
   "source": []
  }
 ],
 "metadata": {
  "kernelspec": {
   "display_name": "Python [conda env:base] *",
   "language": "python",
   "name": "conda-base-py"
  },
  "language_info": {
   "codemirror_mode": {
    "name": "ipython",
    "version": 3
   },
   "file_extension": ".py",
   "mimetype": "text/x-python",
   "name": "python",
   "nbconvert_exporter": "python",
   "pygments_lexer": "ipython3",
   "version": "3.12.7"
  }
 },
 "nbformat": 4,
 "nbformat_minor": 5
}
