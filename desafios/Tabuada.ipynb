{
 "cells": [
  {
   "cell_type": "markdown",
   "id": "f9b0a271-64a5-423d-8198-1262f4ea6838",
   "metadata": {},
   "source": [
    "# Tabuada do 1 ao 10"
   ]
  },
  {
   "cell_type": "code",
   "execution_count": 31,
   "id": "ddb0fdb2-4f7c-4a22-9859-6e3bd9919ded",
   "metadata": {},
   "outputs": [
    {
     "name": "stdout",
     "output_type": "stream",
     "text": [
      "\n",
      "Tabuada do 1:\n",
      "1 x 1 = 1\n",
      "1 x 2 = 2\n",
      "1 x 3 = 3\n",
      "1 x 4 = 4\n",
      "1 x 5 = 5\n",
      "1 x 6 = 6\n",
      "1 x 7 = 7\n",
      "1 x 8 = 8\n",
      "1 x 9 = 9\n",
      "1 x 10 = 10\n",
      "\n",
      "Tabuada do 2:\n",
      "2 x 1 = 2\n",
      "2 x 2 = 4\n",
      "2 x 3 = 6\n",
      "2 x 4 = 8\n",
      "2 x 5 = 10\n",
      "2 x 6 = 12\n",
      "2 x 7 = 14\n",
      "2 x 8 = 16\n",
      "2 x 9 = 18\n",
      "2 x 10 = 20\n",
      "\n",
      "Tabuada do 3:\n",
      "3 x 1 = 3\n",
      "3 x 2 = 6\n",
      "3 x 3 = 9\n",
      "3 x 4 = 12\n",
      "3 x 5 = 15\n",
      "3 x 6 = 18\n",
      "3 x 7 = 21\n",
      "3 x 8 = 24\n",
      "3 x 9 = 27\n",
      "3 x 10 = 30\n",
      "\n",
      "Tabuada do 4:\n",
      "4 x 1 = 4\n",
      "4 x 2 = 8\n",
      "4 x 3 = 12\n",
      "4 x 4 = 16\n",
      "4 x 5 = 20\n",
      "4 x 6 = 24\n",
      "4 x 7 = 28\n",
      "4 x 8 = 32\n",
      "4 x 9 = 36\n",
      "4 x 10 = 40\n",
      "\n",
      "Tabuada do 5:\n",
      "5 x 1 = 5\n",
      "5 x 2 = 10\n",
      "5 x 3 = 15\n",
      "5 x 4 = 20\n",
      "5 x 5 = 25\n",
      "5 x 6 = 30\n",
      "5 x 7 = 35\n",
      "5 x 8 = 40\n",
      "5 x 9 = 45\n",
      "5 x 10 = 50\n",
      "\n",
      "Tabuada do 6:\n",
      "6 x 1 = 6\n",
      "6 x 2 = 12\n",
      "6 x 3 = 18\n",
      "6 x 4 = 24\n",
      "6 x 5 = 30\n",
      "6 x 6 = 36\n",
      "6 x 7 = 42\n",
      "6 x 8 = 48\n",
      "6 x 9 = 54\n",
      "6 x 10 = 60\n",
      "\n",
      "Tabuada do 7:\n",
      "7 x 1 = 7\n",
      "7 x 2 = 14\n",
      "7 x 3 = 21\n",
      "7 x 4 = 28\n",
      "7 x 5 = 35\n",
      "7 x 6 = 42\n",
      "7 x 7 = 49\n",
      "7 x 8 = 56\n",
      "7 x 9 = 63\n",
      "7 x 10 = 70\n",
      "\n",
      "Tabuada do 8:\n",
      "8 x 1 = 8\n",
      "8 x 2 = 16\n",
      "8 x 3 = 24\n",
      "8 x 4 = 32\n",
      "8 x 5 = 40\n",
      "8 x 6 = 48\n",
      "8 x 7 = 56\n",
      "8 x 8 = 64\n",
      "8 x 9 = 72\n",
      "8 x 10 = 80\n",
      "\n",
      "Tabuada do 9:\n",
      "9 x 1 = 9\n",
      "9 x 2 = 18\n",
      "9 x 3 = 27\n",
      "9 x 4 = 36\n",
      "9 x 5 = 45\n",
      "9 x 6 = 54\n",
      "9 x 7 = 63\n",
      "9 x 8 = 72\n",
      "9 x 9 = 81\n",
      "9 x 10 = 90\n",
      "\n",
      "Tabuada do 10:\n",
      "10 x 1 = 10\n",
      "10 x 2 = 20\n",
      "10 x 3 = 30\n",
      "10 x 4 = 40\n",
      "10 x 5 = 50\n",
      "10 x 6 = 60\n",
      "10 x 7 = 70\n",
      "10 x 8 = 80\n",
      "10 x 9 = 90\n",
      "10 x 10 = 100\n"
     ]
    }
   ],
   "source": [
    "for i in range(1, 11):\n",
    "    print(f\"\\nTabuada do {i}:\")\n",
    "    for j in range(1, 11):\n",
    "        resultado = i * j\n",
    "        print(f\"{i} x {j} = {resultado}\")"
   ]
  },
  {
   "cell_type": "markdown",
   "id": "e5b94fa2-1c9f-49a1-9be5-7646cc474300",
   "metadata": {},
   "source": [
    "## USANDO FOR e WHILE"
   ]
  },
  {
   "cell_type": "code",
   "execution_count": null,
   "id": "57105206-1b5f-4ddb-adcb-53f053863129",
   "metadata": {},
   "outputs": [],
   "source": [
    "for a in range(1, 11):  # tabuada de 1 a 10\n",
    "    print(f\"\\nTabuada do {a}:\")\n",
    "    b = 1  # inicializa o multiplicador\n",
    "    while b <= 10:\n",
    "        print(f\"{a} x {b} = {a * b}\")\n",
    "        b += 1  # incrementa o multiplicador"
   ]
  },
  {
   "cell_type": "markdown",
   "id": "cca366be-48b4-4094-a58a-41c38bea49e9",
   "metadata": {},
   "source": [
    "## USANDO WHILE e FOR"
   ]
  },
  {
   "cell_type": "code",
   "execution_count": null,
   "id": "60b11af4-fdbd-49e2-9cb8-b075d6f179fd",
   "metadata": {},
   "outputs": [],
   "source": [
    "m = 1\n",
    "while m <= 10:\n",
    "    print(f\"\\nEsta é a tabuada do {m}\")"
   ]
  },
  {
   "cell_type": "code",
   "execution_count": null,
   "id": "fa3d2c68-9d57-40d8-bd6d-9e7fc5ac2aa7",
   "metadata": {},
   "outputs": [],
   "source": []
  }
 ],
 "metadata": {
  "kernelspec": {
   "display_name": "Python [conda env:base] *",
   "language": "python",
   "name": "conda-base-py"
  },
  "language_info": {
   "codemirror_mode": {
    "name": "ipython",
    "version": 3
   },
   "file_extension": ".py",
   "mimetype": "text/x-python",
   "name": "python",
   "nbconvert_exporter": "python",
   "pygments_lexer": "ipython3",
   "version": "3.12.7"
  }
 },
 "nbformat": 4,
 "nbformat_minor": 5
}
