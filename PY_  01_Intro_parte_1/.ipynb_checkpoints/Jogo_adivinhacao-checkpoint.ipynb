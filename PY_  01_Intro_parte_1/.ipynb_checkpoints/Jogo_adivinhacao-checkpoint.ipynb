{
 "cells": [
  {
   "cell_type": "code",
   "execution_count": 1,
   "id": "92f4f5b7",
   "metadata": {},
   "outputs": [
    {
     "name": "stdout",
     "output_type": "stream",
     "text": [
      "****************************************\n",
      "Bem vindo ao jogo da adivinhação\n",
      "****************************************\n"
     ]
    }
   ],
   "source": [
    "print(40* \"*\")\n",
    "print(\"Bem vindo ao jogo da adivinhação\")\n",
    "print(40* \"*\")"
   ]
  },
  {
   "cell_type": "code",
   "execution_count": 11,
   "id": "b3c532f2",
   "metadata": {},
   "outputs": [
    {
     "name": "stdout",
     "output_type": "stream",
     "text": [
      "Digite o seu número: 42\n",
      "Você digitou 42\n"
     ]
    }
   ],
   "source": [
    "num_secreto  = 42\n",
    "chute = int(input(\"Digite o seu número: \"))\n",
    "print(\"Você digitou\", chute)"
   ]
  },
  {
   "cell_type": "code",
   "execution_count": 15,
   "id": "de532b0c",
   "metadata": {},
   "outputs": [
    {
     "name": "stdout",
     "output_type": "stream",
     "text": [
      "Você acertou! :)\n",
      "Fim de Jogo\n"
     ]
    }
   ],
   "source": [
    "if num_secreto == chute:\n",
    "    print(\"Você acertou! :)\")\n",
    "else:\n",
    "    print(\"Você errou! :(\")\n",
    "\n",
    "print(\"Fim de Jogo\")"
   ]
  },
  {
   "cell_type": "code",
   "execution_count": 13,
   "id": "75dfe573",
   "metadata": {},
   "outputs": [
    {
     "data": {
      "text/plain": [
       "int"
      ]
     },
     "execution_count": 13,
     "metadata": {},
     "output_type": "execute_result"
    }
   ],
   "source": [
    "type(chute)"
   ]
  },
  {
   "cell_type": "markdown",
   "id": "5fdfe4f7",
   "metadata": {},
   "source": [
    "    O input sempre devolve um string, então devo converter para inteiro"
   ]
  },
  {
   "cell_type": "code",
   "execution_count": 16,
   "id": "c4c2adf3",
   "metadata": {},
   "outputs": [
    {
     "name": "stdout",
     "output_type": "stream",
     "text": [
      "idd diferentes\n"
     ]
    }
   ],
   "source": [
    "minha_idd = 29\n",
    "dela_idd = 30\n",
    "if minha_idd == dela_idd:\n",
    "    print(\"idades iguais\")\n",
    "else:\n",
    "    print(\"idd diferentes\")"
   ]
  },
  {
   "cell_type": "code",
   "execution_count": 19,
   "id": "f2dce5ee",
   "metadata": {},
   "outputs": [
    {
     "name": "stdout",
     "output_type": "stream",
     "text": [
      "1020\n"
     ]
    }
   ],
   "source": [
    "idd1 = \"10\"\n",
    "idd2 = \"20\"\n",
    "print(idd1 + idd2) #str e int eu não consigo somar"
   ]
  },
  {
   "cell_type": "code",
   "execution_count": 23,
   "id": "1d1b7f6c",
   "metadata": {},
   "outputs": [
    {
     "name": "stdout",
     "output_type": "stream",
     "text": [
      "Rafa_BortoA"
     ]
    }
   ],
   "source": [
    "nome = \"Rafa\"\n",
    "sobren = \"Borto\"\n",
    "print(nome, sobren, sep = \"_\", end = \"A\")"
   ]
  },
  {
   "cell_type": "code",
   "execution_count": null,
   "id": "87fa15bc",
   "metadata": {},
   "outputs": [],
   "source": []
  }
 ],
 "metadata": {
  "kernelspec": {
   "display_name": "Python 3 (ipykernel)",
   "language": "python",
   "name": "python3"
  },
  "language_info": {
   "codemirror_mode": {
    "name": "ipython",
    "version": 3
   },
   "file_extension": ".py",
   "mimetype": "text/x-python",
   "name": "python",
   "nbconvert_exporter": "python",
   "pygments_lexer": "ipython3",
   "version": "3.9.7"
  }
 },
 "nbformat": 4,
 "nbformat_minor": 5
}
