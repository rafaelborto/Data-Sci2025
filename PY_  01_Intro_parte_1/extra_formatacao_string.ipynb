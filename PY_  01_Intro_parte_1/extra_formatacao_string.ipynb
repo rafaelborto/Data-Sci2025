{
 "cells": [
  {
   "cell_type": "code",
   "execution_count": 2,
   "id": "86627692",
   "metadata": {},
   "outputs": [
    {
     "name": "stdout",
     "output_type": "stream",
     "text": [
      "Ola Sr.Leonardo Cordeiro\n"
     ]
    }
   ],
   "source": [
    "print(\"Ola Sr.{1} {0}\".format(\"Cordeiro\",\"Leonardo\")) #se quiser imprimir o segundo parâmentro primeiro"
   ]
  },
  {
   "cell_type": "markdown",
   "id": "80b91e31",
   "metadata": {},
   "source": [
    "### imprimir um float"
   ]
  },
  {
   "cell_type": "code",
   "execution_count": 5,
   "id": "0e4822fd",
   "metadata": {},
   "outputs": [
    {
     "name": "stdout",
     "output_type": "stream",
     "text": [
      "R$ 1.590000\n"
     ]
    }
   ],
   "source": [
    "print(\"R$ {:f}\".format(1.59))"
   ]
  },
  {
   "cell_type": "code",
   "execution_count": 6,
   "id": "f9cf40b8",
   "metadata": {},
   "outputs": [
    {
     "name": "stdout",
     "output_type": "stream",
     "text": [
      "R$ 1.59\n"
     ]
    }
   ],
   "source": [
    "print(\"R$ {:.2f}\".format(1.59))"
   ]
  },
  {
   "cell_type": "code",
   "execution_count": 8,
   "id": "92908197",
   "metadata": {},
   "outputs": [
    {
     "name": "stdout",
     "output_type": "stream",
     "text": [
      "R$ 1234.50\n"
     ]
    }
   ],
   "source": [
    "print(\"R$ {:7.2f}\".format(1234.50))"
   ]
  },
  {
   "cell_type": "code",
   "execution_count": 11,
   "id": "23aa9606",
   "metadata": {},
   "outputs": [
    {
     "name": "stdout",
     "output_type": "stream",
     "text": [
      "R$    1.50\n",
      "R$ 1.59\n",
      "R$ 0001.50\n"
     ]
    }
   ],
   "source": [
    "print(\"R$ {:7.2f}\".format(1.5))\n",
    "print(\"R$ {:.2f}\".format(1.59))\n",
    "print(\"R$ {:07.2f}\".format(1.5))\n"
   ]
  },
  {
   "cell_type": "code",
   "execution_count": 12,
   "id": "b1ade53c",
   "metadata": {},
   "outputs": [
    {
     "name": "stdout",
     "output_type": "stream",
     "text": [
      "R$ 0000004\n"
     ]
    }
   ],
   "source": [
    "print(\"R$ {:07d}\".format(4))"
   ]
  },
  {
   "cell_type": "code",
   "execution_count": 13,
   "id": "ac5f458d",
   "metadata": {},
   "outputs": [
    {
     "name": "stdout",
     "output_type": "stream",
     "text": [
      "Data 09/04\n"
     ]
    }
   ],
   "source": [
    "print(\"Data {:02d}/{:02d}\".format(9, 4))"
   ]
  },
  {
   "cell_type": "code",
   "execution_count": 16,
   "id": "3418ab04",
   "metadata": {},
   "outputs": [
    {
     "name": "stdout",
     "output_type": "stream",
     "text": [
      "Meu nome é Matheus\n"
     ]
    }
   ],
   "source": [
    "nome = 'Matheus'\n",
    "print(f'Meu nome é {nome}')"
   ]
  },
  {
   "cell_type": "code",
   "execution_count": 18,
   "id": "13a43590",
   "metadata": {},
   "outputs": [
    {
     "name": "stdout",
     "output_type": "stream",
     "text": [
      "Meu nome é matheus\n"
     ]
    }
   ],
   "source": [
    "nome = 'Matheus'\n",
    "print(f'Meu nome é {nome.lower()}')"
   ]
  },
  {
   "cell_type": "code",
   "execution_count": null,
   "id": "1b7a31ee",
   "metadata": {},
   "outputs": [],
   "source": []
  }
 ],
 "metadata": {
  "kernelspec": {
   "display_name": "Python 3 (ipykernel)",
   "language": "python",
   "name": "python3"
  },
  "language_info": {
   "codemirror_mode": {
    "name": "ipython",
    "version": 3
   },
   "file_extension": ".py",
   "mimetype": "text/x-python",
   "name": "python",
   "nbconvert_exporter": "python",
   "pygments_lexer": "ipython3",
   "version": "3.9.7"
  }
 },
 "nbformat": 4,
 "nbformat_minor": 5
}
