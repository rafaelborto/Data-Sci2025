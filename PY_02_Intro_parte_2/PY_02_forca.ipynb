{
 "cells": [
  {
   "cell_type": "code",
   "execution_count": 25,
   "id": "45987ef9",
   "metadata": {},
   "outputs": [],
   "source": [
    "# def jogar():\n",
    "#     print(40 * \"*\")\n",
    "#     print(\"Bem vindo ao jogo da FORCA\")\n",
    "#     print(40 * \"*\")\n",
    "\n",
    "#     palavra_secreta = 'banana'\n",
    "\n",
    "#     enforcou = False\n",
    "#     acertou = False\n",
    "\n",
    "#     while not enforcou and not acertou:\n",
    "#         chute = input(\"Qual letra? \")\n",
    "\n",
    "#         print('jogando...')\n",
    "\n",
    "# # if __name__ == \"main\":\n",
    "# jogar()"
   ]
  },
  {
   "cell_type": "code",
   "execution_count": 26,
   "id": "1bbafb78",
   "metadata": {},
   "outputs": [
    {
     "data": {
      "text/plain": [
       "0"
      ]
     },
     "execution_count": 26,
     "metadata": {},
     "output_type": "execute_result"
    }
   ],
   "source": [
    "palavra = 'banana'\n",
    "palavra.find('b') #vai me retornar a posição da letra, no caso 0 (zero) - primeira\n"
   ]
  },
  {
   "cell_type": "code",
   "execution_count": 27,
   "id": "4a4467dc",
   "metadata": {},
   "outputs": [
    {
     "data": {
      "text/plain": [
       "2"
      ]
     },
     "execution_count": 27,
     "metadata": {},
     "output_type": "execute_result"
    }
   ],
   "source": [
    "palavra.find('n') #retorna a posição da letra encontrada. mas apenas da primeira"
   ]
  },
  {
   "cell_type": "code",
   "execution_count": 28,
   "id": "5e0c205f",
   "metadata": {},
   "outputs": [
    {
     "data": {
      "text/plain": [
       "-1"
      ]
     },
     "execution_count": 28,
     "metadata": {},
     "output_type": "execute_result"
    }
   ],
   "source": [
    "palavra.find('z') #retorna -1 porque não encontrou a letra procurada"
   ]
  },
  {
   "cell_type": "markdown",
   "id": "3663846b",
   "metadata": {},
   "source": [
    "O find também aceita um segundo parâmetro, que define a partir de qual posição gostaríamos de começar, por exemplo:\n",
    "\n",
    ">>> palavra = \"aluracursos\"\n",
    ">>> palavra.find(\"a\",1) #procurando \"a\" a partir da segunda posição \n",
    "4"
   ]
  },
  {
   "cell_type": "code",
   "execution_count": 29,
   "id": "2c53c8ac",
   "metadata": {},
   "outputs": [
    {
     "name": "stdout",
     "output_type": "stream",
     "text": [
      "b\n",
      "a\n",
      "n\n",
      "a\n",
      "n\n",
      "a\n"
     ]
    }
   ],
   "source": [
    "for letra in palavra:\n",
    "    print(letra)"
   ]
  },
  {
   "cell_type": "code",
   "execution_count": null,
   "id": "c9e96db3",
   "metadata": {},
   "outputs": [],
   "source": [
    "def jogar():\n",
    "    print(40 * \"*\")\n",
    "    print(\"Bem vindo ao jogo da FORCA\")\n",
    "    print(40 * \"*\")\n",
    "\n",
    "    palavra_secreta = 'banana'\n",
    "\n",
    "    enforcou = False\n",
    "    acertou = False\n",
    "\n",
    "    while not enforcou and not acertou:\n",
    "        chute = input(\"Qual letra? \")\n",
    "        \n",
    "        for letra in palavra_secreta:\n",
    "            if letra == chute:\n",
    "                print(f'Temos a letra {chute}')\n",
    "#             else:\n",
    "#                 print(f\"Não tem a letra {chute}\")\n",
    "\n",
    "        print('jogando...')\n",
    "\n",
    "# if __name__ == \"main\":\n",
    "jogar()"
   ]
  },
  {
   "cell_type": "markdown",
   "id": "c4bb8ece",
   "metadata": {},
   "source": [
    "### O Python diferencia letra maiúscula de minúscula, portanto a != A\n",
    "\n",
    "#### Vamos criar um index para o python devolver a posição em que está a letra."
   ]
  },
  {
   "cell_type": "code",
   "execution_count": null,
   "id": "f1d3ca68",
   "metadata": {},
   "outputs": [
    {
     "name": "stdout",
     "output_type": "stream",
     "text": [
      "****************************************\n",
      "Bem vindo ao jogo da FORCA\n",
      "****************************************\n",
      "Qual letra? a\n",
      "Temos a letra a na posição 1\n",
      "Temos a letra a na posição 3\n",
      "Temos a letra a na posição 5\n",
      "jogando...\n",
      "Qual letra? A\n",
      "jogando...\n"
     ]
    }
   ],
   "source": [
    "def jogar():\n",
    "    print(40 * \"*\")\n",
    "    print(\"Bem vindo ao jogo da FORCA\")\n",
    "    print(40 * \"*\")\n",
    "\n",
    "    palavra_secreta = 'banana'\n",
    "\n",
    "    enforcou = False\n",
    "    acertou = False\n",
    "\n",
    "    while not enforcou and not acertou:\n",
    "        chute = input(\"Qual letra? \")\n",
    "        \n",
    "        index = 0\n",
    "        for letra in palavra_secreta:\n",
    "            if letra == chute:\n",
    "                print(f'Temos a letra {chute} na posição {index}')\n",
    "            index = index + 1\n",
    "\n",
    "\n",
    "        print('jogando...')\n",
    "\n",
    "# if __name__ == \"main\":\n",
    "jogar()"
   ]
  },
  {
   "cell_type": "code",
   "execution_count": null,
   "id": "72b7d6b0",
   "metadata": {},
   "outputs": [],
   "source": []
  }
 ],
 "metadata": {
  "kernelspec": {
   "display_name": "Python 3 (ipykernel)",
   "language": "python",
   "name": "python3"
  },
  "language_info": {
   "codemirror_mode": {
    "name": "ipython",
    "version": 3
   },
   "file_extension": ".py",
   "mimetype": "text/x-python",
   "name": "python",
   "nbconvert_exporter": "python",
   "pygments_lexer": "ipython3",
   "version": "3.9.7"
  }
 },
 "nbformat": 4,
 "nbformat_minor": 5
}
