{
 "cells": [
  {
   "cell_type": "code",
   "execution_count": 4,
   "id": "b3871deb",
   "metadata": {},
   "outputs": [
    {
     "name": "stdout",
     "output_type": "stream",
     "text": [
      "****************************************\n",
      "Bem vindo ao jogo da FORCA\n",
      "****************************************\n"
     ]
    },
    {
     "ename": "KeyboardInterrupt",
     "evalue": "Interrupted by user",
     "output_type": "error",
     "traceback": [
      "\u001b[1;31m---------------------------------------------------------------------------\u001b[0m",
      "\u001b[1;31mKeyboardInterrupt\u001b[0m                         Traceback (most recent call last)",
      "\u001b[1;32m~\\AppData\\Local\\Temp/ipykernel_8348/2645024051.py\u001b[0m in \u001b[0;36m<module>\u001b[1;34m\u001b[0m\n\u001b[0;32m     23\u001b[0m \u001b[1;33m\u001b[0m\u001b[0m\n\u001b[0;32m     24\u001b[0m \u001b[1;31m# if __name__ == \"main\":\u001b[0m\u001b[1;33m\u001b[0m\u001b[1;33m\u001b[0m\u001b[0m\n\u001b[1;32m---> 25\u001b[1;33m \u001b[0mjogar\u001b[0m\u001b[1;33m(\u001b[0m\u001b[1;33m)\u001b[0m\u001b[1;33m\u001b[0m\u001b[1;33m\u001b[0m\u001b[0m\n\u001b[0m",
      "\u001b[1;32m~\\AppData\\Local\\Temp/ipykernel_8348/2645024051.py\u001b[0m in \u001b[0;36mjogar\u001b[1;34m()\u001b[0m\n\u001b[0;32m     10\u001b[0m \u001b[1;33m\u001b[0m\u001b[0m\n\u001b[0;32m     11\u001b[0m     \u001b[1;32mwhile\u001b[0m \u001b[1;32mnot\u001b[0m \u001b[0menforcou\u001b[0m \u001b[1;32mand\u001b[0m \u001b[1;32mnot\u001b[0m \u001b[0macertou\u001b[0m\u001b[1;33m:\u001b[0m\u001b[1;33m\u001b[0m\u001b[1;33m\u001b[0m\u001b[0m\n\u001b[1;32m---> 12\u001b[1;33m         \u001b[0mchute\u001b[0m \u001b[1;33m=\u001b[0m \u001b[0minput\u001b[0m\u001b[1;33m(\u001b[0m\u001b[1;34m\"Qual letra? \"\u001b[0m\u001b[1;33m)\u001b[0m\u001b[1;33m\u001b[0m\u001b[1;33m\u001b[0m\u001b[0m\n\u001b[0m\u001b[0;32m     13\u001b[0m         \u001b[0mchute\u001b[0m \u001b[1;33m=\u001b[0m \u001b[0mchute\u001b[0m\u001b[1;33m.\u001b[0m\u001b[0mstrip\u001b[0m\u001b[1;33m(\u001b[0m\u001b[1;33m)\u001b[0m\u001b[1;33m\u001b[0m\u001b[1;33m\u001b[0m\u001b[0m\n\u001b[0;32m     14\u001b[0m \u001b[1;33m\u001b[0m\u001b[0m\n",
      "\u001b[1;32m~\\anaconda3\\lib\\site-packages\\ipykernel\\kernelbase.py\u001b[0m in \u001b[0;36mraw_input\u001b[1;34m(self, prompt)\u001b[0m\n\u001b[0;32m   1004\u001b[0m                 \u001b[1;34m\"raw_input was called, but this frontend does not support input requests.\"\u001b[0m\u001b[1;33m\u001b[0m\u001b[1;33m\u001b[0m\u001b[0m\n\u001b[0;32m   1005\u001b[0m             )\n\u001b[1;32m-> 1006\u001b[1;33m         return self._input_request(\n\u001b[0m\u001b[0;32m   1007\u001b[0m             \u001b[0mstr\u001b[0m\u001b[1;33m(\u001b[0m\u001b[0mprompt\u001b[0m\u001b[1;33m)\u001b[0m\u001b[1;33m,\u001b[0m\u001b[1;33m\u001b[0m\u001b[1;33m\u001b[0m\u001b[0m\n\u001b[0;32m   1008\u001b[0m             \u001b[0mself\u001b[0m\u001b[1;33m.\u001b[0m\u001b[0m_parent_ident\u001b[0m\u001b[1;33m[\u001b[0m\u001b[1;34m\"shell\"\u001b[0m\u001b[1;33m]\u001b[0m\u001b[1;33m,\u001b[0m\u001b[1;33m\u001b[0m\u001b[1;33m\u001b[0m\u001b[0m\n",
      "\u001b[1;32m~\\anaconda3\\lib\\site-packages\\ipykernel\\kernelbase.py\u001b[0m in \u001b[0;36m_input_request\u001b[1;34m(self, prompt, ident, parent, password)\u001b[0m\n\u001b[0;32m   1049\u001b[0m             \u001b[1;32mexcept\u001b[0m \u001b[0mKeyboardInterrupt\u001b[0m\u001b[1;33m:\u001b[0m\u001b[1;33m\u001b[0m\u001b[1;33m\u001b[0m\u001b[0m\n\u001b[0;32m   1050\u001b[0m                 \u001b[1;31m# re-raise KeyboardInterrupt, to truncate traceback\u001b[0m\u001b[1;33m\u001b[0m\u001b[1;33m\u001b[0m\u001b[0m\n\u001b[1;32m-> 1051\u001b[1;33m                 \u001b[1;32mraise\u001b[0m \u001b[0mKeyboardInterrupt\u001b[0m\u001b[1;33m(\u001b[0m\u001b[1;34m\"Interrupted by user\"\u001b[0m\u001b[1;33m)\u001b[0m \u001b[1;32mfrom\u001b[0m \u001b[1;32mNone\u001b[0m\u001b[1;33m\u001b[0m\u001b[1;33m\u001b[0m\u001b[0m\n\u001b[0m\u001b[0;32m   1052\u001b[0m             \u001b[1;32mexcept\u001b[0m \u001b[0mException\u001b[0m\u001b[1;33m:\u001b[0m\u001b[1;33m\u001b[0m\u001b[1;33m\u001b[0m\u001b[0m\n\u001b[0;32m   1053\u001b[0m                 \u001b[0mself\u001b[0m\u001b[1;33m.\u001b[0m\u001b[0mlog\u001b[0m\u001b[1;33m.\u001b[0m\u001b[0mwarning\u001b[0m\u001b[1;33m(\u001b[0m\u001b[1;34m\"Invalid Message:\"\u001b[0m\u001b[1;33m,\u001b[0m \u001b[0mexc_info\u001b[0m\u001b[1;33m=\u001b[0m\u001b[1;32mTrue\u001b[0m\u001b[1;33m)\u001b[0m\u001b[1;33m\u001b[0m\u001b[1;33m\u001b[0m\u001b[0m\n",
      "\u001b[1;31mKeyboardInterrupt\u001b[0m: Interrupted by user"
     ]
    }
   ],
   "source": [
    "def jogar():\n",
    "    print(40 * \"*\")\n",
    "    print(\"Bem vindo ao jogo da FORCA\")\n",
    "    print(40 * \"*\")\n",
    "\n",
    "    palavra_secreta = 'banana'\n",
    "\n",
    "    enforcou = False\n",
    "    acertou = False\n",
    "\n",
    "    while not enforcou and not acertou:\n",
    "        chute = input(\"Qual letra? \")\n",
    "        chute = chute.strip()\n",
    "        \n",
    "        index = 0\n",
    "        for letra in palavra_secreta:\n",
    "            if chute.upper() == letra.upper():\n",
    "                print(f'Temos a letra {chute} na posição {index}')\n",
    "            index = index + 1\n",
    "\n",
    "\n",
    "        print('jogando...')\n",
    "\n",
    "# if __name__ == \"main\":\n",
    "jogar()"
   ]
  },
  {
   "cell_type": "markdown",
   "id": "e0bafae8",
   "metadata": {},
   "source": [
    "## LIST"
   ]
  },
  {
   "cell_type": "code",
   "execution_count": 5,
   "id": "c4c251a3",
   "metadata": {},
   "outputs": [
    {
     "data": {
      "text/plain": [
       "list"
      ]
     },
     "execution_count": 5,
     "metadata": {},
     "output_type": "execute_result"
    }
   ],
   "source": [
    "valores = []\n",
    "type(valores)"
   ]
  },
  {
   "cell_type": "code",
   "execution_count": 6,
   "id": "733589dd",
   "metadata": {},
   "outputs": [],
   "source": [
    "valores = [3, 5, 6, 8, 9, 'x']"
   ]
  },
  {
   "cell_type": "code",
   "execution_count": 7,
   "id": "71c050ea",
   "metadata": {},
   "outputs": [
    {
     "data": {
      "text/plain": [
       "False"
      ]
     },
     "execution_count": 7,
     "metadata": {},
     "output_type": "execute_result"
    }
   ],
   "source": [
    "2 in valores #Posso perguntar se tenho um valor na LIST com a palavra IN"
   ]
  },
  {
   "cell_type": "code",
   "execution_count": 8,
   "id": "3a9d0334",
   "metadata": {},
   "outputs": [
    {
     "data": {
      "text/plain": [
       "False"
      ]
     },
     "execution_count": 8,
     "metadata": {},
     "output_type": "execute_result"
    }
   ],
   "source": [
    "'b' in valores"
   ]
  },
  {
   "cell_type": "code",
   "execution_count": 9,
   "id": "4e09b9c1",
   "metadata": {},
   "outputs": [
    {
     "data": {
      "text/plain": [
       "True"
      ]
     },
     "execution_count": 9,
     "metadata": {},
     "output_type": "execute_result"
    }
   ],
   "source": [
    "'x' in valores\n"
   ]
  },
  {
   "cell_type": "code",
   "execution_count": 10,
   "id": "4bd94a14",
   "metadata": {},
   "outputs": [
    {
     "data": {
      "text/plain": [
       "True"
      ]
     },
     "execution_count": 10,
     "metadata": {},
     "output_type": "execute_result"
    }
   ],
   "source": [
    "'a' in 'banana'"
   ]
  },
  {
   "cell_type": "code",
   "execution_count": 11,
   "id": "b28b0e59",
   "metadata": {},
   "outputs": [
    {
     "data": {
      "text/plain": [
       "3"
      ]
     },
     "execution_count": 11,
     "metadata": {},
     "output_type": "execute_result"
    }
   ],
   "source": [
    "valores[0]"
   ]
  },
  {
   "cell_type": "code",
   "execution_count": 12,
   "id": "f4d2816e",
   "metadata": {},
   "outputs": [
    {
     "ename": "IndexError",
     "evalue": "list index out of range",
     "output_type": "error",
     "traceback": [
      "\u001b[1;31m---------------------------------------------------------------------------\u001b[0m",
      "\u001b[1;31mIndexError\u001b[0m                                Traceback (most recent call last)",
      "\u001b[1;32m~\\AppData\\Local\\Temp/ipykernel_8348/2801875249.py\u001b[0m in \u001b[0;36m<module>\u001b[1;34m\u001b[0m\n\u001b[1;32m----> 1\u001b[1;33m \u001b[0mvalores\u001b[0m\u001b[1;33m[\u001b[0m\u001b[1;36m8\u001b[0m\u001b[1;33m]\u001b[0m\u001b[1;33m\u001b[0m\u001b[1;33m\u001b[0m\u001b[0m\n\u001b[0m",
      "\u001b[1;31mIndexError\u001b[0m: list index out of range"
     ]
    }
   ],
   "source": [
    "valores[8]"
   ]
  },
  {
   "cell_type": "code",
   "execution_count": 32,
   "id": "876c49b3",
   "metadata": {},
   "outputs": [
    {
     "data": {
      "text/plain": [
       "1"
      ]
     },
     "execution_count": 32,
     "metadata": {},
     "output_type": "execute_result"
    }
   ],
   "source": [
    "numeros = [1, 4, 6, 89, 21, 6, 6, 92, 32]\n",
    "min(numeros)"
   ]
  },
  {
   "cell_type": "code",
   "execution_count": 33,
   "id": "78b9e351",
   "metadata": {},
   "outputs": [
    {
     "data": {
      "text/plain": [
       "9"
      ]
     },
     "execution_count": 33,
     "metadata": {},
     "output_type": "execute_result"
    }
   ],
   "source": [
    "len(numeros)"
   ]
  },
  {
   "cell_type": "code",
   "execution_count": 15,
   "id": "c3089985",
   "metadata": {},
   "outputs": [],
   "source": [
    "numeros.append(90)"
   ]
  },
  {
   "cell_type": "code",
   "execution_count": 34,
   "id": "f4d29b91",
   "metadata": {},
   "outputs": [
    {
     "data": {
      "text/plain": [
       "3"
      ]
     },
     "execution_count": 34,
     "metadata": {},
     "output_type": "execute_result"
    }
   ],
   "source": [
    "numeros.count(6)"
   ]
  },
  {
   "cell_type": "code",
   "execution_count": 16,
   "id": "a0f641bc",
   "metadata": {},
   "outputs": [
    {
     "data": {
      "text/plain": [
       "[1, 4, 6, 89, 21, 90]"
      ]
     },
     "execution_count": 16,
     "metadata": {},
     "output_type": "execute_result"
    }
   ],
   "source": [
    "numeros"
   ]
  },
  {
   "cell_type": "code",
   "execution_count": 17,
   "id": "a45622b3",
   "metadata": {},
   "outputs": [
    {
     "data": {
      "text/plain": [
       "90"
      ]
     },
     "execution_count": 17,
     "metadata": {},
     "output_type": "execute_result"
    }
   ],
   "source": [
    "numeros.pop()"
   ]
  },
  {
   "cell_type": "code",
   "execution_count": 18,
   "id": "d92a1a83",
   "metadata": {},
   "outputs": [
    {
     "data": {
      "text/plain": [
       "[1, 4, 6, 89, 21]"
      ]
     },
     "execution_count": 18,
     "metadata": {},
     "output_type": "execute_result"
    }
   ],
   "source": [
    "numeros"
   ]
  },
  {
   "cell_type": "code",
   "execution_count": 22,
   "id": "8d39190b",
   "metadata": {},
   "outputs": [
    {
     "name": "stdout",
     "output_type": "stream",
     "text": [
      "Qual é a fruta que deseja consultar? Banana\n",
      "Sim, temos a fruta.\n"
     ]
    }
   ],
   "source": [
    "frutas = ['Banana', 'Maca', 'Pera', 'Uva', 'Melancia', 'Jamelão', 'Uva']\n",
    "\n",
    "fruta_pedida = input('Qual é a fruta que deseja consultar? ')\n",
    "\n",
    "if fruta_pedida in frutas:\n",
    "    print ('Sim, temos a fruta.')\n",
    "else:\n",
    "    print ('Não temos a fruta.')\n"
   ]
  },
  {
   "cell_type": "markdown",
   "id": "5f77d7df",
   "metadata": {},
   "source": [
    "### Uma outra função que pode ser bastante útil é a função .index(), que nos retorna o índice da primeira ocorrência de um determinado elemento em uma lista, veja:"
   ]
  },
  {
   "cell_type": "code",
   "execution_count": 40,
   "id": "8a951450",
   "metadata": {},
   "outputs": [
    {
     "data": {
      "text/plain": [
       "3"
      ]
     },
     "execution_count": 40,
     "metadata": {},
     "output_type": "execute_result"
    }
   ],
   "source": [
    "frutas.index('Uva')"
   ]
  },
  {
   "cell_type": "markdown",
   "id": "d262ebe7",
   "metadata": {},
   "source": [
    "#### O código acima nos retorna 3, pois é o índice da primeira ocorrência do elemento 'Uva' na lista frutas (lembre-se nas listas começamos a contar do índice 0)."
   ]
  },
  {
   "cell_type": "code",
   "execution_count": 42,
   "id": "60d37d4f",
   "metadata": {},
   "outputs": [
    {
     "ename": "ValueError",
     "evalue": "'Melancia' is not in list",
     "output_type": "error",
     "traceback": [
      "\u001b[1;31m---------------------------------------------------------------------------\u001b[0m",
      "\u001b[1;31mValueError\u001b[0m                                Traceback (most recent call last)",
      "\u001b[1;32m~\\AppData\\Local\\Temp/ipykernel_8348/2387917313.py\u001b[0m in \u001b[0;36m<module>\u001b[1;34m\u001b[0m\n\u001b[1;32m----> 1\u001b[1;33m \u001b[0mfrutas\u001b[0m\u001b[1;33m.\u001b[0m\u001b[0mindex\u001b[0m\u001b[1;33m(\u001b[0m\u001b[1;34m'Melancia'\u001b[0m\u001b[1;33m)\u001b[0m\u001b[1;33m\u001b[0m\u001b[1;33m\u001b[0m\u001b[0m\n\u001b[0m",
      "\u001b[1;31mValueError\u001b[0m: 'Melancia' is not in list"
     ]
    }
   ],
   "source": [
    "frutas.index('Melancia')"
   ]
  },
  {
   "cell_type": "markdown",
   "id": "d90473c9",
   "metadata": {},
   "source": [
    "#### Ao tentar buscar pela fruta 'Melancia', obteremos o erro \"ValueError: 'Melancia' is not in list\" no console, já que é impossível buscar o índice de algo que não está na lista. Por isto, é sempre uma boa prática verificar se o elemento está na lista com o operador in antes de obter o seu índice."
   ]
  },
  {
   "cell_type": "code",
   "execution_count": 41,
   "id": "a33063fb",
   "metadata": {},
   "outputs": [
    {
     "name": "stdout",
     "output_type": "stream",
     "text": [
      "Desculpe, a Melancia não está na lista frutas\n"
     ]
    }
   ],
   "source": [
    "frutas = ['Banana', 'Morango', 'Maçã', 'Uva']\n",
    "\n",
    "fruta_buscada = 'Melancia'\n",
    "if fruta_buscada in frutas:\n",
    "    print(frutas.index(fruta_buscada))\n",
    "else:\n",
    "    print('Desculpe, a {} não está na lista frutas'.format( fruta_buscada))"
   ]
  },
  {
   "cell_type": "code",
   "execution_count": null,
   "id": "02435f7b",
   "metadata": {},
   "outputs": [
    {
     "name": "stdout",
     "output_type": "stream",
     "text": [
      "****************************************\n",
      "Bem vindo ao jogo da FORCA\n",
      "****************************************\n",
      "['_', '_', '_', '_', '_', '_']\n",
      "Qual letra? d\n",
      "['_', '_', '_', '_', '_', '_']\n",
      "Faltam 6 letras\n",
      "jogando...\n"
     ]
    }
   ],
   "source": [
    "def jogar():\n",
    "    print(40 * \"*\")\n",
    "    print(\"Bem vindo ao jogo da FORCA\")\n",
    "    print(40 * \"*\")\n",
    "\n",
    "    palavra_secreta = 'banana'\n",
    "    letras_certas = ['_', '_', '_', '_', '_', '_']\n",
    "   \n",
    "    \n",
    "    enforcou = False\n",
    "    acertou = False\n",
    "    print(letras_certas)\n",
    "    while not enforcou and not acertou:\n",
    "        chute = input(\"Qual letra? \")\n",
    "        chute = chute.strip()\n",
    "        \n",
    "        index = 0\n",
    "       \n",
    "        for letra in palavra_secreta:\n",
    "            if chute.upper() == letra.upper():\n",
    "#                 print(f'Temos a letra {chute} na posição {index}')\n",
    "                letras_certas[index] = letra\n",
    "                  \n",
    "            index = index + 1\n",
    "            letras_faltando = letras_certas.count('_')\n",
    "            \n",
    "        print(letras_certas)\n",
    "        print(f'Faltam {letras_faltando} letras')\n",
    "\n",
    "        print('jogando...')\n",
    "\n",
    "# if __name__ == \"main\":\n",
    "jogar()"
   ]
  },
  {
   "cell_type": "code",
   "execution_count": null,
   "id": "27c54493",
   "metadata": {},
   "outputs": [],
   "source": []
  },
  {
   "cell_type": "code",
   "execution_count": null,
   "id": "c0c932ac",
   "metadata": {},
   "outputs": [],
   "source": []
  }
 ],
 "metadata": {
  "kernelspec": {
   "display_name": "Python 3 (ipykernel)",
   "language": "python",
   "name": "python3"
  },
  "language_info": {
   "codemirror_mode": {
    "name": "ipython",
    "version": 3
   },
   "file_extension": ".py",
   "mimetype": "text/x-python",
   "name": "python",
   "nbconvert_exporter": "python",
   "pygments_lexer": "ipython3",
   "version": "3.9.7"
  }
 },
 "nbformat": 4,
 "nbformat_minor": 5
}
