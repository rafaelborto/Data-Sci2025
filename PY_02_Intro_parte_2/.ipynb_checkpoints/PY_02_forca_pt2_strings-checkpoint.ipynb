{
 "cells": [
  {
   "cell_type": "code",
   "execution_count": 25,
   "id": "bd88651e",
   "metadata": {},
   "outputs": [],
   "source": [
    "# def jogar():\n",
    "#     print(40 * \"*\")\n",
    "#     print(\"Bem vindo ao jogo da FORCA\")\n",
    "#     print(40 * \"*\")\n",
    "\n",
    "#     palavra_secreta = 'banana'\n",
    "\n",
    "#     enforcou = False\n",
    "#     acertou = False\n",
    "\n",
    "#     while not enforcou and not acertou:\n",
    "#         chute = input(\"Qual letra? \")\n",
    "\n",
    "#         print('jogando...')\n",
    "\n",
    "# # if __name__ == \"main\":\n",
    "# jogar()"
   ]
  },
  {
   "cell_type": "code",
   "execution_count": 26,
   "id": "016024c7",
   "metadata": {},
   "outputs": [
    {
     "data": {
      "text/plain": [
       "0"
      ]
     },
     "execution_count": 26,
     "metadata": {},
     "output_type": "execute_result"
    }
   ],
   "source": [
    "palavra = 'banana'\n",
    "palavra.find('b') #vai me retornar a posição da letra, no caso 0 (zero) - primeira\n"
   ]
  },
  {
   "cell_type": "code",
   "execution_count": 27,
   "id": "f705f4b0",
   "metadata": {},
   "outputs": [
    {
     "data": {
      "text/plain": [
       "2"
      ]
     },
     "execution_count": 27,
     "metadata": {},
     "output_type": "execute_result"
    }
   ],
   "source": [
    "palavra.find('n') #retorna a posição da letra encontrada. mas apenas da primeira"
   ]
  },
  {
   "cell_type": "code",
   "execution_count": 28,
   "id": "e99c3792",
   "metadata": {},
   "outputs": [
    {
     "data": {
      "text/plain": [
       "-1"
      ]
     },
     "execution_count": 28,
     "metadata": {},
     "output_type": "execute_result"
    }
   ],
   "source": [
    "palavra.find('z') #retorna -1 porque não encontrou a letra procurada"
   ]
  },
  {
   "cell_type": "markdown",
   "id": "c269ab48",
   "metadata": {},
   "source": [
    "O find também aceita um segundo parâmetro, que define a partir de qual posição gostaríamos de começar, por exemplo:\n",
    "\n",
    ">>> palavra = \"aluracursos\"\n",
    ">>> palavra.find(\"a\",1) #procurando \"a\" a partir da segunda posição \n",
    "4"
   ]
  },
  {
   "cell_type": "code",
   "execution_count": 29,
   "id": "3a3eb3c0",
   "metadata": {},
   "outputs": [
    {
     "name": "stdout",
     "output_type": "stream",
     "text": [
      "b\n",
      "a\n",
      "n\n",
      "a\n",
      "n\n",
      "a\n"
     ]
    }
   ],
   "source": [
    "for letra in palavra:\n",
    "    print(letra)"
   ]
  },
  {
   "cell_type": "code",
   "execution_count": null,
   "id": "c38b2340",
   "metadata": {},
   "outputs": [],
   "source": [
    "def jogar():\n",
    "    print(40 * \"*\")\n",
    "    print(\"Bem vindo ao jogo da FORCA\")\n",
    "    print(40 * \"*\")\n",
    "\n",
    "    palavra_secreta = 'banana'\n",
    "\n",
    "    enforcou = False\n",
    "    acertou = False\n",
    "\n",
    "    while not enforcou and not acertou:\n",
    "        chute = input(\"Qual letra? \")\n",
    "        \n",
    "        for letra in palavra_secreta:\n",
    "            if letra == chute:\n",
    "                print(f'Temos a letra {chute}')\n",
    "#             else:\n",
    "#                 print(f\"Não tem a letra {chute}\")\n",
    "\n",
    "        print('jogando...')\n",
    "\n",
    "# if __name__ == \"main\":\n",
    "jogar()"
   ]
  },
  {
   "cell_type": "markdown",
   "id": "cdc83067",
   "metadata": {},
   "source": [
    "### O Python diferencia letra maiúscula de minúscula, portanto a != A\n",
    "\n",
    "#### Vamos criar um index para o python devolver a posição em que está a letra."
   ]
  },
  {
   "cell_type": "code",
   "execution_count": 31,
   "id": "3c78e8dd",
   "metadata": {},
   "outputs": [
    {
     "name": "stdout",
     "output_type": "stream",
     "text": [
      "****************************************\n",
      "Bem vindo ao jogo da FORCA\n",
      "****************************************\n",
      "Qual letra? a\n",
      "Temos a letra a na posição 1\n",
      "Temos a letra a na posição 3\n",
      "Temos a letra a na posição 5\n",
      "jogando...\n",
      "Qual letra? A\n",
      "jogando...\n"
     ]
    },
    {
     "ename": "KeyboardInterrupt",
     "evalue": "Interrupted by user",
     "output_type": "error",
     "traceback": [
      "\u001b[1;31m---------------------------------------------------------------------------\u001b[0m",
      "\u001b[1;31mKeyboardInterrupt\u001b[0m                         Traceback (most recent call last)",
      "\u001b[1;32m~\\AppData\\Local\\Temp/ipykernel_8416/947515822.py\u001b[0m in \u001b[0;36m<module>\u001b[1;34m\u001b[0m\n\u001b[0;32m     22\u001b[0m \u001b[1;33m\u001b[0m\u001b[0m\n\u001b[0;32m     23\u001b[0m \u001b[1;31m# if __name__ == \"main\":\u001b[0m\u001b[1;33m\u001b[0m\u001b[1;33m\u001b[0m\u001b[0m\n\u001b[1;32m---> 24\u001b[1;33m \u001b[0mjogar\u001b[0m\u001b[1;33m(\u001b[0m\u001b[1;33m)\u001b[0m\u001b[1;33m\u001b[0m\u001b[1;33m\u001b[0m\u001b[0m\n\u001b[0m",
      "\u001b[1;32m~\\AppData\\Local\\Temp/ipykernel_8416/947515822.py\u001b[0m in \u001b[0;36mjogar\u001b[1;34m()\u001b[0m\n\u001b[0;32m     10\u001b[0m \u001b[1;33m\u001b[0m\u001b[0m\n\u001b[0;32m     11\u001b[0m     \u001b[1;32mwhile\u001b[0m \u001b[1;32mnot\u001b[0m \u001b[0menforcou\u001b[0m \u001b[1;32mand\u001b[0m \u001b[1;32mnot\u001b[0m \u001b[0macertou\u001b[0m\u001b[1;33m:\u001b[0m\u001b[1;33m\u001b[0m\u001b[1;33m\u001b[0m\u001b[0m\n\u001b[1;32m---> 12\u001b[1;33m         \u001b[0mchute\u001b[0m \u001b[1;33m=\u001b[0m \u001b[0minput\u001b[0m\u001b[1;33m(\u001b[0m\u001b[1;34m\"Qual letra? \"\u001b[0m\u001b[1;33m)\u001b[0m\u001b[1;33m\u001b[0m\u001b[1;33m\u001b[0m\u001b[0m\n\u001b[0m\u001b[0;32m     13\u001b[0m \u001b[1;33m\u001b[0m\u001b[0m\n\u001b[0;32m     14\u001b[0m         \u001b[0mindex\u001b[0m \u001b[1;33m=\u001b[0m \u001b[1;36m0\u001b[0m\u001b[1;33m\u001b[0m\u001b[1;33m\u001b[0m\u001b[0m\n",
      "\u001b[1;32m~\\anaconda3\\lib\\site-packages\\ipykernel\\kernelbase.py\u001b[0m in \u001b[0;36mraw_input\u001b[1;34m(self, prompt)\u001b[0m\n\u001b[0;32m   1004\u001b[0m                 \u001b[1;34m\"raw_input was called, but this frontend does not support input requests.\"\u001b[0m\u001b[1;33m\u001b[0m\u001b[1;33m\u001b[0m\u001b[0m\n\u001b[0;32m   1005\u001b[0m             )\n\u001b[1;32m-> 1006\u001b[1;33m         return self._input_request(\n\u001b[0m\u001b[0;32m   1007\u001b[0m             \u001b[0mstr\u001b[0m\u001b[1;33m(\u001b[0m\u001b[0mprompt\u001b[0m\u001b[1;33m)\u001b[0m\u001b[1;33m,\u001b[0m\u001b[1;33m\u001b[0m\u001b[1;33m\u001b[0m\u001b[0m\n\u001b[0;32m   1008\u001b[0m             \u001b[0mself\u001b[0m\u001b[1;33m.\u001b[0m\u001b[0m_parent_ident\u001b[0m\u001b[1;33m[\u001b[0m\u001b[1;34m\"shell\"\u001b[0m\u001b[1;33m]\u001b[0m\u001b[1;33m,\u001b[0m\u001b[1;33m\u001b[0m\u001b[1;33m\u001b[0m\u001b[0m\n",
      "\u001b[1;32m~\\anaconda3\\lib\\site-packages\\ipykernel\\kernelbase.py\u001b[0m in \u001b[0;36m_input_request\u001b[1;34m(self, prompt, ident, parent, password)\u001b[0m\n\u001b[0;32m   1049\u001b[0m             \u001b[1;32mexcept\u001b[0m \u001b[0mKeyboardInterrupt\u001b[0m\u001b[1;33m:\u001b[0m\u001b[1;33m\u001b[0m\u001b[1;33m\u001b[0m\u001b[0m\n\u001b[0;32m   1050\u001b[0m                 \u001b[1;31m# re-raise KeyboardInterrupt, to truncate traceback\u001b[0m\u001b[1;33m\u001b[0m\u001b[1;33m\u001b[0m\u001b[0m\n\u001b[1;32m-> 1051\u001b[1;33m                 \u001b[1;32mraise\u001b[0m \u001b[0mKeyboardInterrupt\u001b[0m\u001b[1;33m(\u001b[0m\u001b[1;34m\"Interrupted by user\"\u001b[0m\u001b[1;33m)\u001b[0m \u001b[1;32mfrom\u001b[0m \u001b[1;32mNone\u001b[0m\u001b[1;33m\u001b[0m\u001b[1;33m\u001b[0m\u001b[0m\n\u001b[0m\u001b[0;32m   1052\u001b[0m             \u001b[1;32mexcept\u001b[0m \u001b[0mException\u001b[0m\u001b[1;33m:\u001b[0m\u001b[1;33m\u001b[0m\u001b[1;33m\u001b[0m\u001b[0m\n\u001b[0;32m   1053\u001b[0m                 \u001b[0mself\u001b[0m\u001b[1;33m.\u001b[0m\u001b[0mlog\u001b[0m\u001b[1;33m.\u001b[0m\u001b[0mwarning\u001b[0m\u001b[1;33m(\u001b[0m\u001b[1;34m\"Invalid Message:\"\u001b[0m\u001b[1;33m,\u001b[0m \u001b[0mexc_info\u001b[0m\u001b[1;33m=\u001b[0m\u001b[1;32mTrue\u001b[0m\u001b[1;33m)\u001b[0m\u001b[1;33m\u001b[0m\u001b[1;33m\u001b[0m\u001b[0m\n",
      "\u001b[1;31mKeyboardInterrupt\u001b[0m: Interrupted by user"
     ]
    }
   ],
   "source": [
    "def jogar():\n",
    "    print(40 * \"*\")\n",
    "    print(\"Bem vindo ao jogo da FORCA\")\n",
    "    print(40 * \"*\")\n",
    "\n",
    "    palavra_secreta = 'banana'\n",
    "\n",
    "    enforcou = False\n",
    "    acertou = False\n",
    "\n",
    "    while not enforcou and not acertou:\n",
    "        chute = input(\"Qual letra? \")\n",
    "        \n",
    "        index = 0\n",
    "        for letra in palavra_secreta:\n",
    "            if letra == chute:\n",
    "                print(f'Temos a letra {chute} na posição {index}')\n",
    "            index = index + 1\n",
    "\n",
    "\n",
    "        print('jogando...')\n",
    "\n",
    "# if __name__ == \"main\":\n",
    "jogar()"
   ]
  },
  {
   "cell_type": "markdown",
   "id": "88214225",
   "metadata": {},
   "source": [
    "### Alguns métodos usados com strings"
   ]
  },
  {
   "cell_type": "code",
   "execution_count": 32,
   "id": "30e14fa1",
   "metadata": {},
   "outputs": [
    {
     "data": {
      "text/plain": [
       "'Rafael'"
      ]
     },
     "execution_count": 32,
     "metadata": {},
     "output_type": "execute_result"
    }
   ],
   "source": [
    "nome = 'rafael'\n",
    "nome.capitalize() #Retorna com PRIMEIRA LETRA MAIÚSCULA"
   ]
  },
  {
   "cell_type": "code",
   "execution_count": 33,
   "id": "b9aad09d",
   "metadata": {},
   "outputs": [
    {
     "data": {
      "text/plain": [
       "'rafael'"
      ]
     },
     "execution_count": 33,
     "metadata": {},
     "output_type": "execute_result"
    }
   ],
   "source": [
    "nome"
   ]
  },
  {
   "cell_type": "code",
   "execution_count": 35,
   "id": "b66897e0",
   "metadata": {},
   "outputs": [],
   "source": [
    "# nome.capitalize(inplace = True)\n",
    "\n",
    "#VAI DAR ERROR\n",
    "# TypeError: str.capitalize() takes no keyword arguments\n",
    "\n",
    "#Pra guardar com a letra maiúscula vou precisar criar outra variável\n",
    "\n",
    "nome2 = nome.capitalize()"
   ]
  },
  {
   "cell_type": "code",
   "execution_count": 36,
   "id": "27922340",
   "metadata": {},
   "outputs": [
    {
     "data": {
      "text/plain": [
       "'Rafael'"
      ]
     },
     "execution_count": 36,
     "metadata": {},
     "output_type": "execute_result"
    }
   ],
   "source": [
    "nome2"
   ]
  },
  {
   "cell_type": "code",
   "execution_count": 37,
   "id": "adf5690b",
   "metadata": {},
   "outputs": [
    {
     "data": {
      "text/plain": [
       "True"
      ]
     },
     "execution_count": 37,
     "metadata": {},
     "output_type": "execute_result"
    }
   ],
   "source": [
    "nome.endswith('el') #faço uma pergunta se a palavra termina com tal(is) letra(s)\n",
    "\n",
    "#STARTSWITH"
   ]
  },
  {
   "cell_type": "code",
   "execution_count": 39,
   "id": "0ef7a046",
   "metadata": {},
   "outputs": [
    {
     "data": {
      "text/plain": [
       "'rafael'"
      ]
     },
     "execution_count": 39,
     "metadata": {},
     "output_type": "execute_result"
    }
   ],
   "source": [
    "nome2.lower() #transforma todos os caracteres em letras minúsculas"
   ]
  },
  {
   "cell_type": "code",
   "execution_count": 40,
   "id": "6c496242",
   "metadata": {},
   "outputs": [
    {
     "data": {
      "text/plain": [
       "'RAFAEL'"
      ]
     },
     "execution_count": 40,
     "metadata": {},
     "output_type": "execute_result"
    }
   ],
   "source": [
    "nome2.upper()"
   ]
  },
  {
   "cell_type": "code",
   "execution_count": 41,
   "id": "c26618e9",
   "metadata": {},
   "outputs": [],
   "source": [
    "fruta = '    abacaxi     '"
   ]
  },
  {
   "cell_type": "code",
   "execution_count": 42,
   "id": "d7623a48",
   "metadata": {},
   "outputs": [
    {
     "data": {
      "text/plain": [
       "'    abacaxi     '"
      ]
     },
     "execution_count": 42,
     "metadata": {},
     "output_type": "execute_result"
    }
   ],
   "source": [
    "fruta"
   ]
  },
  {
   "cell_type": "code",
   "execution_count": 43,
   "id": "3536df8a",
   "metadata": {},
   "outputs": [
    {
     "data": {
      "text/plain": [
       "'abacaxi'"
      ]
     },
     "execution_count": 43,
     "metadata": {},
     "output_type": "execute_result"
    }
   ],
   "source": [
    "fruta.strip()"
   ]
  },
  {
   "cell_type": "code",
   "execution_count": 45,
   "id": "ea93c4e2",
   "metadata": {},
   "outputs": [
    {
     "data": {
      "text/plain": [
       "'    abacaxi     '"
      ]
     },
     "execution_count": 45,
     "metadata": {},
     "output_type": "execute_result"
    }
   ],
   "source": [
    "fruta"
   ]
  },
  {
   "cell_type": "code",
   "execution_count": 44,
   "id": "8306cd64",
   "metadata": {},
   "outputs": [],
   "source": [
    "nova_fruta = fruta.strip()"
   ]
  },
  {
   "cell_type": "code",
   "execution_count": 46,
   "id": "e7fe14c0",
   "metadata": {},
   "outputs": [
    {
     "data": {
      "text/plain": [
       "'abacaxi'"
      ]
     },
     "execution_count": 46,
     "metadata": {},
     "output_type": "execute_result"
    }
   ],
   "source": [
    "nova_fruta"
   ]
  },
  {
   "cell_type": "code",
   "execution_count": 47,
   "id": "b3871deb",
   "metadata": {},
   "outputs": [
    {
     "name": "stdout",
     "output_type": "stream",
     "text": [
      "****************************************\n",
      "Bem vindo ao jogo da FORCA\n",
      "****************************************\n",
      "Qual letra? s\n",
      "jogando...\n"
     ]
    },
    {
     "ename": "KeyboardInterrupt",
     "evalue": "Interrupted by user",
     "output_type": "error",
     "traceback": [
      "\u001b[1;31m---------------------------------------------------------------------------\u001b[0m",
      "\u001b[1;31mKeyboardInterrupt\u001b[0m                         Traceback (most recent call last)",
      "\u001b[1;32m~\\AppData\\Local\\Temp/ipykernel_8416/2645024051.py\u001b[0m in \u001b[0;36m<module>\u001b[1;34m\u001b[0m\n\u001b[0;32m     23\u001b[0m \u001b[1;33m\u001b[0m\u001b[0m\n\u001b[0;32m     24\u001b[0m \u001b[1;31m# if __name__ == \"main\":\u001b[0m\u001b[1;33m\u001b[0m\u001b[1;33m\u001b[0m\u001b[0m\n\u001b[1;32m---> 25\u001b[1;33m \u001b[0mjogar\u001b[0m\u001b[1;33m(\u001b[0m\u001b[1;33m)\u001b[0m\u001b[1;33m\u001b[0m\u001b[1;33m\u001b[0m\u001b[0m\n\u001b[0m",
      "\u001b[1;32m~\\AppData\\Local\\Temp/ipykernel_8416/2645024051.py\u001b[0m in \u001b[0;36mjogar\u001b[1;34m()\u001b[0m\n\u001b[0;32m     10\u001b[0m \u001b[1;33m\u001b[0m\u001b[0m\n\u001b[0;32m     11\u001b[0m     \u001b[1;32mwhile\u001b[0m \u001b[1;32mnot\u001b[0m \u001b[0menforcou\u001b[0m \u001b[1;32mand\u001b[0m \u001b[1;32mnot\u001b[0m \u001b[0macertou\u001b[0m\u001b[1;33m:\u001b[0m\u001b[1;33m\u001b[0m\u001b[1;33m\u001b[0m\u001b[0m\n\u001b[1;32m---> 12\u001b[1;33m         \u001b[0mchute\u001b[0m \u001b[1;33m=\u001b[0m \u001b[0minput\u001b[0m\u001b[1;33m(\u001b[0m\u001b[1;34m\"Qual letra? \"\u001b[0m\u001b[1;33m)\u001b[0m\u001b[1;33m\u001b[0m\u001b[1;33m\u001b[0m\u001b[0m\n\u001b[0m\u001b[0;32m     13\u001b[0m         \u001b[0mchute\u001b[0m \u001b[1;33m=\u001b[0m \u001b[0mchute\u001b[0m\u001b[1;33m.\u001b[0m\u001b[0mstrip\u001b[0m\u001b[1;33m(\u001b[0m\u001b[1;33m)\u001b[0m\u001b[1;33m\u001b[0m\u001b[1;33m\u001b[0m\u001b[0m\n\u001b[0;32m     14\u001b[0m \u001b[1;33m\u001b[0m\u001b[0m\n",
      "\u001b[1;32m~\\anaconda3\\lib\\site-packages\\ipykernel\\kernelbase.py\u001b[0m in \u001b[0;36mraw_input\u001b[1;34m(self, prompt)\u001b[0m\n\u001b[0;32m   1004\u001b[0m                 \u001b[1;34m\"raw_input was called, but this frontend does not support input requests.\"\u001b[0m\u001b[1;33m\u001b[0m\u001b[1;33m\u001b[0m\u001b[0m\n\u001b[0;32m   1005\u001b[0m             )\n\u001b[1;32m-> 1006\u001b[1;33m         return self._input_request(\n\u001b[0m\u001b[0;32m   1007\u001b[0m             \u001b[0mstr\u001b[0m\u001b[1;33m(\u001b[0m\u001b[0mprompt\u001b[0m\u001b[1;33m)\u001b[0m\u001b[1;33m,\u001b[0m\u001b[1;33m\u001b[0m\u001b[1;33m\u001b[0m\u001b[0m\n\u001b[0;32m   1008\u001b[0m             \u001b[0mself\u001b[0m\u001b[1;33m.\u001b[0m\u001b[0m_parent_ident\u001b[0m\u001b[1;33m[\u001b[0m\u001b[1;34m\"shell\"\u001b[0m\u001b[1;33m]\u001b[0m\u001b[1;33m,\u001b[0m\u001b[1;33m\u001b[0m\u001b[1;33m\u001b[0m\u001b[0m\n",
      "\u001b[1;32m~\\anaconda3\\lib\\site-packages\\ipykernel\\kernelbase.py\u001b[0m in \u001b[0;36m_input_request\u001b[1;34m(self, prompt, ident, parent, password)\u001b[0m\n\u001b[0;32m   1049\u001b[0m             \u001b[1;32mexcept\u001b[0m \u001b[0mKeyboardInterrupt\u001b[0m\u001b[1;33m:\u001b[0m\u001b[1;33m\u001b[0m\u001b[1;33m\u001b[0m\u001b[0m\n\u001b[0;32m   1050\u001b[0m                 \u001b[1;31m# re-raise KeyboardInterrupt, to truncate traceback\u001b[0m\u001b[1;33m\u001b[0m\u001b[1;33m\u001b[0m\u001b[0m\n\u001b[1;32m-> 1051\u001b[1;33m                 \u001b[1;32mraise\u001b[0m \u001b[0mKeyboardInterrupt\u001b[0m\u001b[1;33m(\u001b[0m\u001b[1;34m\"Interrupted by user\"\u001b[0m\u001b[1;33m)\u001b[0m \u001b[1;32mfrom\u001b[0m \u001b[1;32mNone\u001b[0m\u001b[1;33m\u001b[0m\u001b[1;33m\u001b[0m\u001b[0m\n\u001b[0m\u001b[0;32m   1052\u001b[0m             \u001b[1;32mexcept\u001b[0m \u001b[0mException\u001b[0m\u001b[1;33m:\u001b[0m\u001b[1;33m\u001b[0m\u001b[1;33m\u001b[0m\u001b[0m\n\u001b[0;32m   1053\u001b[0m                 \u001b[0mself\u001b[0m\u001b[1;33m.\u001b[0m\u001b[0mlog\u001b[0m\u001b[1;33m.\u001b[0m\u001b[0mwarning\u001b[0m\u001b[1;33m(\u001b[0m\u001b[1;34m\"Invalid Message:\"\u001b[0m\u001b[1;33m,\u001b[0m \u001b[0mexc_info\u001b[0m\u001b[1;33m=\u001b[0m\u001b[1;32mTrue\u001b[0m\u001b[1;33m)\u001b[0m\u001b[1;33m\u001b[0m\u001b[1;33m\u001b[0m\u001b[0m\n",
      "\u001b[1;31mKeyboardInterrupt\u001b[0m: Interrupted by user"
     ]
    }
   ],
   "source": [
    "def jogar():\n",
    "    print(40 * \"*\")\n",
    "    print(\"Bem vindo ao jogo da FORCA\")\n",
    "    print(40 * \"*\")\n",
    "\n",
    "    palavra_secreta = 'banana'\n",
    "\n",
    "    enforcou = False\n",
    "    acertou = False\n",
    "\n",
    "    while not enforcou and not acertou:\n",
    "        chute = input(\"Qual letra? \")\n",
    "        chute = chute.strip()\n",
    "        \n",
    "        index = 0\n",
    "        for letra in palavra_secreta:\n",
    "            if chute.upper() == letra.upper():\n",
    "                print(f'Temos a letra {chute} na posição {index}')\n",
    "            index = index + 1\n",
    "\n",
    "\n",
    "        print('jogando...')\n",
    "\n",
    "# if __name__ == \"main\":\n",
    "jogar()"
   ]
  },
  {
   "cell_type": "code",
   "execution_count": null,
   "id": "47c70398",
   "metadata": {},
   "outputs": [],
   "source": []
  }
 ],
 "metadata": {
  "kernelspec": {
   "display_name": "Python 3 (ipykernel)",
   "language": "python",
   "name": "python3"
  },
  "language_info": {
   "codemirror_mode": {
    "name": "ipython",
    "version": 3
   },
   "file_extension": ".py",
   "mimetype": "text/x-python",
   "name": "python",
   "nbconvert_exporter": "python",
   "pygments_lexer": "ipython3",
   "version": "3.9.7"
  }
 },
 "nbformat": 4,
 "nbformat_minor": 5
}
