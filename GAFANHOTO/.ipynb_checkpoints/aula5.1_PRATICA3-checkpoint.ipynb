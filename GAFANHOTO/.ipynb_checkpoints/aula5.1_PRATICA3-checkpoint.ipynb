{
 "cells": [
  {
   "cell_type": "code",
   "execution_count": 2,
   "id": "c9ce4327-71a7-4549-adef-80457575642d",
   "metadata": {},
   "outputs": [],
   "source": [
    "import random as rd"
   ]
  },
  {
   "cell_type": "code",
   "execution_count": 6,
   "id": "ceb15fba-943d-4191-869d-09a9cfd357b0",
   "metadata": {},
   "outputs": [
    {
     "name": "stdout",
     "output_type": "stream",
     "text": [
      "0.9541326340417541\n"
     ]
    }
   ],
   "source": [
    "num = rd.random() #RETORNA UM NÚMERO ENTRE 0 (ZERO) E 1 (UM).\n",
    "print(num)"
   ]
  },
  {
   "cell_type": "code",
   "execution_count": 14,
   "id": "1453f1ac-05da-45bc-8069-4e3d971545ca",
   "metadata": {},
   "outputs": [
    {
     "name": "stdout",
     "output_type": "stream",
     "text": [
      "93\n"
     ]
    }
   ],
   "source": [
    "numInt = rd.randint(1, 99)\n",
    "print(numInt)"
   ]
  },
  {
   "cell_type": "code",
   "execution_count": 20,
   "id": "6c31357e-eb28-4d95-8148-29f7af87d45e",
   "metadata": {},
   "outputs": [
    {
     "name": "stdout",
     "output_type": "stream",
     "text": [
      "Collecting emoji\n",
      "  Downloading emoji-2.14.1-py3-none-any.whl.metadata (5.7 kB)\n",
      "Downloading emoji-2.14.1-py3-none-any.whl (590 kB)\n",
      "   ---------------------------------------- 0.0/590.6 kB ? eta -:--:--\n",
      "   ---------------------------------------- 0.0/590.6 kB ? eta -:--:--\n",
      "   ---------------------------------------- 590.6/590.6 kB 4.2 MB/s eta 0:00:00\n",
      "Installing collected packages: emoji\n",
      "Successfully installed emoji-2.14.1\n",
      "Note: you may need to restart the kernel to use updated packages.\n"
     ]
    }
   ],
   "source": [
    "%pip install emoji --upgrade"
   ]
  },
  {
   "cell_type": "code",
   "execution_count": 22,
   "id": "a8d6a7c8-de4a-4f59-9024-ae5c83c4c30e",
   "metadata": {},
   "outputs": [],
   "source": [
    "import emoji"
   ]
  },
  {
   "cell_type": "code",
   "execution_count": 78,
   "id": "24b09b26-efcc-42fd-a8a2-515ddb7a7e19",
   "metadata": {},
   "outputs": [],
   "source": [
    "# print(emoji.EMOJI_DATA)"
   ]
  },
  {
   "cell_type": "code",
   "execution_count": 36,
   "id": "b0bd160e-3cd5-4b61-8303-f7ff766dc525",
   "metadata": {},
   "outputs": [
    {
     "name": "stdout",
     "output_type": "stream",
     "text": [
      "Olá! ❤️\n"
     ]
    }
   ],
   "source": [
    "print(emoji.emojize('Olá! :red_heart:', language='en'))"
   ]
  },
  {
   "cell_type": "code",
   "execution_count": 60,
   "id": "f935e2ce-de83-416c-9122-2179770b3a37",
   "metadata": {},
   "outputs": [
    {
     "name": "stdout",
     "output_type": "stream",
     "text": [
      "Hoje estou feliz!  ♊\n"
     ]
    }
   ],
   "source": [
    "print(emoji.emojize('Hoje estou feliz!  :Gemini:'))"
   ]
  },
  {
   "cell_type": "code",
   "execution_count": 80,
   "id": "e4c1c842-8c95-4e3a-8c2a-49f090908660",
   "metadata": {},
   "outputs": [
    {
     "name": "stdout",
     "output_type": "stream",
     "text": [
      "Oi, Mundo! ☑️\n"
     ]
    }
   ],
   "source": [
    "print(emoji.emojize('Oi, Mundo! :check_box_with_check:'))"
   ]
  },
  {
   "cell_type": "code",
   "execution_count": null,
   "id": "d5bc0c5b-4fb3-43db-8c67-4274b11eb706",
   "metadata": {},
   "outputs": [],
   "source": []
  }
 ],
 "metadata": {
  "kernelspec": {
   "display_name": "Python [conda env:base] *",
   "language": "python",
   "name": "conda-base-py"
  },
  "language_info": {
   "codemirror_mode": {
    "name": "ipython",
    "version": 3
   },
   "file_extension": ".py",
   "mimetype": "text/x-python",
   "name": "python",
   "nbconvert_exporter": "python",
   "pygments_lexer": "ipython3",
   "version": "3.12.7"
  }
 },
 "nbformat": 4,
 "nbformat_minor": 5
}
