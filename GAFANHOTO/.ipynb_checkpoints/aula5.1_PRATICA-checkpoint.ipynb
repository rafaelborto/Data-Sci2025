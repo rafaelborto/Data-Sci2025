{
 "cells": [
  {
   "cell_type": "code",
   "execution_count": 7,
   "id": "38940bbe",
   "metadata": {},
   "outputs": [],
   "source": [
    "import math"
   ]
  },
  {
   "cell_type": "code",
   "execution_count": null,
   "id": "06796498",
   "metadata": {},
   "outputs": [],
   "source": [
    "num = float(input(\"Enter a number: \"))\n",
    "raiz = math.sqrt(num)\n",
    "print(f'A raiz quadradade de {num} é {raiz:.2f}')\n",
    "\n",
    "print(f'\\nCEIL: A raiz quadradade de {num} é {math.ceil(raiz):.2f}')\n",
    "print(f'\\nFLOOR: A raiz quadradade de {num} é {math.floor(raiz):.2f}')\n",
    "print(f'\\nTRUNC: A raiz quadradade de {num} é {math.trunc(raiz):.2f}')\n",
    "\n",
    "\n",
    "\"\"\" A raiz quadradade de 85.0 é 9.22 \n",
    "CEIL: A raiz quadradade de 85.0 é 10.00\n",
    "FLOOR: A raiz quadradade de 85.0 é 9.00\n",
    "TRUNC: A raiz quadradade de 85.0 é 9.00 \"\"\""
   ]
  },
  {
   "cell_type": "code",
   "execution_count": 11,
   "id": "865750d7",
   "metadata": {},
   "outputs": [
    {
     "data": {
      "text/plain": [
       "\u001b[1;31mSignature:\u001b[0m \u001b[0mmath\u001b[0m\u001b[1;33m.\u001b[0m\u001b[0msqrt\u001b[0m\u001b[1;33m(\u001b[0m\u001b[0mx\u001b[0m\u001b[1;33m,\u001b[0m \u001b[1;33m/\u001b[0m\u001b[1;33m)\u001b[0m\u001b[1;33m\u001b[0m\u001b[1;33m\u001b[0m\u001b[0m\n",
       "\u001b[1;31mDocstring:\u001b[0m Return the square root of x.\n",
       "\u001b[1;31mType:\u001b[0m      builtin_function_or_method"
      ]
     },
     "metadata": {},
     "output_type": "display_data"
    }
   ],
   "source": [
    "math.sqrt?"
   ]
  },
  {
   "cell_type": "markdown",
   "id": "a8e677cf-bf73-4876-9b33-ae75858c2b4e",
   "metadata": {},
   "source": [
    "DIGITO MATH. <code>+TAB</code> = SUGESTÕES DE FUNÇÕES\n",
    "\n",
    "Para visualizar a assinatura de uma função (parâmetros esperados): Coloque o cursor dentro dos parênteses da função e pressione <code>Shift + TAB</code>.\n"
   ]
  }
 ],
 "metadata": {
  "kernelspec": {
   "display_name": "Python 3 (ipykernel)",
   "language": "python",
   "name": "python3"
  },
  "language_info": {
   "codemirror_mode": {
    "name": "ipython",
    "version": 3
   },
   "file_extension": ".py",
   "mimetype": "text/x-python",
   "name": "python",
   "nbconvert_exporter": "python",
   "pygments_lexer": "ipython3",
   "version": "3.12.7"
  }
 },
 "nbformat": 4,
 "nbformat_minor": 5
}
