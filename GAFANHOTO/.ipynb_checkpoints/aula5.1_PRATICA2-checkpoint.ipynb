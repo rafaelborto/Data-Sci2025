{
 "cells": [
  {
   "cell_type": "code",
   "execution_count": 20,
   "id": "d2c3b404",
   "metadata": {
    "vscode": {
     "languageId": "plaintext"
    }
   },
   "outputs": [
    {
     "name": "stdin",
     "output_type": "stream",
     "text": [
      "Digite um número para saber sua raiz quadrada:  8\n"
     ]
    },
    {
     "name": "stdout",
     "output_type": "stream",
     "text": [
      "A raiz é 2.828 e arredonda para baixo é 2.\n",
      "Ou seja, tirando a parte decimal.\n",
      "Mesmo que seja 3.9, irá mostra 3.\n"
     ]
    }
   ],
   "source": [
    "# posso importar só o módulo\n",
    "from math import sqrt, floor\n",
    "\n",
    "num = float(input(\"Digite um número para saber sua raiz quadrada: \"))\n",
    "raiz = sqrt(num)  # NÃO HÁ NECESSIDADE DE CHAMAR MATH.SQRT() OU MATH.FLOOR()\n",
    "baixo = floor(raiz)\n",
    "print(f'A raiz é {raiz:.3f} e arredonda para baixo é {baixo}.'\n",
    "      f'\\nOu seja, tirando a parte decimal.'\n",
    "      f'\\nMesmo que seja 3.9, irá mostra 3.')\n",
    "\n",
    "# VER EXEMPLO COM RAIZ DE 8 (OITO)."
   ]
  },
  {
   "cell_type": "code",
   "execution_count": 22,
   "id": "20c3074b",
   "metadata": {
    "vscode": {
     "languageId": "plaintext"
    }
   },
   "outputs": [],
   "source": []
  },
  {
   "cell_type": "markdown",
   "id": "373c8746-e4be-4102-93d5-20d77a5b0c67",
   "metadata": {},
   "source": [
    "Alternativamente, para obter uma lista com as versões dos pacotes instalados, você pode executar:\\\n",
    "!pip freeze"
   ]
  },
  {
   "cell_type": "code",
   "execution_count": 32,
   "id": "4b7044eb-3f2f-4789-b692-7d03909878bd",
   "metadata": {
    "collapsed": true,
    "jupyter": {
     "outputs_hidden": true
    }
   },
   "outputs": [
    {
     "name": "stdout",
     "output_type": "stream",
     "text": [
      "Collecting jupyter-tabnine\n",
      "  Downloading jupyter_tabnine-1.2.3-py2.py3-none-any.whl.metadata (3.7 kB)\n",
      "Requirement already satisfied: ipython in c:\\users\\jrfbo\\anaconda3\\lib\\site-packages (from jupyter-tabnine) (8.27.0)\n",
      "Requirement already satisfied: jupyter-core in c:\\users\\jrfbo\\anaconda3\\lib\\site-packages (from jupyter-tabnine) (5.7.2)\n",
      "Requirement already satisfied: nbconvert in c:\\users\\jrfbo\\anaconda3\\lib\\site-packages (from jupyter-tabnine) (7.16.4)\n",
      "Requirement already satisfied: notebook>=4.2 in c:\\users\\jrfbo\\anaconda3\\lib\\site-packages (from jupyter-tabnine) (7.2.2)\n",
      "Requirement already satisfied: jupyter-server<3,>=2.4.0 in c:\\users\\jrfbo\\anaconda3\\lib\\site-packages (from notebook>=4.2->jupyter-tabnine) (2.14.1)\n",
      "Requirement already satisfied: jupyterlab-server<3,>=2.27.1 in c:\\users\\jrfbo\\anaconda3\\lib\\site-packages (from notebook>=4.2->jupyter-tabnine) (2.27.3)\n",
      "Requirement already satisfied: jupyterlab<4.3,>=4.2.0 in c:\\users\\jrfbo\\anaconda3\\lib\\site-packages (from notebook>=4.2->jupyter-tabnine) (4.2.5)\n",
      "Requirement already satisfied: notebook-shim<0.3,>=0.2 in c:\\users\\jrfbo\\anaconda3\\lib\\site-packages (from notebook>=4.2->jupyter-tabnine) (0.2.3)\n",
      "Requirement already satisfied: tornado>=6.2.0 in c:\\users\\jrfbo\\anaconda3\\lib\\site-packages (from notebook>=4.2->jupyter-tabnine) (6.4.1)\n",
      "Requirement already satisfied: decorator in c:\\users\\jrfbo\\anaconda3\\lib\\site-packages (from ipython->jupyter-tabnine) (5.1.1)\n",
      "Requirement already satisfied: jedi>=0.16 in c:\\users\\jrfbo\\anaconda3\\lib\\site-packages (from ipython->jupyter-tabnine) (0.19.1)\n",
      "Requirement already satisfied: matplotlib-inline in c:\\users\\jrfbo\\anaconda3\\lib\\site-packages (from ipython->jupyter-tabnine) (0.1.6)\n",
      "Requirement already satisfied: prompt-toolkit<3.1.0,>=3.0.41 in c:\\users\\jrfbo\\anaconda3\\lib\\site-packages (from ipython->jupyter-tabnine) (3.0.43)\n",
      "Requirement already satisfied: pygments>=2.4.0 in c:\\users\\jrfbo\\anaconda3\\lib\\site-packages (from ipython->jupyter-tabnine) (2.15.1)\n",
      "Requirement already satisfied: stack-data in c:\\users\\jrfbo\\anaconda3\\lib\\site-packages (from ipython->jupyter-tabnine) (0.2.0)\n",
      "Requirement already satisfied: traitlets>=5.13.0 in c:\\users\\jrfbo\\anaconda3\\lib\\site-packages (from ipython->jupyter-tabnine) (5.14.3)\n",
      "Requirement already satisfied: colorama in c:\\users\\jrfbo\\anaconda3\\lib\\site-packages (from ipython->jupyter-tabnine) (0.4.6)\n",
      "Requirement already satisfied: platformdirs>=2.5 in c:\\users\\jrfbo\\anaconda3\\lib\\site-packages (from jupyter-core->jupyter-tabnine) (3.10.0)\n",
      "Requirement already satisfied: pywin32>=300 in c:\\users\\jrfbo\\anaconda3\\lib\\site-packages (from jupyter-core->jupyter-tabnine) (305.1)\n",
      "Requirement already satisfied: beautifulsoup4 in c:\\users\\jrfbo\\anaconda3\\lib\\site-packages (from nbconvert->jupyter-tabnine) (4.12.3)\n",
      "Requirement already satisfied: bleach!=5.0.0 in c:\\users\\jrfbo\\anaconda3\\lib\\site-packages (from nbconvert->jupyter-tabnine) (4.1.0)\n",
      "Requirement already satisfied: defusedxml in c:\\users\\jrfbo\\anaconda3\\lib\\site-packages (from nbconvert->jupyter-tabnine) (0.7.1)\n",
      "Requirement already satisfied: jinja2>=3.0 in c:\\users\\jrfbo\\anaconda3\\lib\\site-packages (from nbconvert->jupyter-tabnine) (3.1.4)\n",
      "Requirement already satisfied: jupyterlab-pygments in c:\\users\\jrfbo\\anaconda3\\lib\\site-packages (from nbconvert->jupyter-tabnine) (0.1.2)\n",
      "Requirement already satisfied: markupsafe>=2.0 in c:\\users\\jrfbo\\anaconda3\\lib\\site-packages (from nbconvert->jupyter-tabnine) (2.1.3)\n",
      "Requirement already satisfied: mistune<4,>=2.0.3 in c:\\users\\jrfbo\\anaconda3\\lib\\site-packages (from nbconvert->jupyter-tabnine) (2.0.4)\n",
      "Requirement already satisfied: nbclient>=0.5.0 in c:\\users\\jrfbo\\anaconda3\\lib\\site-packages (from nbconvert->jupyter-tabnine) (0.8.0)\n",
      "Requirement already satisfied: nbformat>=5.7 in c:\\users\\jrfbo\\anaconda3\\lib\\site-packages (from nbconvert->jupyter-tabnine) (5.10.4)\n",
      "Requirement already satisfied: packaging in c:\\users\\jrfbo\\anaconda3\\lib\\site-packages (from nbconvert->jupyter-tabnine) (24.1)\n",
      "Requirement already satisfied: pandocfilters>=1.4.1 in c:\\users\\jrfbo\\anaconda3\\lib\\site-packages (from nbconvert->jupyter-tabnine) (1.5.0)\n",
      "Requirement already satisfied: tinycss2 in c:\\users\\jrfbo\\anaconda3\\lib\\site-packages (from nbconvert->jupyter-tabnine) (1.2.1)\n",
      "Requirement already satisfied: six>=1.9.0 in c:\\users\\jrfbo\\anaconda3\\lib\\site-packages (from bleach!=5.0.0->nbconvert->jupyter-tabnine) (1.16.0)\n",
      "Requirement already satisfied: webencodings in c:\\users\\jrfbo\\anaconda3\\lib\\site-packages (from bleach!=5.0.0->nbconvert->jupyter-tabnine) (0.5.1)\n",
      "Requirement already satisfied: parso<0.9.0,>=0.8.3 in c:\\users\\jrfbo\\anaconda3\\lib\\site-packages (from jedi>=0.16->ipython->jupyter-tabnine) (0.8.3)\n",
      "Requirement already satisfied: anyio>=3.1.0 in c:\\users\\jrfbo\\anaconda3\\lib\\site-packages (from jupyter-server<3,>=2.4.0->notebook>=4.2->jupyter-tabnine) (4.2.0)\n",
      "Requirement already satisfied: argon2-cffi>=21.1 in c:\\users\\jrfbo\\anaconda3\\lib\\site-packages (from jupyter-server<3,>=2.4.0->notebook>=4.2->jupyter-tabnine) (21.3.0)\n",
      "Requirement already satisfied: jupyter-client>=7.4.4 in c:\\users\\jrfbo\\anaconda3\\lib\\site-packages (from jupyter-server<3,>=2.4.0->notebook>=4.2->jupyter-tabnine) (8.6.0)\n",
      "Requirement already satisfied: jupyter-events>=0.9.0 in c:\\users\\jrfbo\\anaconda3\\lib\\site-packages (from jupyter-server<3,>=2.4.0->notebook>=4.2->jupyter-tabnine) (0.10.0)\n",
      "Requirement already satisfied: jupyter-server-terminals>=0.4.4 in c:\\users\\jrfbo\\anaconda3\\lib\\site-packages (from jupyter-server<3,>=2.4.0->notebook>=4.2->jupyter-tabnine) (0.4.4)\n",
      "Requirement already satisfied: overrides>=5.0 in c:\\users\\jrfbo\\anaconda3\\lib\\site-packages (from jupyter-server<3,>=2.4.0->notebook>=4.2->jupyter-tabnine) (7.4.0)\n",
      "Requirement already satisfied: prometheus-client>=0.9 in c:\\users\\jrfbo\\anaconda3\\lib\\site-packages (from jupyter-server<3,>=2.4.0->notebook>=4.2->jupyter-tabnine) (0.14.1)\n",
      "Requirement already satisfied: pywinpty>=2.0.1 in c:\\users\\jrfbo\\anaconda3\\lib\\site-packages (from jupyter-server<3,>=2.4.0->notebook>=4.2->jupyter-tabnine) (2.0.10)\n",
      "Requirement already satisfied: pyzmq>=24 in c:\\users\\jrfbo\\anaconda3\\lib\\site-packages (from jupyter-server<3,>=2.4.0->notebook>=4.2->jupyter-tabnine) (25.1.2)\n",
      "Requirement already satisfied: send2trash>=1.8.2 in c:\\users\\jrfbo\\anaconda3\\lib\\site-packages (from jupyter-server<3,>=2.4.0->notebook>=4.2->jupyter-tabnine) (1.8.2)\n",
      "Requirement already satisfied: terminado>=0.8.3 in c:\\users\\jrfbo\\anaconda3\\lib\\site-packages (from jupyter-server<3,>=2.4.0->notebook>=4.2->jupyter-tabnine) (0.17.1)\n",
      "Requirement already satisfied: websocket-client>=1.7 in c:\\users\\jrfbo\\anaconda3\\lib\\site-packages (from jupyter-server<3,>=2.4.0->notebook>=4.2->jupyter-tabnine) (1.8.0)\n",
      "Requirement already satisfied: async-lru>=1.0.0 in c:\\users\\jrfbo\\anaconda3\\lib\\site-packages (from jupyterlab<4.3,>=4.2.0->notebook>=4.2->jupyter-tabnine) (2.0.4)\n",
      "Requirement already satisfied: httpx>=0.25.0 in c:\\users\\jrfbo\\anaconda3\\lib\\site-packages (from jupyterlab<4.3,>=4.2.0->notebook>=4.2->jupyter-tabnine) (0.27.0)\n",
      "Requirement already satisfied: ipykernel>=6.5.0 in c:\\users\\jrfbo\\anaconda3\\lib\\site-packages (from jupyterlab<4.3,>=4.2.0->notebook>=4.2->jupyter-tabnine) (6.28.0)\n",
      "Requirement already satisfied: jupyter-lsp>=2.0.0 in c:\\users\\jrfbo\\anaconda3\\lib\\site-packages (from jupyterlab<4.3,>=4.2.0->notebook>=4.2->jupyter-tabnine) (2.2.0)\n",
      "Requirement already satisfied: setuptools>=40.1.0 in c:\\users\\jrfbo\\anaconda3\\lib\\site-packages (from jupyterlab<4.3,>=4.2.0->notebook>=4.2->jupyter-tabnine) (75.1.0)\n",
      "Requirement already satisfied: babel>=2.10 in c:\\users\\jrfbo\\anaconda3\\lib\\site-packages (from jupyterlab-server<3,>=2.27.1->notebook>=4.2->jupyter-tabnine) (2.11.0)\n",
      "Requirement already satisfied: json5>=0.9.0 in c:\\users\\jrfbo\\anaconda3\\lib\\site-packages (from jupyterlab-server<3,>=2.27.1->notebook>=4.2->jupyter-tabnine) (0.9.6)\n",
      "Requirement already satisfied: jsonschema>=4.18.0 in c:\\users\\jrfbo\\anaconda3\\lib\\site-packages (from jupyterlab-server<3,>=2.27.1->notebook>=4.2->jupyter-tabnine) (4.23.0)\n",
      "Requirement already satisfied: requests>=2.31 in c:\\users\\jrfbo\\anaconda3\\lib\\site-packages (from jupyterlab-server<3,>=2.27.1->notebook>=4.2->jupyter-tabnine) (2.32.3)\n",
      "Requirement already satisfied: fastjsonschema>=2.15 in c:\\users\\jrfbo\\anaconda3\\lib\\site-packages (from nbformat>=5.7->nbconvert->jupyter-tabnine) (2.16.2)\n",
      "Requirement already satisfied: wcwidth in c:\\users\\jrfbo\\anaconda3\\lib\\site-packages (from prompt-toolkit<3.1.0,>=3.0.41->ipython->jupyter-tabnine) (0.2.5)\n",
      "Requirement already satisfied: soupsieve>1.2 in c:\\users\\jrfbo\\anaconda3\\lib\\site-packages (from beautifulsoup4->nbconvert->jupyter-tabnine) (2.5)\n",
      "Requirement already satisfied: executing in c:\\users\\jrfbo\\anaconda3\\lib\\site-packages (from stack-data->ipython->jupyter-tabnine) (0.8.3)\n",
      "Requirement already satisfied: asttokens in c:\\users\\jrfbo\\anaconda3\\lib\\site-packages (from stack-data->ipython->jupyter-tabnine) (2.0.5)\n",
      "Requirement already satisfied: pure-eval in c:\\users\\jrfbo\\anaconda3\\lib\\site-packages (from stack-data->ipython->jupyter-tabnine) (0.2.2)\n",
      "Requirement already satisfied: idna>=2.8 in c:\\users\\jrfbo\\anaconda3\\lib\\site-packages (from anyio>=3.1.0->jupyter-server<3,>=2.4.0->notebook>=4.2->jupyter-tabnine) (3.7)\n",
      "Requirement already satisfied: sniffio>=1.1 in c:\\users\\jrfbo\\anaconda3\\lib\\site-packages (from anyio>=3.1.0->jupyter-server<3,>=2.4.0->notebook>=4.2->jupyter-tabnine) (1.3.0)\n",
      "Requirement already satisfied: argon2-cffi-bindings in c:\\users\\jrfbo\\anaconda3\\lib\\site-packages (from argon2-cffi>=21.1->jupyter-server<3,>=2.4.0->notebook>=4.2->jupyter-tabnine) (21.2.0)\n",
      "Requirement already satisfied: pytz>=2015.7 in c:\\users\\jrfbo\\anaconda3\\lib\\site-packages (from babel>=2.10->jupyterlab-server<3,>=2.27.1->notebook>=4.2->jupyter-tabnine) (2024.1)\n",
      "Requirement already satisfied: certifi in c:\\users\\jrfbo\\anaconda3\\lib\\site-packages (from httpx>=0.25.0->jupyterlab<4.3,>=4.2.0->notebook>=4.2->jupyter-tabnine) (2025.1.31)\n",
      "Requirement already satisfied: httpcore==1.* in c:\\users\\jrfbo\\anaconda3\\lib\\site-packages (from httpx>=0.25.0->jupyterlab<4.3,>=4.2.0->notebook>=4.2->jupyter-tabnine) (1.0.2)\n",
      "Requirement already satisfied: h11<0.15,>=0.13 in c:\\users\\jrfbo\\anaconda3\\lib\\site-packages (from httpcore==1.*->httpx>=0.25.0->jupyterlab<4.3,>=4.2.0->notebook>=4.2->jupyter-tabnine) (0.14.0)\n",
      "Requirement already satisfied: comm>=0.1.1 in c:\\users\\jrfbo\\anaconda3\\lib\\site-packages (from ipykernel>=6.5.0->jupyterlab<4.3,>=4.2.0->notebook>=4.2->jupyter-tabnine) (0.2.1)\n",
      "Requirement already satisfied: debugpy>=1.6.5 in c:\\users\\jrfbo\\anaconda3\\lib\\site-packages (from ipykernel>=6.5.0->jupyterlab<4.3,>=4.2.0->notebook>=4.2->jupyter-tabnine) (1.6.7)\n",
      "Requirement already satisfied: nest-asyncio in c:\\users\\jrfbo\\anaconda3\\lib\\site-packages (from ipykernel>=6.5.0->jupyterlab<4.3,>=4.2.0->notebook>=4.2->jupyter-tabnine) (1.6.0)\n",
      "Requirement already satisfied: psutil in c:\\users\\jrfbo\\anaconda3\\lib\\site-packages (from ipykernel>=6.5.0->jupyterlab<4.3,>=4.2.0->notebook>=4.2->jupyter-tabnine) (5.9.0)\n",
      "Requirement already satisfied: attrs>=22.2.0 in c:\\users\\jrfbo\\anaconda3\\lib\\site-packages (from jsonschema>=4.18.0->jupyterlab-server<3,>=2.27.1->notebook>=4.2->jupyter-tabnine) (23.1.0)\n",
      "Requirement already satisfied: jsonschema-specifications>=2023.03.6 in c:\\users\\jrfbo\\anaconda3\\lib\\site-packages (from jsonschema>=4.18.0->jupyterlab-server<3,>=2.27.1->notebook>=4.2->jupyter-tabnine) (2023.7.1)\n",
      "Requirement already satisfied: referencing>=0.28.4 in c:\\users\\jrfbo\\anaconda3\\lib\\site-packages (from jsonschema>=4.18.0->jupyterlab-server<3,>=2.27.1->notebook>=4.2->jupyter-tabnine) (0.30.2)\n",
      "Requirement already satisfied: rpds-py>=0.7.1 in c:\\users\\jrfbo\\anaconda3\\lib\\site-packages (from jsonschema>=4.18.0->jupyterlab-server<3,>=2.27.1->notebook>=4.2->jupyter-tabnine) (0.10.6)\n",
      "Requirement already satisfied: python-dateutil>=2.8.2 in c:\\users\\jrfbo\\anaconda3\\lib\\site-packages (from jupyter-client>=7.4.4->jupyter-server<3,>=2.4.0->notebook>=4.2->jupyter-tabnine) (2.9.0.post0)\n",
      "Requirement already satisfied: python-json-logger>=2.0.4 in c:\\users\\jrfbo\\anaconda3\\lib\\site-packages (from jupyter-events>=0.9.0->jupyter-server<3,>=2.4.0->notebook>=4.2->jupyter-tabnine) (2.0.7)\n",
      "Requirement already satisfied: pyyaml>=5.3 in c:\\users\\jrfbo\\anaconda3\\lib\\site-packages (from jupyter-events>=0.9.0->jupyter-server<3,>=2.4.0->notebook>=4.2->jupyter-tabnine) (6.0.1)\n",
      "Requirement already satisfied: rfc3339-validator in c:\\users\\jrfbo\\anaconda3\\lib\\site-packages (from jupyter-events>=0.9.0->jupyter-server<3,>=2.4.0->notebook>=4.2->jupyter-tabnine) (0.1.4)\n",
      "Requirement already satisfied: rfc3986-validator>=0.1.1 in c:\\users\\jrfbo\\anaconda3\\lib\\site-packages (from jupyter-events>=0.9.0->jupyter-server<3,>=2.4.0->notebook>=4.2->jupyter-tabnine) (0.1.1)\n",
      "Requirement already satisfied: charset-normalizer<4,>=2 in c:\\users\\jrfbo\\anaconda3\\lib\\site-packages (from requests>=2.31->jupyterlab-server<3,>=2.27.1->notebook>=4.2->jupyter-tabnine) (3.3.2)\n",
      "Requirement already satisfied: urllib3<3,>=1.21.1 in c:\\users\\jrfbo\\anaconda3\\lib\\site-packages (from requests>=2.31->jupyterlab-server<3,>=2.27.1->notebook>=4.2->jupyter-tabnine) (2.2.3)\n",
      "Collecting fqdn (from jsonschema[format-nongpl]>=4.18.0->jupyter-events>=0.9.0->jupyter-server<3,>=2.4.0->notebook>=4.2->jupyter-tabnine)\n",
      "  Using cached fqdn-1.5.1-py3-none-any.whl.metadata (1.4 kB)\n",
      "Collecting isoduration (from jsonschema[format-nongpl]>=4.18.0->jupyter-events>=0.9.0->jupyter-server<3,>=2.4.0->notebook>=4.2->jupyter-tabnine)\n",
      "  Using cached isoduration-20.11.0-py3-none-any.whl.metadata (5.7 kB)\n",
      "Requirement already satisfied: jsonpointer>1.13 in c:\\users\\jrfbo\\anaconda3\\lib\\site-packages (from jsonschema[format-nongpl]>=4.18.0->jupyter-events>=0.9.0->jupyter-server<3,>=2.4.0->notebook>=4.2->jupyter-tabnine) (2.1)\n",
      "Collecting uri-template (from jsonschema[format-nongpl]>=4.18.0->jupyter-events>=0.9.0->jupyter-server<3,>=2.4.0->notebook>=4.2->jupyter-tabnine)\n",
      "  Using cached uri_template-1.3.0-py3-none-any.whl.metadata (8.8 kB)\n",
      "Collecting webcolors>=24.6.0 (from jsonschema[format-nongpl]>=4.18.0->jupyter-events>=0.9.0->jupyter-server<3,>=2.4.0->notebook>=4.2->jupyter-tabnine)\n",
      "  Using cached webcolors-24.11.1-py3-none-any.whl.metadata (2.2 kB)\n",
      "Requirement already satisfied: cffi>=1.0.1 in c:\\users\\jrfbo\\anaconda3\\lib\\site-packages (from argon2-cffi-bindings->argon2-cffi>=21.1->jupyter-server<3,>=2.4.0->notebook>=4.2->jupyter-tabnine) (1.17.1)\n",
      "Requirement already satisfied: pycparser in c:\\users\\jrfbo\\anaconda3\\lib\\site-packages (from cffi>=1.0.1->argon2-cffi-bindings->argon2-cffi>=21.1->jupyter-server<3,>=2.4.0->notebook>=4.2->jupyter-tabnine) (2.21)\n",
      "Requirement already satisfied: arrow>=0.15.0 in c:\\users\\jrfbo\\anaconda3\\lib\\site-packages (from isoduration->jsonschema[format-nongpl]>=4.18.0->jupyter-events>=0.9.0->jupyter-server<3,>=2.4.0->notebook>=4.2->jupyter-tabnine) (1.2.3)\n",
      "Downloading jupyter_tabnine-1.2.3-py2.py3-none-any.whl (21 kB)\n",
      "Using cached webcolors-24.11.1-py3-none-any.whl (14 kB)\n",
      "Using cached fqdn-1.5.1-py3-none-any.whl (9.1 kB)\n",
      "Using cached isoduration-20.11.0-py3-none-any.whl (11 kB)\n",
      "Using cached uri_template-1.3.0-py3-none-any.whl (11 kB)\n",
      "Installing collected packages: webcolors, uri-template, fqdn, isoduration, jupyter-tabnine\n",
      "Successfully installed fqdn-1.5.1 isoduration-20.11.0 jupyter-tabnine-1.2.3 uri-template-1.3.0 webcolors-24.11.1\n",
      "Note: you may need to restart the kernel to use updated packages.\n"
     ]
    }
   ],
   "source": [
    "%pip install jupyter-tabnine\n"
   ]
  },
  {
   "cell_type": "markdown",
   "id": "94fefd46-2993-406b-ae57-bcb2c1719094",
   "metadata": {
    "vscode": {
     "languageId": "plaintext"
    }
   },
   "source": [
    "## Opção 1: Usando %pip install (recomendado)\n",
    "A partir do IPython 7.3, o Jupyter oferece o comando mágico %pip, que garante que o pacote seja instalado no mesmo ambiente Python usado pelo notebook:\n",
    "\n",
    "%pip install jupyter-tabnine\n",
    "\n",
    "Após instalar um pacote, é recomendável reiniciar o kernel do notebook (menu Kernel → Restart) para garantir que o pacote seja carregado corretamente."
   ]
  },
  {
   "cell_type": "markdown",
   "id": "e696a440",
   "metadata": {},
   "source": []
  }
 ],
 "metadata": {
  "kernelspec": {
   "display_name": "Python 3 (ipykernel)",
   "language": "python",
   "name": "python3"
  },
  "language_info": {
   "codemirror_mode": {
    "name": "ipython",
    "version": 3
   },
   "file_extension": ".py",
   "mimetype": "text/x-python",
   "name": "python",
   "nbconvert_exporter": "python",
   "pygments_lexer": "ipython3",
   "version": "3.12.7"
  }
 },
 "nbformat": 4,
 "nbformat_minor": 5
}
