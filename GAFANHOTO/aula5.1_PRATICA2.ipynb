{
 "cells": [
  {
   "cell_type": "markdown",
   "id": "d2c3b404",
   "metadata": {},
   "source": [
    "posso importar só o módulo\n",
    "\n",
    "from math import sqrt, floor\n",
    "\n",
    "num = float(input(\"Digite um número para saber sua raiz quadrada: \"))\n",
    "raiz = sqrt(num)  # NÃO HÁ NECESSIDADE DE CHAMAR MATH.SRRT() OU MATH.FLOOR()\n",
    "baixo = floor(raiz)\n",
    "print(f'A raiz arredonda para baixo é {baixo}')"
   ]
  },
  {
   "cell_type": "markdown",
   "id": "18a918c6",
   "metadata": {},
   "source": []
  },
  {
   "cell_type": "code",
   "execution_count": null,
   "id": "ebb95aef",
   "metadata": {
    "vscode": {
     "languageId": "plaintext"
    }
   },
   "outputs": [],
   "source": []
  },
  {
   "cell_type": "markdown",
   "id": "e696a440",
   "metadata": {},
   "source": []
  }
 ],
 "metadata": {
  "language_info": {
   "name": "python"
  }
 },
 "nbformat": 4,
 "nbformat_minor": 5
}
