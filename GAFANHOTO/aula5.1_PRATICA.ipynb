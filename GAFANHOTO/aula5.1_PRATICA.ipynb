{
 "cells": [
  {
   "cell_type": "code",
   "execution_count": 1,
   "id": "38940bbe",
   "metadata": {},
   "outputs": [],
   "source": [
    "import math"
   ]
  },
  {
   "cell_type": "code",
   "execution_count": null,
   "id": "06796498",
   "metadata": {},
   "outputs": [
    {
     "name": "stdout",
     "output_type": "stream",
     "text": [
      "A raiz quadradade de 85.0 é 9.22\n",
      "CEIL: A raiz quadradade de 85.0 é 10.00\n",
      "FLOOR: A raiz quadradade de 85.0 é 9.00\n",
      "TRUNC: A raiz quadradade de 85.0 é 9.00\n"
     ]
    }
   ],
   "source": [
    "num = float(input(\"Enter a number: \"))\n",
    "raiz = math.sqrt(num)\n",
    "print(f'A raiz quadradade de {num} é {raiz:.2f}')\n",
    "\n",
    "print(f'\\nCEIL: A raiz quadradade de {num} é {math.ceil(raiz):.2f}')\n",
    "print(f'\\nFLOOR: A raiz quadradade de {num} é {math.floor(raiz):.2f}')\n",
    "print(f'\\nTRUNC: A raiz quadradade de {num} é {math.trunc(raiz):.2f}')\n",
    "\n",
    "\n",
    "\"\"\" A raiz quadradade de 85.0 é 9.22\n",
    "CEIL: A raiz quadradade de 85.0 é 10.00\n",
    "FLOOR: A raiz quadradade de 85.0 é 9.00\n",
    "TRUNC: A raiz quadradade de 85.0 é 9.00 \"\"\""
   ]
  },
  {
   "cell_type": "code",
   "execution_count": null,
   "id": "6cb2fe94",
   "metadata": {},
   "outputs": [],
   "source": [
    "\n"
   ]
  },
  {
   "cell_type": "code",
   "execution_count": null,
   "id": "865750d7",
   "metadata": {},
   "outputs": [],
   "source": []
  },
  {
   "cell_type": "code",
   "execution_count": null,
   "id": "cdea5d34",
   "metadata": {},
   "outputs": [],
   "source": []
  }
 ],
 "metadata": {
  "kernelspec": {
   "display_name": ".venv",
   "language": "python",
   "name": "python3"
  },
  "language_info": {
   "codemirror_mode": {
    "name": "ipython",
    "version": 3
   },
   "file_extension": ".py",
   "mimetype": "text/x-python",
   "name": "python",
   "nbconvert_exporter": "python",
   "pygments_lexer": "ipython3",
   "version": "3.13.3"
  }
 },
 "nbformat": 4,
 "nbformat_minor": 5
}
