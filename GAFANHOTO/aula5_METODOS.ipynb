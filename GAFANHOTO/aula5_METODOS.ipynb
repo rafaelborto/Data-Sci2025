{
 "cells": [
  {
   "cell_type": "markdown",
   "id": "c7ff4b27",
   "metadata": {},
   "source": [
    "import doces\n",
    "import bebidas\n",
    "\n",
    "from bebidas import refrigerante\n",
    "from doces import pudim\n",
    "\n",
    "alguns métodos matemáticos\n",
    "\n",
    ".ceil() = arredonda pra cima\n",
    ".floor() = arredonda pra baixo \n",
    ".trunc() = só mostra a parte inteira\n",
    ".pow() = pontência\n",
    ". sqrt = raiz quadrada\n",
    ". factorial = fatorial\n",
    "\n"
   ]
  }
 ],
 "metadata": {
  "language_info": {
   "name": "python"
  }
 },
 "nbformat": 4,
 "nbformat_minor": 5
}
