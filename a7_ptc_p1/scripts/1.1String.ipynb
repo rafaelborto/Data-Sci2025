{
 "cells": [
  {
   "cell_type": "markdown",
   "id": "6aaa632e-8638-423e-a5c7-2450766aba14",
   "metadata": {},
   "source": [
    "<h1>STRING METHODS</h1>"
   ]
  },
  {
   "cell_type": "markdown",
   "id": "84794730-876b-4bf5-9499-2dc9f92a5de2",
   "metadata": {
    "jp-MarkdownHeadingCollapsed": true
   },
   "source": [
    "<h2>capitalize()\tConverts the first character to upper case</h2>"
   ]
  },
  {
   "cell_type": "code",
   "execution_count": 5,
   "id": "b59b9241-54ff-455a-9bad-c3862fe2127a",
   "metadata": {},
   "outputs": [
    {
     "name": "stdout",
     "output_type": "stream",
     "text": [
      "Ciao, benvenuto al mio mondo!\n"
     ]
    }
   ],
   "source": [
    "txt1 = \"ciao, benvenuto al mio mondo!\"\n",
    "print(txt1.capitalize())"
   ]
  },
  {
   "cell_type": "code",
   "execution_count": 9,
   "id": "4419770e-1ee9-4f74-a30d-74defa2044cc",
   "metadata": {},
   "outputs": [
    {
     "name": "stdout",
     "output_type": "stream",
     "text": [
      "In italia si mangia benissimo!\n"
     ]
    }
   ],
   "source": [
    "# The first character is converted to upper case, and... \n",
    "# ALL THE REST are converted to lower case:\n",
    "\n",
    "txt2 = \"in ITALIA si mangia benissimo!\"\n",
    "print(txt2.capitalize())"
   ]
  },
  {
   "cell_type": "markdown",
   "id": "016a13d4-766e-44c2-8a58-e84c22e392cd",
   "metadata": {
    "jp-MarkdownHeadingCollapsed": true
   },
   "source": [
    "<h2>casefold()\tConverts string into lower case</h2>"
   ]
  },
  {
   "cell_type": "code",
   "execution_count": 12,
   "id": "65d000aa-26a7-4b3a-a8d6-031d8a1a5624",
   "metadata": {},
   "outputs": [
    {
     "name": "stdout",
     "output_type": "stream",
     "text": [
      "io mi chiamo bortoletto!\n"
     ]
    }
   ],
   "source": [
    "txt3 = \"Io mi chiamo BorToLeTTo!\"\n",
    "print(txt3.casefold())"
   ]
  },
  {
   "cell_type": "markdown",
   "id": "758001e5-84c7-4dfe-a3ed-bfebd6d1ac63",
   "metadata": {},
   "source": [
    "Definition and Usage\n",
    "\n",
    "The casefold() method returns a string where all the characters are lower case.\n",
    "\n",
    "This method is similar to the lower() method, but the casefold() method IS STRONGER, more aggressive, meaning that it will CONVERT MORE CHARACTERS into lower case, and will FIND MORE MATCHES when comparing two strings and both are converted using the casefold() method."
   ]
  },
  {
   "cell_type": "markdown",
   "id": "17f29808-35d6-4c8f-b41a-122a4f5040b6",
   "metadata": {
    "jp-MarkdownHeadingCollapsed": true
   },
   "source": [
    "<h2>center()\tReturns a centered string</h2>"
   ]
  },
  {
   "cell_type": "markdown",
   "id": "5b790779-553a-4eca-907c-e82d806abf63",
   "metadata": {},
   "source": [
    "Example\n",
    "\n",
    "Print the word \"banana\", taking up the space of 20 characters, with \"banana\" in the middle:"
   ]
  },
  {
   "cell_type": "code",
   "execution_count": 31,
   "id": "1308d947-9818-437f-bcdc-757b9f329733",
   "metadata": {},
   "outputs": [
    {
     "name": "stdout",
     "output_type": "stream",
     "text": [
      "       BANANA       \n"
     ]
    }
   ],
   "source": [
    "txt4 = \"BANANA\"\n",
    "txt5 = txt4.center(20)\n",
    "print(txt5)"
   ]
  },
  {
   "cell_type": "markdown",
   "id": "333788ef-2673-46ee-8f17-1d11086364f6",
   "metadata": {},
   "source": [
    "Definition and Usage\n",
    "\n",
    "The center() method will center align the string, using a specified character (space is default) as the fill character.\n",
    "\n",
    "Syntax\n",
    "\n",
    "Parameter Values\n",
    "\n",
    "string.center(length, character) /\n",
    "\n",
    "Parameter\tDescription\n",
    "\n",
    "length\tRequired. The length of the returned string\n",
    "\n",
    "character\tOptional. The character to fill the missing space on each side. Default is \" \" (space)\n",
    "\n"
   ]
  },
  {
   "cell_type": "code",
   "execution_count": 37,
   "id": "1e11937a-2f95-4a5b-8d1f-61d51d1cd6e3",
   "metadata": {},
   "outputs": [
    {
     "name": "stdout",
     "output_type": "stream",
     "text": [
      "*******BANANA******\n"
     ]
    }
   ],
   "source": [
    "txt6 = txt4.center(19, \"*\") #com 19 *, fica 7* na PRIMEIRA PARTE e 6* na SEGUNDA PARTE, DEPOIS DA PALAVRA BANANA.\n",
    "print(txt6)"
   ]
  },
  {
   "cell_type": "markdown",
   "id": "f9e6dccd-7346-439a-9a22-5e929f2a2c76",
   "metadata": {
    "jp-MarkdownHeadingCollapsed": true
   },
   "source": [
    "<h2>count()\tReturns the number of times a specified value occurs in a string</h2>"
   ]
  },
  {
   "cell_type": "code",
   "execution_count": 43,
   "id": "b514f82b-94e7-4b30-8cd7-f71f7762c257",
   "metadata": {},
   "outputs": [
    {
     "name": "stdout",
     "output_type": "stream",
     "text": [
      "2\n"
     ]
    }
   ],
   "source": [
    "# Return the number of times the value \"apple\" appears in the string:\n",
    "txt7 = \"I love apples, apple are my favorite fruit\"\n",
    "print(txt7.count(\"apple\"))"
   ]
  },
  {
   "cell_type": "markdown",
   "id": "e35c22c2-7916-4af7-bbbe-7e5d126df557",
   "metadata": {},
   "source": [
    "Definition and Usage\n",
    "\n",
    "The count() method returns the number of times a specified value appears in the string.\n",
    "\n",
    "Parameter Values\n",
    "Syntax: string.count(value, start, end)\n",
    "\n",
    "value\tRequired. A String. The string to value to search for\n",
    "\n",
    "start\tOptional. An Integer. The position to start the search. Default is 0\n",
    "\n",
    "end\tOptional. An Integer. The position to end the search. Default is the end of the string"
   ]
  },
  {
   "cell_type": "code",
   "execution_count": 52,
   "id": "16650259-dea5-41e6-bc74-2701479b8503",
   "metadata": {},
   "outputs": [
    {
     "name": "stdout",
     "output_type": "stream",
     "text": [
      "1\n"
     ]
    }
   ],
   "source": [
    "# Search from position 10 to 24:\n",
    "\n",
    "print(txt7.count(\"apple\", 10, 24))"
   ]
  },
  {
   "cell_type": "markdown",
   "id": "9f8dd1e4-52f9-4d4c-9d25-18ddc3d8736b",
   "metadata": {
    "jp-MarkdownHeadingCollapsed": true
   },
   "source": [
    "<h2>encode()\tReturns an encoded version of the string</h2>"
   ]
  },
  {
   "cell_type": "code",
   "execution_count": 56,
   "id": "7c670157-1d81-4ee8-a46d-dbfb0de90d3c",
   "metadata": {},
   "outputs": [
    {
     "name": "stdout",
     "output_type": "stream",
     "text": [
      "b'My name is St\\xc3\\xa5le Flor\\xc3\\xaan\\xc3\\xa7io'\n"
     ]
    }
   ],
   "source": [
    "# Example\n",
    "# UTF-8 encode the string:\n",
    "\n",
    "txt8 = \"My name is Ståle Florênçio\"\n",
    "print(txt8.encode())"
   ]
  },
  {
   "attachments": {
    "1c6584a7-559a-4895-93d1-8ba7b75da248.png": {
     "image/png": "[encoded data removed]"
    }
   },
   "cell_type": "markdown",
   "id": "8e60169a-22c4-4de1-860d-5107f9c9c1d0",
   "metadata": {},
   "source": [
    "Definition and Usage\n",
    "\n",
    "The encode() method encodes the string, using the specified encoding. If no encoding is specified, UTF-8 will be used.\n",
    "\n",
    "Syntax: \n",
    "string.encode(encoding=encoding, errors=errors)\n",
    "\n",
    "Parameter\tDescription\n",
    "\n",
    "encoding\tOptional. A String specifying the encoding to use. Default is UTF-8\n",
    "errors\tOptional. A String specifying the error method. Legal values are:\n",
    "\n",
    "![image.png](attachment:1c6584a7-559a-4895-93d1-8ba7b75da248.png)\n"
   ]
  },
  {
   "cell_type": "code",
   "execution_count": 59,
   "id": "eb919f14-02e5-4843-a21b-3805c01d9152",
   "metadata": {},
   "outputs": [
    {
     "name": "stdout",
     "output_type": "stream",
     "text": [
      "b'My name is St\\\\xe5le'\n",
      "b'My name is Stle'\n",
      "b'My name is St\\\\N{LATIN SMALL LETTER A WITH RING ABOVE}le'\n",
      "b'My name is St?le'\n",
      "b'My name is St&#229;le'\n"
     ]
    }
   ],
   "source": [
    "# More Examples\n",
    "\n",
    "# These examples uses ascii encoding, and a character that cannot be encoded, showing the result with different errors:\n",
    "\n",
    "txt9 = \"My name is Ståle\"\n",
    "\n",
    "print(txt9.encode(encoding=\"ascii\",errors=\"backslashreplace\"))\n",
    "print(txt9.encode(encoding=\"ascii\",errors=\"ignore\"))\n",
    "print(txt9.encode(encoding=\"ascii\",errors=\"namereplace\"))\n",
    "print(txt9.encode(encoding=\"ascii\",errors=\"replace\"))\n",
    "print(txt9.encode(encoding=\"ascii\",errors=\"xmlcharrefreplace\"))"
   ]
  },
  {
   "cell_type": "code",
   "execution_count": null,
   "id": "cd4181c6-5592-48c8-b5c3-b0135c6d5fd8",
   "metadata": {},
   "outputs": [],
   "source": []
  }
 ],
 "metadata": {
  "kernelspec": {
   "display_name": "Python [conda env:base] *",
   "language": "python",
   "name": "conda-base-py"
  },
  "language_info": {
   "codemirror_mode": {
    "name": "ipython",
    "version": 3
   },
   "file_extension": ".py",
   "mimetype": "text/x-python",
   "name": "python",
   "nbconvert_exporter": "python",
   "pygments_lexer": "ipython3",
   "version": "3.12.7"
  }
 },
 "nbformat": 4,
 "nbformat_minor": 5
}
