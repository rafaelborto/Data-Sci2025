{
 "cells": [
  {
   "cell_type": "markdown",
   "id": "58109dc3",
   "metadata": {},
   "source": [
    "# for break continue"
   ]
  },
  {
   "cell_type": "code",
   "execution_count": 1,
   "id": "c14f54f4",
   "metadata": {},
   "outputs": [
    {
     "name": "stdout",
     "output_type": "stream",
     "text": [
      "****************************************\n",
      "Bem vindo ao jogo da adivinhação\n",
      "****************************************\n"
     ]
    }
   ],
   "source": [
    "print(40* \"*\")\n",
    "print(\"Bem vindo ao jogo da adivinhação\")\n",
    "print(40* \"*\")\n",
    "\n",
    "num_secreto  = 42\n",
    "chances = 3\n",
    "rodada = 1"
   ]
  },
  {
   "cell_type": "code",
   "execution_count": 2,
   "id": "65bc8cf6",
   "metadata": {},
   "outputs": [
    {
     "name": "stdout",
     "output_type": "stream",
     "text": [
      "Você tem 3 chances para acertar!\n",
      "Tentativa 1 de 3\n",
      "Digite o seu número entre 1 e 100: -1\n",
      "Você digitou -1.\n",
      "Esse número não é válido\n",
      "Tentativa 2 de 3\n",
      "Digite o seu número entre 1 e 100: 103\n",
      "Você digitou 103.\n",
      "Esse número não é válido\n",
      "Tentativa 3 de 3\n",
      "Digite o seu número entre 1 e 100: 42\n",
      "Você digitou 42.\n",
      "Você acertou! :)\n",
      "Fim de Jogo\n"
     ]
    }
   ],
   "source": [
    "print(\"Você tem\", chances, \"chances para acertar!\")\n",
    "\n",
    "for rodada in range(1, chances + 1):\n",
    "    \n",
    "    print(\"Tentativa {} de {}\".format(rodada, chances))\n",
    "    chute = int(input(\"Digite o seu número entre 1 e 100: \"))\n",
    "    print(\"Você digitou\", chute, end='.')\n",
    "    \n",
    "    if chute < 1 or chute > 100:\n",
    "        print(\"\\nEsse número não é válido\")\n",
    "        continue\n",
    "\n",
    "    acertou = chute == num_secreto\n",
    "    maior = chute > num_secreto\n",
    "    menor = chute < num_secreto\n",
    "\n",
    "    if acertou:\n",
    "        print(\"\\nVocê acertou! :)\")\n",
    "        break\n",
    "    else:\n",
    "        if maior:\n",
    "            print(\"\\nSeu chute foi maior do que o número. Você errou! :(\")\n",
    "        elif menor:\n",
    "            print(\"\\nSeu chute foi menor do que o número. Você errou! :(\")\n",
    "print(\"Fim de Jogo\")"
   ]
  },
  {
   "cell_type": "code",
   "execution_count": null,
   "id": "2cbf3969",
   "metadata": {},
   "outputs": [],
   "source": []
  },
  {
   "cell_type": "code",
   "execution_count": null,
   "id": "edf2fe3f",
   "metadata": {},
   "outputs": [],
   "source": []
  },
  {
   "cell_type": "code",
   "execution_count": null,
   "id": "2e29e1d4",
   "metadata": {},
   "outputs": [],
   "source": []
  }
 ],
 "metadata": {
  "kernelspec": {
   "display_name": "Python 3 (ipykernel)",
   "language": "python",
   "name": "python3"
  },
  "language_info": {
   "codemirror_mode": {
    "name": "ipython",
    "version": 3
   },
   "file_extension": ".py",
   "mimetype": "text/x-python",
   "name": "python",
   "nbconvert_exporter": "python",
   "pygments_lexer": "ipython3",
   "version": "3.9.7"
  }
 },
 "nbformat": 4,
 "nbformat_minor": 5
}
